{
 "cells": [
  {
   "cell_type": "markdown",
   "metadata": {},
   "source": [
    "*Note: This file is provided in two formats: \n",
    "Python (simpleExample.py) and a Jupyter \n",
    "notebook (simpleExample.ipynb).  The \n",
    "Jupyter notebook opens in a web browser and \n",
    "includes plots in an interactive format.  To \n",
    "open the .ipynb file, run:*\n",
    "    \n",
    "    jupyter notebook simpleExample.ipynb\n",
    "\n",
    "*To run the .py file in iPython at the command line, run:*\n",
    "\n",
    "    ipython\n",
    "    %run simpleExample.py\n",
    "    plt.show()"
   ]
  },
  {
   "cell_type": "markdown",
   "metadata": {},
   "source": [
    "simpleExample.ipynb\n",
    "-------------------\n",
    "\n",
    "- Bryan Daniels\n",
    "\n",
    "- 1.29.2014; updated 1.18.2019; updated 4.14.2022\n",
    "\n",
    "- Uses a simple 1D harmonic oscillator example to demonstrate usage of SirIsaac."
   ]
  },
  {
   "cell_type": "code",
   "execution_count": 1,
   "metadata": {},
   "outputs": [
    {
     "name": "stdout",
     "output_type": "stream",
     "text": [
      "Failed to import libsbml.\n",
      "SBML import and export not available.\n",
      "Failed to import pygraphviz.  Network figures unavailable.\n"
     ]
    }
   ],
   "source": [
    "import numpy as np\n",
    "from matplotlib import pyplot as plt\n",
    "from SirIsaac import fittingProblem"
   ]
  },
  {
   "cell_type": "markdown",
   "metadata": {},
   "source": [
    "Load example data\n",
    "-----------------"
   ]
  },
  {
   "cell_type": "markdown",
   "metadata": {},
   "source": [
    "In the example data file, we have four columns, each with 100 data points, listing:\n",
    "\n",
    "* Initial condition *x_init*\n",
    "* Measurement time *t*\n",
    "* Measurement value *x*\n",
    "* Measurement uncertainty (standard deviation)"
   ]
  },
  {
   "cell_type": "code",
   "execution_count": 2,
   "metadata": {},
   "outputs": [],
   "source": [
    "data = np.loadtxt('simpleExample_data.txt')"
   ]
  },
  {
   "cell_type": "markdown",
   "metadata": {},
   "source": [
    "We now put this in a format compatible with SirIsaac.  First we make a list of input values (in this case initial conditions):\n",
    "\n"
   ]
  },
  {
   "cell_type": "code",
   "execution_count": 3,
   "metadata": {},
   "outputs": [],
   "source": [
    "indepParamsList = [ [ expt[0] ] for expt in data ]"
   ]
  },
  {
   "cell_type": "code",
   "execution_count": 4,
   "metadata": {},
   "outputs": [
    {
     "data": {
      "text/plain": [
       "[[1.1272274339047885], [1.403399302209734], [1.140086651015479]]"
      ]
     },
     "execution_count": 4,
     "metadata": {},
     "output_type": "execute_result"
    }
   ],
   "source": [
    "indepParamsList[:3]"
   ]
  },
  {
   "cell_type": "markdown",
   "metadata": {},
   "source": [
    "Next, we have a corresponding list of data taken at each of those input values, in the format below.  In this case, we only have one variable *x*.  (Note: In general, multiple timepoints could be also be measured at each input value; in all of our examples, we measure all variables at a single timepoint per input value.)"
   ]
  },
  {
   "cell_type": "code",
   "execution_count": 5,
   "metadata": {},
   "outputs": [],
   "source": [
    "# [ {'var1': { time0: ( value, uncertainty ) },\n",
    "#    'var2': { time0: ( value, uncertainty ) },\n",
    "#     ... },\n",
    "#   {'var1': { time1: ( value, uncertainty ) },\n",
    "#    'var2': { time1: ( value, uncertainty ) },\n",
    "#     ... },\n",
    "#   ... ]"
   ]
  },
  {
   "cell_type": "code",
   "execution_count": 6,
   "metadata": {},
   "outputs": [],
   "source": [
    "sirIsaacData = []\n",
    "for expt in data:\n",
    "    sirIsaacData.append( { 'x': { expt[1]: ( expt[2], expt[3] ) } } )"
   ]
  },
  {
   "cell_type": "code",
   "execution_count": 43,
   "metadata": {},
   "outputs": [],
   "source": [
    "# 2022.4.15 try adding datapoint at a long time with large error bar\n",
    "#           to force the model to be integrable for at least that long\n",
    "sirIsaacData = []\n",
    "largeTime,largeTimeErr = 2.,1e6\n",
    "for IC,t,val,valErr in data:\n",
    "    sirIsaacData.append( { 'x': { t: ( val, valErr ) ,\n",
    "                                  largeTime: ( 0, largeTimeErr ) } \n",
    "                         } )"
   ]
  },
  {
   "cell_type": "code",
   "execution_count": 44,
   "metadata": {},
   "outputs": [
    {
     "data": {
      "text/plain": [
       "[{'x': {0.5454701510335127: (1.2623428576416922, 0.1), 2.0: (0, 1000000.0)}},\n",
       " {'x': {0.17186531503221092: (2.018996005787428, 0.1), 2.0: (0, 1000000.0)}},\n",
       " {'x': {0.8529318094853018: (1.371899809743871, 0.1), 2.0: (0, 1000000.0)}}]"
      ]
     },
     "execution_count": 44,
     "metadata": {},
     "output_type": "execute_result"
    }
   ],
   "source": [
    "sirIsaacData[:3]"
   ]
  },
  {
   "cell_type": "markdown",
   "metadata": {},
   "source": [
    "Finally, SirIsaac will need to know what to call the input and output values.  In this case, the input corresponds to the initial value of *x*.  The way to indicate this to SirIsaac is by using the name 'x_init', where 'x' is the name of the corresponding variable.\n",
    "\n",
    "Here we have one input and one output:"
   ]
  },
  {
   "cell_type": "code",
   "execution_count": 31,
   "metadata": {},
   "outputs": [],
   "source": [
    "outputNames = ['x']\n",
    "indepParamNames = ['x_init']"
   ]
  },
  {
   "cell_type": "markdown",
   "metadata": {},
   "source": [
    "Create SirIsaac FittingProblem\n",
    "------------------------------"
   ]
  },
  {
   "cell_type": "markdown",
   "metadata": {},
   "source": [
    "We'll attempt to fit a model in the power law class.  To do this, we'll create an instance of a PowerLawFittingProblem.  Here we set up its arguments and create it:"
   ]
  },
  {
   "cell_type": "code",
   "execution_count": 45,
   "metadata": {},
   "outputs": [],
   "source": [
    "# complexityList lists which models in the model class may be tested.\n",
    "# (Note that by default SirIsaac will still stop once 3 models have \n",
    "#  smaller estimated log-likelihood.)\n",
    "complexityStepsize = 2 # increase complexity with steps of size 2\n",
    "complexityMax = 25 # don't try models with complexity > 25\n",
    "complexityList = range(0,complexityMax,complexityStepsize) \n",
    "\n",
    "# ensGen controls the generation of the initial ensemble of \n",
    "# parameter starting points.\n",
    "totalSteps = 1e3\n",
    "keepSteps = 10\n",
    "seeds = (1,1) # use a fixed random seed\n",
    "ensTemperature = 100.\n",
    "ensGen = fittingProblem.EnsembleGenerator( totalSteps, keepSteps,\n",
    "    temperature=ensTemperature, seeds=seeds )\n",
    "\n",
    "# Parameters that control when local fitting stops.\n",
    "avegtol = 1e-2\n",
    "maxiter = 100\n",
    "\n",
    "# priorSigma controls the width of priors on all parameters\n",
    "priorSigma = 3.\n",
    "\n",
    "# If you have mpi4py installed, you can run on multiple processors\n",
    "numprocs = 4 #10\n",
    "\n",
    "# We'll only use a subset of our data to make the example run faster\n",
    "N = 20\n",
    "\n",
    "p = fittingProblem.PowerLawFittingProblem( complexityList, \n",
    "    sirIsaacData[:N], indepParamsList=indepParamsList[:N], \n",
    "    outputNames=outputNames, indepParamNames=indepParamNames, \n",
    "    ensGen=ensGen, avegtol=avegtol, maxiter=maxiter,\n",
    "    priorSigma=priorSigma, numprocs=numprocs, verbose=True )"
   ]
  },
  {
   "cell_type": "code",
   "execution_count": null,
   "metadata": {},
   "outputs": [],
   "source": [
    "# BCD testing"
   ]
  },
  {
   "cell_type": "code",
   "execution_count": null,
   "metadata": {},
   "outputs": [],
   "source": [
    "# try with CTSN\n",
    "pCTSN = fittingProblem.CTSNFittingProblem( complexityList, \n",
    "    sirIsaacData[:N], indepParamsList=indepParamsList[:N], \n",
    "    outputNames=outputNames, indepParamNames=indepParamNames, \n",
    "    ensGen=ensGen, avegtol=avegtol, maxiter=maxiter,\n",
    "    priorSigma=priorSigma, numprocs=numprocs, verbose=True )"
   ]
  },
  {
   "cell_type": "code",
   "execution_count": null,
   "metadata": {},
   "outputs": [],
   "source": [
    "# END BCD testing"
   ]
  },
  {
   "cell_type": "markdown",
   "metadata": {},
   "source": [
    "Run parameter fitting\n",
    "---------------------"
   ]
  },
  {
   "cell_type": "markdown",
   "metadata": {},
   "source": [
    "The bulk of computation time is used to fit the parameters of each model to the data.  Uncomment the following lines to run the parameter fitting, which takes a few hours using 10 processors.  Or skip ahead to load a version that has already been fit."
   ]
  },
  {
   "cell_type": "code",
   "execution_count": 46,
   "metadata": {},
   "outputs": [
    {
     "name": "stdout",
     "output_type": "stream",
     "text": [
      "SloppyCellFittingModel.fitToData: generating ensemble for these parameters: ['log_beta_0', 'g_0_0']\n",
      "generateEnsemble_parallel: Generating parameter ensemble with 1000.0 total members, using 4 processors.\n",
      "SloppyCellFittingModel.fitToData: Cost = 463.29596633837554 ( 2 )\n",
      "SloppyCellFittingModel.fitToData: Cost = 463.29597443924484 ( 2 )\n",
      "SloppyCellFittingModel.fitToData: Cost = 463.2959784794242 ( 2 )\n",
      "SloppyCellFittingModel.fitToData: Cost = 463.29597875586796 ( 2 )\n",
      "SloppyCellFittingModel.fitToData: Cost = 463.2969852653402 ( 2 )\n",
      "SloppyCellFittingModel.fitToData: Cost = 463.29597679554485 ( 2 )\n",
      "SloppyCellFittingModel.fitToData: Cost = 463.29596235539873 ( 2 )\n",
      "SloppyCellFittingModel.fitToData: Cost = 463.2959753089623 ( 2 )\n",
      "SloppyCellFittingModel.fitToData: Cost = 439.9564136629441 ( 0 )\n",
      "SloppyCellFittingModel.fitToData: Cost = 439.95687365874903 ( 2 )\n",
      "SloppyCellFittingModel.fitToData: Best-fit cost =  439.9564136629441\n",
      "fittingProblem.fitAll: L = -224.07802472138536\n",
      "SloppyCellFittingModel.fitToData: generating ensemble for these parameters: ['log_alpha_0', 'log_beta_0', 'g_0_0', 'h_0_0']\n",
      "generateEnsemble_parallel: Generating parameter ensemble with 1000.0 total members, using 4 processors.\n",
      "SloppyCellFittingModel.fitToData: Cost = 417.61986815089915 ( 2 )\n",
      "SloppyCellFittingModel.fitToData: Cost = 514.4526411065744 ( 2 )\n",
      "SloppyCellFittingModel.fitToData: Cost = 514.4513126526917 ( 2 )\n",
      "SloppyCellFittingModel.fitToData: Cost = 514.4521596963554 ( 2 )\n",
      "SloppyCellFittingModel.fitToData: Cost = 514.451481678518 ( 2 )\n",
      "SloppyCellFittingModel.fitToData: Cost = 514.4513119879409 ( 2 )\n",
      "SloppyCellFittingModel.fitToData: Cost = 514.4515964440185 ( 2 )\n",
      "SloppyCellFittingModel.fitToData: Cost = 514.451311990789 ( 2 )\n",
      "SloppyCellFittingModel.fitToData: Cost = 514.4513118364509 ( 2 )\n",
      "SloppyCellFittingModel.fitToData: Cost = 269.2311735762131 ( 2 )\n",
      "SloppyCellFittingModel.fitToData: Best-fit cost =  269.2311735762131\n",
      "fittingProblem.fitAll: L = -139.0940526193333\n",
      "SloppyCellFittingModel.fitToData: generating ensemble for these parameters: ['log_alpha_0', 'log_beta_0', 'g_0_0', 'h_0_0', 'g_0_1', 'h_0_1', 'g_1_1']\n",
      "generateEnsemble_parallel: Generating parameter ensemble with 1000.0 total members, using 4 processors.\n",
      "SloppyCellFittingModel.fitToData: Cost = 514.4513116322765 ( 2 )\n",
      "SloppyCellFittingModel.fitToData: Cost = 514.4515651229849 ( 2 )\n",
      "SloppyCellFittingModel.fitToData: Cost = 2600.3790848385415 ( 4 )\n",
      "SloppyCellFittingModel.fitToData: Cost = 269.23116453737015 ( 2 )\n",
      "SloppyCellFittingModel.fitToData: Cost = 514.4514300709889 ( 2 )\n",
      "SloppyCellFittingModel.fitToData: Cost = 514.4513276507963 ( 2 )\n",
      "SloppyCellFittingModel.fitToData: Cost = 2633.238497418848 ( 4 )\n",
      "SloppyCellFittingModel.fitToData: Cost = 514.451348892416 ( 2 )\n",
      "SloppyCellFittingModel.fitToData: Cost = 269.2316095795531 ( 0 )\n",
      "SloppyCellFittingModel.fitToData: Cost = 269.2308007618375 ( 2 )\n",
      "SloppyCellFittingModel.fitToData: Best-fit cost =  269.2308007618375\n"
     ]
    },
    {
     "name": "stderr",
     "output_type": "stream",
     "text": [
      "/Users/bryandaniels/Desktop/SloppyCell/SloppyCell/ReactionNetworks/Dynamics.py:711: RuntimeWarning: divide by zero encountered in true_divide\n",
      "  ypIC[N_dyn_vars:] /= net.get_var_ic(opt_var)\n"
     ]
    },
    {
     "name": "stdout",
     "output_type": "stream",
     "text": [
      "fittingProblem.fitAll: L = -139.09525675071473\n",
      "SloppyCellFittingModel.fitToData: generating ensemble for these parameters: ['log_alpha_0', 'log_beta_0', 'g_0_0', 'h_0_0', 'g_0_1', 'h_0_1', 'g_1_1', 'g_1_0', 'h_1_0']\n",
      "generateEnsemble_parallel: Generating parameter ensemble with 1000.0 total members, using 4 processors.\n",
      "SloppyCellFittingModel.fitToData: Cost = 326.2570942533452 ( 1 )\n",
      "SloppyCellFittingModel.fitToData: Cost = 514.4513121892932 ( 2 )\n",
      "SloppyCellFittingModel.fitToData: Cost = 514.4514799592258 ( 2 )\n",
      "SloppyCellFittingModel.fitToData: Cost = 514.4514247726067 ( 2 )\n",
      "SloppyCellFittingModel.fitToData: Cost = 332.1656153458264 ( 1 )\n",
      "SloppyCellFittingModel.fitToData: Cost = 514.4513186558426 ( 2 )\n",
      "SloppyCellFittingModel.fitToData: Cost = 441.96249007859507 ( 3 )\n",
      "SloppyCellFittingModel.fitToData: Cost = 436.7601091081131 ( 0 )\n",
      "SloppyCellFittingModel.fitToData: Cost = 438.1388897892613 ( 0 )\n",
      "SloppyCellFittingModel.fitToData: Cost = 269.23079683034507 ( 2 )\n",
      "SloppyCellFittingModel.fitToData: Best-fit cost =  269.23079683034507\n"
     ]
    },
    {
     "name": "stderr",
     "output_type": "stream",
     "text": [
      "/Users/bryandaniels/Desktop/SloppyCell/SloppyCell/ReactionNetworks/Dynamics.py:711: RuntimeWarning: divide by zero encountered in true_divide\n",
      "  ypIC[N_dyn_vars:] /= net.get_var_ic(opt_var)\n"
     ]
    },
    {
     "name": "stdout",
     "output_type": "stream",
     "text": [
      "fittingProblem.fitAll: L = -139.09546982959063\n",
      "SloppyCellFittingModel.fitToData: generating ensemble for these parameters: ['log_alpha_0', 'log_beta_0', 'g_0_0', 'h_0_0', 'g_0_1', 'h_0_1', 'log_beta_1', 'g_1_1', 'h_1_1', 'g_1_0', 'h_1_0']\n",
      "generateEnsemble_parallel: Generating parameter ensemble with 1000.0 total members, using 4 processors.\n",
      "SloppyCellFittingModel.fitToData: Cost = 514.5624253372059 ( 2 )\n",
      "SloppyCellFittingModel.fitToData: Cost = 514.5654457024073 ( 2 )\n",
      "SloppyCellFittingModel.fitToData: Cost = 438.27901854661894 ( 1 )\n",
      "SloppyCellFittingModel.fitToData: Cost = 433.83812358520413 ( 4 )\n",
      "SloppyCellFittingModel.fitToData: Cost = 93.4127755044726 ( 1 )\n",
      "SloppyCellFittingModel.fitToData: Cost = 432.1507112226111 ( 4 )\n",
      "SloppyCellFittingModel.fitToData: Cost = 438.26780452341194 ( 0 )\n",
      "SloppyCellFittingModel.fitToData: Cost = 514.5624228774556 ( 2 )\n",
      "SloppyCellFittingModel.fitToData: Cost = 432.24831470056444 ( 4 )\n",
      "SloppyCellFittingModel.fitToData: Cost = 269.2307936316761 ( 2 )\n",
      "SloppyCellFittingModel.fitToData: Best-fit cost =  93.4127755044726\n",
      "fittingProblem.fitAll: L = -87.8723916004444\n",
      "SloppyCellFittingModel.fitToData: generating ensemble for these parameters: ['log_alpha_0', 'log_beta_0', 'g_0_0', 'h_0_0', 'g_0_1', 'h_0_1', 'g_0_2', 'log_alpha_1', 'log_beta_1', 'g_1_1', 'h_1_1', 'g_1_0', 'h_1_0', 'g_2_2']\n",
      "generateEnsemble_parallel: Generating parameter ensemble with 1000.0 total members, using 4 processors.\n",
      "SloppyCellFittingModel.fitToData: Cost = 97.07025851257411 ( 0 )\n",
      "SloppyCellFittingModel.fitToData: Cost = 103.01004132587472 ( 0 )\n",
      "SloppyCellFittingModel.fitToData: Cost = 96.76420451738986 ( 0 )\n",
      "SloppyCellFittingModel.fitToData: Cost = 102.96610044503369 ( 0 )\n",
      "SloppyCellFittingModel.fitToData: Cost = 98.10497408363275 ( 4 )\n",
      "SloppyCellFittingModel.fitToData: Cost = 105.89521839370775 ( 1 )\n",
      "SloppyCellFittingModel.fitToData: Cost = 92.48620460026221 ( 1 )\n",
      "SloppyCellFittingModel.fitToData: Cost = 95.78341042125314 ( 0 )\n",
      "SloppyCellFittingModel.fitToData: Cost = 154.59166238406223 ( 4 )\n",
      "SloppyCellFittingModel.fitToData: Cost = 93.35234883672048 ( 1 )\n",
      "SloppyCellFittingModel.fitToData: Best-fit cost =  92.48620460026221\n",
      "fittingProblem.fitAll: L = -86.62819313193154\n",
      "SloppyCellFittingModel.fitToData: generating ensemble for these parameters: ['log_alpha_0', 'log_beta_0', 'g_0_0', 'h_0_0', 'g_0_1', 'h_0_1', 'g_0_2', 'h_0_2', 'log_alpha_1', 'log_beta_1', 'g_1_1', 'h_1_1', 'g_1_0', 'h_1_0', 'g_2_2', 'g_2_0']\n",
      "generateEnsemble_parallel: Generating parameter ensemble with 1000.0 total members, using 4 processors.\n",
      "SloppyCellFittingModel.fitToData: Cost = 96.39691384991997 ( 4 )\n",
      "SloppyCellFittingModel.fitToData: Cost = 97.03060877193013 ( 0 )\n",
      "SloppyCellFittingModel.fitToData: Cost = 99.31519187614818 ( 4 )\n",
      "SloppyCellFittingModel.fitToData: Cost = 2493.917168436984 ( 3 )\n",
      "SloppyCellFittingModel.fitToData: Cost = 116.10516843130723 ( 4 )\n",
      "SloppyCellFittingModel.fitToData: Cost = 351.2667192144172 ( 4 )\n",
      "SloppyCellFittingModel.fitToData: Cost = 100.20617496942607 ( 4 )\n",
      "SloppyCellFittingModel.fitToData: Cost = 99.38216323153317 ( 4 )\n",
      "SloppyCellFittingModel.fitToData: Cost = 97.75962776618147 ( 1 )\n",
      "SloppyCellFittingModel.fitToData: Cost = 92.48628672298696 ( 1 )\n",
      "SloppyCellFittingModel.fitToData: Best-fit cost =  92.48628672298696\n",
      "SloppyCellFittingModel.fitToData: generating ensemble for these parameters: ['log_alpha_0', 'log_beta_0', 'g_0_0', 'h_0_0', 'g_0_1', 'h_0_1', 'g_0_2', 'h_0_2', 'log_alpha_1', 'log_beta_1', 'g_1_1', 'h_1_1', 'g_1_0', 'h_1_0', 'g_2_2', 'g_2_0']\n",
      "generateEnsemble_parallel: Generating parameter ensemble with 1000.0 total members, using 4 processors.\n",
      "SloppyCellFittingModel.fitToData: Cost = 96.39691384991997 ( 4 )\n",
      "SloppyCellFittingModel.fitToData: Cost = 97.03060877193013 ( 0 )\n",
      "SloppyCellFittingModel.fitToData: Cost = 99.31519117659495 ( 4 )\n",
      "SloppyCellFittingModel.fitToData: Cost = 2493.917168436984 ( 3 )\n",
      "SloppyCellFittingModel.fitToData: Cost = 116.10516843130723 ( 4 )\n",
      "SloppyCellFittingModel.fitToData: Cost = 351.26667706417663 ( 4 )\n",
      "SloppyCellFittingModel.fitToData: Cost = 100.20617496942607 ( 4 )\n",
      "SloppyCellFittingModel.fitToData: Cost = 99.38216323153317 ( 4 )\n",
      "SloppyCellFittingModel.fitToData: Cost = 97.7596292608381 ( 0 )\n",
      "SloppyCellFittingModel.fitToData: Cost = 92.48628672298696 ( 1 )\n",
      "SloppyCellFittingModel.fitToData: Best-fit cost =  92.48628672298696\n"
     ]
    },
    {
     "name": "stderr",
     "output_type": "stream",
     "text": [
      "/Users/bryandaniels/Desktop/SloppyCell/SloppyCell/ReactionNetworks/Dynamics.py:711: RuntimeWarning: divide by zero encountered in true_divide\n",
      "  ypIC[N_dyn_vars:] /= net.get_var_ic(opt_var)\n"
     ]
    },
    {
     "name": "stdout",
     "output_type": "stream",
     "text": [
      "fittingProblem.fitAll: L = -84.59817747843715\n",
      "SloppyCellFittingModel.fitToData: generating ensemble for these parameters: ['log_alpha_0', 'log_beta_0', 'g_0_0', 'h_0_0', 'g_0_1', 'h_0_1', 'g_0_2', 'h_0_2', 'log_alpha_1', 'log_beta_1', 'g_1_1', 'h_1_1', 'g_1_0', 'h_1_0', 'g_1_2', 'g_2_2', 'g_2_0', 'h_2_0']\n",
      "generateEnsemble_parallel: Generating parameter ensemble with 1000.0 total members, using 4 processors.\n",
      "SloppyCellFittingModel.fitToData: Cost = 118.58258913092892 ( 3 )\n",
      "SloppyCellFittingModel.fitToData: Cost = 96.3035185791828 ( 3 )\n",
      "SloppyCellFittingModel.fitToData: Cost = 110.75087893375857 ( 4 )\n",
      "SloppyCellFittingModel.fitToData: Cost = 67.02134345054775 ( 3 )\n",
      "SloppyCellFittingModel.fitToData: Cost = 111.88666808588947 ( 4 )\n",
      "SloppyCellFittingModel.fitToData: Cost = 87.19814226214913 ( 0 )\n",
      "SloppyCellFittingModel.fitToData: Cost = 89.83717564011036 ( 0 )\n",
      "SloppyCellFittingModel.fitToData: Cost = 78.25139273448372 ( 0 )\n",
      "SloppyCellFittingModel.fitToData: Cost = 93.92125657251044 ( 3 )\n",
      "SloppyCellFittingModel.fitToData: Cost = 92.48628672298696 ( 1 )\n",
      "SloppyCellFittingModel.fitToData: Best-fit cost =  67.02134345054775\n",
      "fittingProblem.fitAll: L = -93.8790643650933\n",
      "SloppyCellFittingModel.fitToData: generating ensemble for these parameters: ['log_alpha_0', 'log_beta_0', 'g_0_0', 'h_0_0', 'g_0_1', 'h_0_1', 'g_0_2', 'h_0_2', 'log_alpha_1', 'log_beta_1', 'g_1_1', 'h_1_1', 'g_1_0', 'h_1_0', 'g_1_2', 'h_1_2', 'g_2_2', 'g_2_0', 'h_2_0', 'g_2_1']\n",
      "generateEnsemble_parallel: Generating parameter ensemble with 1000.0 total members, using 4 processors.\n",
      "SloppyCellFittingModel.fitToData: Cost = 259.29859579989034 ( 0 )\n",
      "SloppyCellFittingModel.fitToData: Cost = 222.8164845587654 ( 0 )\n",
      "SloppyCellFittingModel.fitToData: Cost = 893.7829574358204 ( 3 )\n",
      "SloppyCellFittingModel.fitToData: Cost = 47.287309425501014 ( 0 )\n",
      "SloppyCellFittingModel.fitToData: Cost = 205.28923917868605 ( 0 )\n",
      "SloppyCellFittingModel.fitToData: Cost = 943.1138450497225 ( 4 )\n",
      "SloppyCellFittingModel.fitToData: Cost = 252.51348376389384 ( 0 )\n",
      "SloppyCellFittingModel.fitToData: Cost = 638.5336295887838 ( 4 )\n",
      "SloppyCellFittingModel.fitToData: Cost = 74.8977868987597 ( 1 )\n",
      "SloppyCellFittingModel.fitToData: Cost = 67.10576542550483 ( 3 )\n",
      "SloppyCellFittingModel.fitToData: Best-fit cost =  47.287309425501014\n",
      "fittingProblem.fitAll: L = -93.31737457917221\n",
      "SloppyCellFittingModel.fitToData: generating ensemble for these parameters: ['log_alpha_0', 'log_beta_0', 'g_0_0', 'h_0_0', 'g_0_1', 'h_0_1', 'g_0_2', 'h_0_2', 'log_alpha_1', 'log_beta_1', 'g_1_1', 'h_1_1', 'g_1_0', 'h_1_0', 'g_1_2', 'h_1_2', 'log_beta_2', 'g_2_2', 'g_2_0', 'h_2_0', 'g_2_1', 'h_2_1']\n",
      "generateEnsemble_parallel: Generating parameter ensemble with 1000.0 total members, using 4 processors.\n",
      "SloppyCellFittingModel.fitToData: Cost = 92.31006016319346 ( 0 )\n",
      "SloppyCellFittingModel.fitToData: Cost = 80.3652069450859 ( 3 )\n",
      "SloppyCellFittingModel.fitToData: Cost = 486.6941233167812 ( 4 )\n",
      "SloppyCellFittingModel.fitToData: Cost = 465.8759942180954 ( 4 )\n",
      "SloppyCellFittingModel.fitToData: Cost = 449.55583540075855 ( 3 )\n",
      "SloppyCellFittingModel.fitToData: Cost = 514.6000357657288 ( 4 )\n",
      "SloppyCellFittingModel.fitToData: Cost = 75.56227591129615 ( 4 )\n",
      "SloppyCellFittingModel.fitToData: Cost = 75.8796304185955 ( 1 )\n",
      "SloppyCellFittingModel.fitToData: Cost = 74.8797699865844 ( 4 )\n",
      "SloppyCellFittingModel.fitToData: Cost = 38.646143917916426 ( 4 )\n",
      "SloppyCellFittingModel.fitToData: Best-fit cost =  38.646143917916426\n",
      "fittingProblem.fitAll: L = -94.2246224556353\n"
     ]
    }
   ],
   "source": [
    "## Uncomment to run parameter fitting.\n",
    "p.fitAll()\n",
    "\n",
    "fittingProblem.save(p,'simpleExample_savedFittingProblem.data')"
   ]
  },
  {
   "cell_type": "code",
   "execution_count": 13,
   "metadata": {
    "collapsed": true
   },
   "outputs": [
    {
     "name": "stdout",
     "output_type": "stream",
     "text": [
      "SloppyCellFittingModel.fitToData: generating ensemble for these parameters: ['wself_0', 'log_tau_0']\n",
      "generateEnsemble_parallel: Generating parameter ensemble with 1000.0 total members, using 4 processors.\n",
      "SloppyCellFittingModel.fitToData: Cost = 1536.4120125022907 ( 0 )\n",
      "SloppyCellFittingModel.fitToData: Cost = 5030.203521481821 ( 3 )\n",
      "SloppyCellFittingModel.fitToData: Cost = 390.6579940259445 ( 0 )\n",
      "SloppyCellFittingModel.fitToData: Cost = 5057.187390972898 ( 0 )\n",
      "SloppyCellFittingModel.fitToData: Cost = 4876.142910814324 ( 1 )\n",
      "SloppyCellFittingModel.fitToData: Cost = 5042.448407208736 ( 3 )\n",
      "SloppyCellFittingModel.fitToData: Cost = 385.7461188721268 ( 0 )\n",
      "SloppyCellFittingModel.fitToData: Cost = 5015.797763690851 ( 3 )\n",
      "SloppyCellFittingModel.fitToData: Cost = 4278.904274780563 ( 0 )\n",
      "SloppyCellFittingModel.fitToData: Cost = 388.39720618127916 ( 0 )\n",
      "SloppyCellFittingModel.fitToData: Best-fit cost =  385.7461188721268\n",
      "fittingProblem.fitAll: L = -199.58854684396687\n",
      "running build_ext\n",
      "running build_src\n",
      "build_src\n",
      "building extension \"CTSN_0_SFI_C02TJ318GTFL_206650_5752999461_55397\" sources\n",
      "f2py options: []\n",
      "f2py: CTSN_0_SFI_C02TJ318GTFL_206650_5752999461_55397.pyf\n",
      "Reading fortran codes...\n",
      "\tReading file 'CTSN_0_SFI_C02TJ318GTFL_206650_5752999461_55397.pyf' (format:free)\n",
      "Post-processing...\n",
      "\tBlock: CTSN_0_SFI_C02TJ318GTFL_206650_5752999461_55397\n",
      "\t\t\tBlock: res_function\n",
      "\t\t\tBlock: ddaskr_jac\n",
      "\t\t\tBlock: root_func\n",
      "\t\t\tBlock: alg_deriv_func\n",
      "\t\t\tBlock: alg_res_func\n",
      "\t\t\tBlock: dres_dc_function\n",
      "\t\t\tBlock: dres_dcdot_function\n",
      "\t\t\tBlock: dres_dwself_0\n",
      "\t\t\tBlock: dres_dtheta_0\n",
      "\t\t\tBlock: dres_dlog_tau_0\n",
      "\t\t\tBlock: dres_dw_0_1\n",
      "\t\t\tBlock: dres_dX_1_init\n",
      "\t\t\tBlock: sens_rhs\n",
      "\t\t\tBlock: res_function_logdv\n",
      "\t\t\tBlock: root_func_logdv\n",
      "\t\t\tBlock: sens_rhs_logdv\n",
      "\t\t\tBlock: integrate_stochastic_tidbit\n",
      "Post-processing (stage 2)...\n",
      "Building modules...\n",
      "\tBuilding module \"CTSN_0_SFI_C02TJ318GTFL_206650_5752999461_55397\"...\n",
      "\t\tConstructing wrapper function \"res_function\"...\n",
      "\t\t  residual = res_function(time,dynamicVars,yprime,constants)\n",
      "\t\tConstructing wrapper function \"ddaskr_jac\"...\n",
      "\t\t  pd = ddaskr_jac(t,y,yprime,cj,rpar)\n",
      "\t\tConstructing wrapper function \"root_func\"...\n",
      "\t\t  root_devs = root_func(t,y,yp,constants)\n",
      "\t\tConstructing wrapper function \"alg_deriv_func\"...\n",
      "\t\t  alg_derivs_res = alg_deriv_func(alg_yp,dynamicVars,yp,time,constants)\n",
      "\t\tConstructing wrapper function \"alg_res_func\"...\n",
      "\t\t  residual = alg_res_func(alg_vals,dynamicVars,time,constants)\n",
      "\t\tConstructing wrapper function \"dres_dc_function\"...\n",
      "\t\t  pd = dres_dc_function(time,dynamicVars,yprime,constants)\n",
      "\t\tConstructing wrapper function \"dres_dcdot_function\"...\n",
      "\t\t  pd = dres_dcdot_function(time,dynamicVars,yprime,constants)\n",
      "\t\tConstructing wrapper function \"dres_dwself_0\"...\n",
      "\t\t  pd = dres_dwself_0(time,dynamicVars,yprime,constants)\n",
      "\t\tConstructing wrapper function \"dres_dtheta_0\"...\n",
      "\t\t  pd = dres_dtheta_0(time,dynamicVars,yprime,constants)\n",
      "\t\tConstructing wrapper function \"dres_dlog_tau_0\"...\n",
      "\t\t  pd = dres_dlog_tau_0(time,dynamicVars,yprime,constants)\n",
      "\t\tConstructing wrapper function \"dres_dw_0_1\"...\n",
      "\t\t  pd = dres_dw_0_1(time,dynamicVars,yprime,constants)\n",
      "\t\tConstructing wrapper function \"dres_dX_1_init\"...\n",
      "\t\t  pd = dres_dX_1_init(time,dynamicVars,yprime,constants)\n",
      "\t\tConstructing wrapper function \"sens_rhs\"...\n",
      "\t\t  sens_res = sens_rhs(time,sens_y,sens_yp,constants)\n",
      "\t\tConstructing wrapper function \"res_function_logdv\"...\n",
      "\t\t  residual = res_function_logdv(time,log_dv,log_yp,constants)\n",
      "\t\tConstructing wrapper function \"root_func_logdv\"...\n",
      "\t\t  root_devs = root_func_logdv(t,log_dv,log_yp,constants)\n",
      "\t\tConstructing wrapper function \"sens_rhs_logdv\"...\n",
      "\t\t  sens_res = sens_rhs_logdv(time,sens_y_log,sens_yp_log,constants)\n",
      "\t\tConstructing wrapper function \"integrate_stochastic_tidbit\"...\n",
      "\t\t  time_ptr,dv,stop_time_ptr,trajectory = integrate_stochastic_tidbit(seed_ptr,reseed,time_ptr,dv,cv,rmsd_ptr,stop_time_ptr)\n"
     ]
    },
    {
     "name": "stderr",
     "output_type": "stream",
     "text": [
      "<string>:1: SyntaxWarning: 'int' object is not subscriptable; perhaps you missed a comma?\n",
      "<string>:1: SyntaxWarning: 'int' object is not subscriptable; perhaps you missed a comma?\n",
      "<string>:1: SyntaxWarning: 'int' object is not subscriptable; perhaps you missed a comma?\n",
      "<string>:1: SyntaxWarning: 'int' object is not subscriptable; perhaps you missed a comma?\n",
      "<string>:1: SyntaxWarning: 'int' object is not subscriptable; perhaps you missed a comma?\n",
      "<string>:1: SyntaxWarning: 'int' object is not subscriptable; perhaps you missed a comma?\n",
      "<string>:1: SyntaxWarning: 'int' object is not subscriptable; perhaps you missed a comma?\n"
     ]
    },
    {
     "name": "stdout",
     "output_type": "stream",
     "text": [
      "\tWrote C/API module \"CTSN_0_SFI_C02TJ318GTFL_206650_5752999461_55397\" to file \"./CTSN_0_SFI_C02TJ318GTFL_206650_5752999461_55397module.c\"\n",
      "  adding 'build/src.macosx-10.9-x86_64-3.8/./fortranobject.c' to sources.\n",
      "  adding 'build/src.macosx-10.9-x86_64-3.8/.' to include_dirs.\n",
      "copying /Users/bryandaniels/anaconda3/lib/python3.8/site-packages/numpy/f2py/src/fortranobject.c -> build/src.macosx-10.9-x86_64-3.8/.\n"
     ]
    },
    {
     "name": "stderr",
     "output_type": "stream",
     "text": [
      "WARNING:ReactionNetworks.Components:Failed to import dynamically compiled C module CTSN_0_SFI_C02TJ318GTFL_206650_5752999461_55397 for network CTSN.\n",
      "WARNING:ReactionNetworks.Components:No module named 'CTSN_0_SFI_C02TJ318GTFL_206650_5752999461_55397'\n"
     ]
    },
    {
     "name": "stdout",
     "output_type": "stream",
     "text": [
      "***STDOUT***\n",
      "b''\n",
      "***STDERR***\n",
      "b''\n",
      "SloppyCellFittingModel.fitToData: generating ensemble for these parameters: ['wself_0', 'theta_0', 'log_tau_0', 'w_0_1', 'X_1_init']\n",
      "generateEnsemble_parallel: Generating parameter ensemble with 1000.0 total members, using 4 processors.\n",
      "SloppyCellFittingModel.fitToData: Cost = 291.3175652946103 ( 1 )\n",
      "SloppyCellFittingModel.fitToData: Cost = 310.69303713003586 ( 1 )\n",
      "SloppyCellFittingModel.fitToData: Cost = 5466.122078238009 ( 0 )\n",
      "SloppyCellFittingModel.fitToData: Cost = 5094.482914784238 ( 3 )\n",
      "SloppyCellFittingModel.fitToData: Cost = 5131.336364436838 ( 3 )\n",
      "SloppyCellFittingModel.fitToData: Cost = 4292.5965574072725 ( 0 )\n",
      "SloppyCellFittingModel.fitToData: Cost = 328.4061879865533 ( 1 )\n",
      "SloppyCellFittingModel.fitToData: Cost = 385.3093451818846 ( 1 )\n",
      "SloppyCellFittingModel.fitToData: Cost = 395.7798498670198 ( 0 )\n",
      "SloppyCellFittingModel.fitToData: Cost = 382.7978218136929 ( 1 )\n",
      "SloppyCellFittingModel.fitToData: Best-fit cost =  291.3175652946103\n",
      "fittingProblem.fitAll: L = -164.56882012914488\n",
      "running build_ext\n",
      "running build_src\n",
      "build_src\n",
      "building extension \"CTSN_0_SFI_C02TJ318GTFL_516583_0353999461_55397\" sources\n",
      "f2py options: []\n",
      "f2py: CTSN_0_SFI_C02TJ318GTFL_516583_0353999461_55397.pyf\n",
      "Reading fortran codes...\n",
      "\tReading file 'CTSN_0_SFI_C02TJ318GTFL_516583_0353999461_55397.pyf' (format:free)\n",
      "Post-processing...\n",
      "\tBlock: CTSN_0_SFI_C02TJ318GTFL_516583_0353999461_55397\n",
      "\t\t\tBlock: res_function\n",
      "\t\t\tBlock: ddaskr_jac\n",
      "\t\t\tBlock: root_func\n",
      "\t\t\tBlock: alg_deriv_func\n",
      "\t\t\tBlock: alg_res_func\n",
      "\t\t\tBlock: dres_dc_function\n",
      "\t\t\tBlock: dres_dcdot_function\n",
      "\t\t\tBlock: dres_dwself_0\n",
      "\t\t\tBlock: dres_dtheta_0\n",
      "\t\t\tBlock: dres_dlog_tau_0\n",
      "\t\t\tBlock: dres_dw_0_1\n",
      "\t\t\tBlock: dres_dwself_1\n",
      "\t\t\tBlock: dres_dw_1_0\n",
      "\t\t\tBlock: dres_dX_1_init\n",
      "\t\t\tBlock: sens_rhs\n",
      "\t\t\tBlock: res_function_logdv\n",
      "\t\t\tBlock: root_func_logdv\n",
      "\t\t\tBlock: sens_rhs_logdv\n",
      "\t\t\tBlock: integrate_stochastic_tidbit\n",
      "Post-processing (stage 2)...\n",
      "Building modules...\n",
      "\tBuilding module \"CTSN_0_SFI_C02TJ318GTFL_516583_0353999461_55397\"...\n",
      "\t\tConstructing wrapper function \"res_function\"...\n",
      "\t\t  residual = res_function(time,dynamicVars,yprime,constants)\n",
      "\t\tConstructing wrapper function \"ddaskr_jac\"...\n",
      "\t\t  pd = ddaskr_jac(t,y,yprime,cj,rpar)\n",
      "\t\tConstructing wrapper function \"root_func\"...\n",
      "\t\t  root_devs = root_func(t,y,yp,constants)\n",
      "\t\tConstructing wrapper function \"alg_deriv_func\"...\n",
      "\t\t  alg_derivs_res = alg_deriv_func(alg_yp,dynamicVars,yp,time,constants)\n",
      "\t\tConstructing wrapper function \"alg_res_func\"...\n",
      "\t\t  residual = alg_res_func(alg_vals,dynamicVars,time,constants)\n",
      "\t\tConstructing wrapper function \"dres_dc_function\"...\n",
      "\t\t  pd = dres_dc_function(time,dynamicVars,yprime,constants)\n",
      "\t\tConstructing wrapper function \"dres_dcdot_function\"...\n",
      "\t\t  pd = dres_dcdot_function(time,dynamicVars,yprime,constants)\n",
      "\t\tConstructing wrapper function \"dres_dwself_0\"...\n",
      "\t\t  pd = dres_dwself_0(time,dynamicVars,yprime,constants)\n",
      "\t\tConstructing wrapper function \"dres_dtheta_0\"...\n",
      "\t\t  pd = dres_dtheta_0(time,dynamicVars,yprime,constants)\n",
      "\t\tConstructing wrapper function \"dres_dlog_tau_0\"...\n",
      "\t\t  pd = dres_dlog_tau_0(time,dynamicVars,yprime,constants)\n",
      "\t\tConstructing wrapper function \"dres_dw_0_1\"...\n",
      "\t\t  pd = dres_dw_0_1(time,dynamicVars,yprime,constants)\n",
      "\t\tConstructing wrapper function \"dres_dwself_1\"...\n",
      "\t\t  pd = dres_dwself_1(time,dynamicVars,yprime,constants)\n",
      "\t\tConstructing wrapper function \"dres_dw_1_0\"...\n",
      "\t\t  pd = dres_dw_1_0(time,dynamicVars,yprime,constants)\n",
      "\t\tConstructing wrapper function \"dres_dX_1_init\"...\n",
      "\t\t  pd = dres_dX_1_init(time,dynamicVars,yprime,constants)\n",
      "\t\tConstructing wrapper function \"sens_rhs\"...\n",
      "\t\t  sens_res = sens_rhs(time,sens_y,sens_yp,constants)\n"
     ]
    },
    {
     "name": "stderr",
     "output_type": "stream",
     "text": [
      "<string>:1: SyntaxWarning: 'int' object is not subscriptable; perhaps you missed a comma?\n",
      "<string>:1: SyntaxWarning: 'int' object is not subscriptable; perhaps you missed a comma?\n",
      "<string>:1: SyntaxWarning: 'int' object is not subscriptable; perhaps you missed a comma?\n",
      "<string>:1: SyntaxWarning: 'int' object is not subscriptable; perhaps you missed a comma?\n",
      "<string>:1: SyntaxWarning: 'int' object is not subscriptable; perhaps you missed a comma?\n",
      "<string>:1: SyntaxWarning: 'int' object is not subscriptable; perhaps you missed a comma?\n",
      "<string>:1: SyntaxWarning: 'int' object is not subscriptable; perhaps you missed a comma?\n"
     ]
    },
    {
     "name": "stdout",
     "output_type": "stream",
     "text": [
      "\t\tConstructing wrapper function \"res_function_logdv\"...\n",
      "\t\t  residual = res_function_logdv(time,log_dv,log_yp,constants)\n",
      "\t\tConstructing wrapper function \"root_func_logdv\"...\n",
      "\t\t  root_devs = root_func_logdv(t,log_dv,log_yp,constants)\n",
      "\t\tConstructing wrapper function \"sens_rhs_logdv\"...\n",
      "\t\t  sens_res = sens_rhs_logdv(time,sens_y_log,sens_yp_log,constants)\n",
      "\t\tConstructing wrapper function \"integrate_stochastic_tidbit\"...\n",
      "\t\t  time_ptr,dv,stop_time_ptr,trajectory = integrate_stochastic_tidbit(seed_ptr,reseed,time_ptr,dv,cv,rmsd_ptr,stop_time_ptr)\n",
      "\tWrote C/API module \"CTSN_0_SFI_C02TJ318GTFL_516583_0353999461_55397\" to file \"./CTSN_0_SFI_C02TJ318GTFL_516583_0353999461_55397module.c\"\n",
      "  adding 'build/src.macosx-10.9-x86_64-3.8/./fortranobject.c' to sources.\n",
      "  adding 'build/src.macosx-10.9-x86_64-3.8/.' to include_dirs.\n",
      "copying /Users/bryandaniels/anaconda3/lib/python3.8/site-packages/numpy/f2py/src/fortranobject.c -> build/src.macosx-10.9-x86_64-3.8/.\n"
     ]
    },
    {
     "name": "stderr",
     "output_type": "stream",
     "text": [
      "WARNING:ReactionNetworks.Components:Failed to import dynamically compiled C module CTSN_0_SFI_C02TJ318GTFL_516583_0353999461_55397 for network CTSN.\n",
      "WARNING:ReactionNetworks.Components:No module named 'CTSN_0_SFI_C02TJ318GTFL_516583_0353999461_55397'\n"
     ]
    },
    {
     "name": "stdout",
     "output_type": "stream",
     "text": [
      "***STDOUT***\n",
      "b''\n",
      "***STDERR***\n",
      "b''\n",
      "SloppyCellFittingModel.fitToData: generating ensemble for these parameters: ['wself_0', 'theta_0', 'log_tau_0', 'w_0_1', 'wself_1', 'w_1_0', 'X_1_init']\n",
      "generateEnsemble_parallel: Generating parameter ensemble with 1000.0 total members, using 4 processors.\n",
      "SloppyCellFittingModel.fitToData: Cost = 294.2995562214289 ( 1 )\n",
      "SloppyCellFittingModel.fitToData: Cost = 344.8984506687302 ( 1 )\n",
      "SloppyCellFittingModel.fitToData: Cost = 448.2068426634915 ( 0 )\n",
      "SloppyCellFittingModel.fitToData: Cost = 435.4494242894624 ( 0 )\n",
      "SloppyCellFittingModel.fitToData: Cost = 320.70062802954976 ( 1 )\n",
      "SloppyCellFittingModel.fitToData: Cost = 260.27806542382683 ( 0 )\n",
      "SloppyCellFittingModel.fitToData: Cost = 278.4968526298386 ( 1 )\n",
      "SloppyCellFittingModel.fitToData: Cost = 280.55433370954637 ( 1 )\n",
      "SloppyCellFittingModel.fitToData: Cost = 365.9478095810025 ( 1 )\n",
      "SloppyCellFittingModel.fitToData: Cost = 258.2382837565246 ( 1 )\n",
      "SloppyCellFittingModel.fitToData: Best-fit cost =  258.2382837565246\n",
      "fittingProblem.fitAll: L = -148.55727750718617\n",
      "running build_ext\n",
      "running build_src\n",
      "build_src\n",
      "building extension \"CTSN_0_SFI_C02TJ318GTFL_895230_5173999461_55397\" sources\n",
      "f2py options: []\n",
      "f2py: CTSN_0_SFI_C02TJ318GTFL_895230_5173999461_55397.pyf\n",
      "Reading fortran codes...\n",
      "\tReading file 'CTSN_0_SFI_C02TJ318GTFL_895230_5173999461_55397.pyf' (format:free)\n",
      "Post-processing...\n",
      "\tBlock: CTSN_0_SFI_C02TJ318GTFL_895230_5173999461_55397\n",
      "\t\t\tBlock: res_function\n",
      "\t\t\tBlock: ddaskr_jac\n",
      "\t\t\tBlock: root_func\n",
      "\t\t\tBlock: alg_deriv_func\n",
      "\t\t\tBlock: alg_res_func\n",
      "\t\t\tBlock: dres_dc_function\n",
      "\t\t\tBlock: dres_dcdot_function\n",
      "\t\t\tBlock: dres_dwself_0\n",
      "\t\t\tBlock: dres_dtheta_0\n",
      "\t\t\tBlock: dres_dlog_tau_0\n",
      "\t\t\tBlock: dres_dw_0_1\n",
      "\t\t\tBlock: dres_dwself_1\n",
      "\t\t\tBlock: dres_dtheta_1\n",
      "\t\t\tBlock: dres_dlog_tau_1\n",
      "\t\t\tBlock: dres_dw_1_0\n",
      "\t\t\tBlock: dres_dX_1_init\n",
      "\t\t\tBlock: sens_rhs\n",
      "\t\t\tBlock: res_function_logdv\n",
      "\t\t\tBlock: root_func_logdv\n",
      "\t\t\tBlock: sens_rhs_logdv\n",
      "\t\t\tBlock: integrate_stochastic_tidbit\n",
      "Post-processing (stage 2)...\n",
      "Building modules...\n",
      "\tBuilding module \"CTSN_0_SFI_C02TJ318GTFL_895230_5173999461_55397\"...\n",
      "\t\tConstructing wrapper function \"res_function\"...\n",
      "\t\t  residual = res_function(time,dynamicVars,yprime,constants)\n",
      "\t\tConstructing wrapper function \"ddaskr_jac\"...\n",
      "\t\t  pd = ddaskr_jac(t,y,yprime,cj,rpar)\n",
      "\t\tConstructing wrapper function \"root_func\"...\n",
      "\t\t  root_devs = root_func(t,y,yp,constants)\n",
      "\t\tConstructing wrapper function \"alg_deriv_func\"...\n",
      "\t\t  alg_derivs_res = alg_deriv_func(alg_yp,dynamicVars,yp,time,constants)\n",
      "\t\tConstructing wrapper function \"alg_res_func\"...\n",
      "\t\t  residual = alg_res_func(alg_vals,dynamicVars,time,constants)\n",
      "\t\tConstructing wrapper function \"dres_dc_function\"...\n",
      "\t\t  pd = dres_dc_function(time,dynamicVars,yprime,constants)\n",
      "\t\tConstructing wrapper function \"dres_dcdot_function\"...\n",
      "\t\t  pd = dres_dcdot_function(time,dynamicVars,yprime,constants)\n",
      "\t\tConstructing wrapper function \"dres_dwself_0\"...\n",
      "\t\t  pd = dres_dwself_0(time,dynamicVars,yprime,constants)\n",
      "\t\tConstructing wrapper function \"dres_dtheta_0\"...\n",
      "\t\t  pd = dres_dtheta_0(time,dynamicVars,yprime,constants)\n",
      "\t\tConstructing wrapper function \"dres_dlog_tau_0\"...\n",
      "\t\t  pd = dres_dlog_tau_0(time,dynamicVars,yprime,constants)\n",
      "\t\tConstructing wrapper function \"dres_dw_0_1\"...\n",
      "\t\t  pd = dres_dw_0_1(time,dynamicVars,yprime,constants)\n",
      "\t\tConstructing wrapper function \"dres_dwself_1\"...\n",
      "\t\t  pd = dres_dwself_1(time,dynamicVars,yprime,constants)\n",
      "\t\tConstructing wrapper function \"dres_dtheta_1\"...\n",
      "\t\t  pd = dres_dtheta_1(time,dynamicVars,yprime,constants)\n",
      "\t\tConstructing wrapper function \"dres_dlog_tau_1\"...\n",
      "\t\t  pd = dres_dlog_tau_1(time,dynamicVars,yprime,constants)\n",
      "\t\tConstructing wrapper function \"dres_dw_1_0\"...\n",
      "\t\t  pd = dres_dw_1_0(time,dynamicVars,yprime,constants)\n",
      "\t\tConstructing wrapper function \"dres_dX_1_init\"...\n",
      "\t\t  pd = dres_dX_1_init(time,dynamicVars,yprime,constants)\n",
      "\t\tConstructing wrapper function \"sens_rhs\"...\n",
      "\t\t  sens_res = sens_rhs(time,sens_y,sens_yp,constants)\n",
      "\t\tConstructing wrapper function \"res_function_logdv\"...\n",
      "\t\t  residual = res_function_logdv(time,log_dv,log_yp,constants)\n"
     ]
    },
    {
     "name": "stderr",
     "output_type": "stream",
     "text": [
      "<string>:1: SyntaxWarning: 'int' object is not subscriptable; perhaps you missed a comma?\n",
      "<string>:1: SyntaxWarning: 'int' object is not subscriptable; perhaps you missed a comma?\n",
      "<string>:1: SyntaxWarning: 'int' object is not subscriptable; perhaps you missed a comma?\n",
      "<string>:1: SyntaxWarning: 'int' object is not subscriptable; perhaps you missed a comma?\n",
      "<string>:1: SyntaxWarning: 'int' object is not subscriptable; perhaps you missed a comma?\n",
      "<string>:1: SyntaxWarning: 'int' object is not subscriptable; perhaps you missed a comma?\n",
      "<string>:1: SyntaxWarning: 'int' object is not subscriptable; perhaps you missed a comma?\n"
     ]
    },
    {
     "name": "stdout",
     "output_type": "stream",
     "text": [
      "\t\tConstructing wrapper function \"root_func_logdv\"...\n",
      "\t\t  root_devs = root_func_logdv(t,log_dv,log_yp,constants)\n",
      "\t\tConstructing wrapper function \"sens_rhs_logdv\"...\n",
      "\t\t  sens_res = sens_rhs_logdv(time,sens_y_log,sens_yp_log,constants)\n",
      "\t\tConstructing wrapper function \"integrate_stochastic_tidbit\"...\n",
      "\t\t  time_ptr,dv,stop_time_ptr,trajectory = integrate_stochastic_tidbit(seed_ptr,reseed,time_ptr,dv,cv,rmsd_ptr,stop_time_ptr)\n",
      "\tWrote C/API module \"CTSN_0_SFI_C02TJ318GTFL_895230_5173999461_55397\" to file \"./CTSN_0_SFI_C02TJ318GTFL_895230_5173999461_55397module.c\"\n",
      "  adding 'build/src.macosx-10.9-x86_64-3.8/./fortranobject.c' to sources.\n",
      "  adding 'build/src.macosx-10.9-x86_64-3.8/.' to include_dirs.\n",
      "copying /Users/bryandaniels/anaconda3/lib/python3.8/site-packages/numpy/f2py/src/fortranobject.c -> build/src.macosx-10.9-x86_64-3.8/.\n"
     ]
    },
    {
     "name": "stderr",
     "output_type": "stream",
     "text": [
      "WARNING:ReactionNetworks.Components:Failed to import dynamically compiled C module CTSN_0_SFI_C02TJ318GTFL_895230_5173999461_55397 for network CTSN.\n",
      "WARNING:ReactionNetworks.Components:No module named 'CTSN_0_SFI_C02TJ318GTFL_895230_5173999461_55397'\n"
     ]
    },
    {
     "name": "stdout",
     "output_type": "stream",
     "text": [
      "***STDOUT***\n",
      "b''\n",
      "***STDERR***\n",
      "b''\n",
      "SloppyCellFittingModel.fitToData: generating ensemble for these parameters: ['wself_0', 'theta_0', 'log_tau_0', 'w_0_1', 'wself_1', 'theta_1', 'log_tau_1', 'w_1_0', 'X_1_init']\n",
      "generateEnsemble_parallel: Generating parameter ensemble with 1000.0 total members, using 4 processors.\n",
      "SloppyCellFittingModel.fitToData: Cost = 250.6960061873964 ( 1 )\n",
      "SloppyCellFittingModel.fitToData: Cost = 214.33086364201878 ( 0 )\n",
      "SloppyCellFittingModel.fitToData: Cost = 172.4977305561773 ( 1 )\n",
      "SloppyCellFittingModel.fitToData: Cost = 169.9012552402698 ( 0 )\n",
      "SloppyCellFittingModel.fitToData: Cost = 174.85145974868036 ( 1 )\n",
      "SloppyCellFittingModel.fitToData: Cost = 222.9371854819502 ( 1 )\n",
      "SloppyCellFittingModel.fitToData: Cost = 659.9023489728859 ( 0 )\n",
      "SloppyCellFittingModel.fitToData: Cost = 509.20877459035773 ( 0 )\n",
      "SloppyCellFittingModel.fitToData: Cost = 187.52669800235537 ( 1 )\n",
      "SloppyCellFittingModel.fitToData: Cost = 183.10885285545876 ( 1 )\n",
      "SloppyCellFittingModel.fitToData: Best-fit cost =  169.9012552402698\n",
      "fittingProblem.fitAll: L = -110.4453051299281\n",
      "running build_ext\n",
      "running build_src\n",
      "build_src\n",
      "building extension \"CTSN_0_SFI_C02TJ318GTFL_961764_5144999461_55397\" sources\n",
      "f2py options: []\n",
      "f2py: CTSN_0_SFI_C02TJ318GTFL_961764_5144999461_55397.pyf\n",
      "Reading fortran codes...\n",
      "\tReading file 'CTSN_0_SFI_C02TJ318GTFL_961764_5144999461_55397.pyf' (format:free)\n",
      "Post-processing...\n",
      "\tBlock: CTSN_0_SFI_C02TJ318GTFL_961764_5144999461_55397\n",
      "\t\t\tBlock: res_function\n",
      "\t\t\tBlock: ddaskr_jac\n",
      "\t\t\tBlock: root_func\n",
      "\t\t\tBlock: alg_deriv_func\n",
      "\t\t\tBlock: alg_res_func\n",
      "\t\t\tBlock: dres_dc_function\n",
      "\t\t\tBlock: dres_dcdot_function\n",
      "\t\t\tBlock: dres_dwself_0\n",
      "\t\t\tBlock: dres_dtheta_0\n",
      "\t\t\tBlock: dres_dlog_tau_0\n",
      "\t\t\tBlock: dres_dw_0_1\n",
      "\t\t\tBlock: dres_dw_0_2\n",
      "\t\t\tBlock: dres_dwself_1\n",
      "\t\t\tBlock: dres_dtheta_1\n",
      "\t\t\tBlock: dres_dlog_tau_1\n",
      "\t\t\tBlock: dres_dw_1_0\n",
      "\t\t\tBlock: dres_dX_1_init\n",
      "\t\t\tBlock: dres_dw_2_0\n",
      "\t\t\tBlock: dres_dX_2_init\n",
      "\t\t\tBlock: sens_rhs\n",
      "\t\t\tBlock: res_function_logdv\n",
      "\t\t\tBlock: root_func_logdv\n",
      "\t\t\tBlock: sens_rhs_logdv\n",
      "\t\t\tBlock: integrate_stochastic_tidbit\n",
      "Post-processing (stage 2)...\n",
      "Building modules...\n",
      "\tBuilding module \"CTSN_0_SFI_C02TJ318GTFL_961764_5144999461_55397\"...\n",
      "\t\tConstructing wrapper function \"res_function\"...\n",
      "\t\t  residual = res_function(time,dynamicVars,yprime,constants)\n",
      "\t\tConstructing wrapper function \"ddaskr_jac\"...\n",
      "\t\t  pd = ddaskr_jac(t,y,yprime,cj,rpar)\n",
      "\t\tConstructing wrapper function \"root_func\"...\n",
      "\t\t  root_devs = root_func(t,y,yp,constants)\n",
      "\t\tConstructing wrapper function \"alg_deriv_func\"...\n",
      "\t\t  alg_derivs_res = alg_deriv_func(alg_yp,dynamicVars,yp,time,constants)\n",
      "\t\tConstructing wrapper function \"alg_res_func\"...\n",
      "\t\t  residual = alg_res_func(alg_vals,dynamicVars,time,constants)\n",
      "\t\tConstructing wrapper function \"dres_dc_function\"...\n",
      "\t\t  pd = dres_dc_function(time,dynamicVars,yprime,constants)\n",
      "\t\tConstructing wrapper function \"dres_dcdot_function\"...\n",
      "\t\t  pd = dres_dcdot_function(time,dynamicVars,yprime,constants)\n",
      "\t\tConstructing wrapper function \"dres_dwself_0\"...\n",
      "\t\t  pd = dres_dwself_0(time,dynamicVars,yprime,constants)\n",
      "\t\tConstructing wrapper function \"dres_dtheta_0\"...\n",
      "\t\t  pd = dres_dtheta_0(time,dynamicVars,yprime,constants)\n",
      "\t\tConstructing wrapper function \"dres_dlog_tau_0\"...\n",
      "\t\t  pd = dres_dlog_tau_0(time,dynamicVars,yprime,constants)\n",
      "\t\tConstructing wrapper function \"dres_dw_0_1\"...\n",
      "\t\t  pd = dres_dw_0_1(time,dynamicVars,yprime,constants)\n",
      "\t\tConstructing wrapper function \"dres_dw_0_2\"...\n",
      "\t\t  pd = dres_dw_0_2(time,dynamicVars,yprime,constants)\n",
      "\t\tConstructing wrapper function \"dres_dwself_1\"...\n",
      "\t\t  pd = dres_dwself_1(time,dynamicVars,yprime,constants)\n"
     ]
    },
    {
     "name": "stderr",
     "output_type": "stream",
     "text": [
      "<string>:1: SyntaxWarning: 'int' object is not subscriptable; perhaps you missed a comma?\n",
      "<string>:1: SyntaxWarning: 'int' object is not subscriptable; perhaps you missed a comma?\n",
      "<string>:1: SyntaxWarning: 'int' object is not subscriptable; perhaps you missed a comma?\n",
      "<string>:1: SyntaxWarning: 'int' object is not subscriptable; perhaps you missed a comma?\n",
      "<string>:1: SyntaxWarning: 'int' object is not subscriptable; perhaps you missed a comma?\n",
      "<string>:1: SyntaxWarning: 'int' object is not subscriptable; perhaps you missed a comma?\n",
      "<string>:1: SyntaxWarning: 'int' object is not subscriptable; perhaps you missed a comma?\n"
     ]
    },
    {
     "name": "stdout",
     "output_type": "stream",
     "text": [
      "\t\tConstructing wrapper function \"dres_dtheta_1\"...\n",
      "\t\t  pd = dres_dtheta_1(time,dynamicVars,yprime,constants)\n",
      "\t\tConstructing wrapper function \"dres_dlog_tau_1\"...\n",
      "\t\t  pd = dres_dlog_tau_1(time,dynamicVars,yprime,constants)\n",
      "\t\tConstructing wrapper function \"dres_dw_1_0\"...\n",
      "\t\t  pd = dres_dw_1_0(time,dynamicVars,yprime,constants)\n",
      "\t\tConstructing wrapper function \"dres_dX_1_init\"...\n",
      "\t\t  pd = dres_dX_1_init(time,dynamicVars,yprime,constants)\n",
      "\t\tConstructing wrapper function \"dres_dw_2_0\"...\n",
      "\t\t  pd = dres_dw_2_0(time,dynamicVars,yprime,constants)\n",
      "\t\tConstructing wrapper function \"dres_dX_2_init\"...\n",
      "\t\t  pd = dres_dX_2_init(time,dynamicVars,yprime,constants)\n",
      "\t\tConstructing wrapper function \"sens_rhs\"...\n",
      "\t\t  sens_res = sens_rhs(time,sens_y,sens_yp,constants)\n",
      "\t\tConstructing wrapper function \"res_function_logdv\"...\n",
      "\t\t  residual = res_function_logdv(time,log_dv,log_yp,constants)\n",
      "\t\tConstructing wrapper function \"root_func_logdv\"...\n",
      "\t\t  root_devs = root_func_logdv(t,log_dv,log_yp,constants)\n",
      "\t\tConstructing wrapper function \"sens_rhs_logdv\"...\n",
      "\t\t  sens_res = sens_rhs_logdv(time,sens_y_log,sens_yp_log,constants)\n",
      "\t\tConstructing wrapper function \"integrate_stochastic_tidbit\"...\n",
      "\t\t  time_ptr,dv,stop_time_ptr,trajectory = integrate_stochastic_tidbit(seed_ptr,reseed,time_ptr,dv,cv,rmsd_ptr,stop_time_ptr)\n",
      "\tWrote C/API module \"CTSN_0_SFI_C02TJ318GTFL_961764_5144999461_55397\" to file \"./CTSN_0_SFI_C02TJ318GTFL_961764_5144999461_55397module.c\"\n",
      "  adding 'build/src.macosx-10.9-x86_64-3.8/./fortranobject.c' to sources.\n",
      "  adding 'build/src.macosx-10.9-x86_64-3.8/.' to include_dirs.\n",
      "copying /Users/bryandaniels/anaconda3/lib/python3.8/site-packages/numpy/f2py/src/fortranobject.c -> build/src.macosx-10.9-x86_64-3.8/.\n"
     ]
    },
    {
     "name": "stderr",
     "output_type": "stream",
     "text": [
      "WARNING:ReactionNetworks.Components:Failed to import dynamically compiled C module CTSN_0_SFI_C02TJ318GTFL_961764_5144999461_55397 for network CTSN.\n",
      "WARNING:ReactionNetworks.Components:No module named 'CTSN_0_SFI_C02TJ318GTFL_961764_5144999461_55397'\n"
     ]
    },
    {
     "name": "stdout",
     "output_type": "stream",
     "text": [
      "***STDOUT***\n",
      "b''\n",
      "***STDERR***\n",
      "b''\n",
      "SloppyCellFittingModel.fitToData: generating ensemble for these parameters: ['wself_0', 'theta_0', 'log_tau_0', 'w_0_1', 'w_0_2', 'wself_1', 'theta_1', 'log_tau_1', 'w_1_0', 'X_1_init', 'w_2_0', 'X_2_init']\n",
      "generateEnsemble_parallel: Generating parameter ensemble with 1000.0 total members, using 4 processors.\n",
      "SloppyCellFittingModel.fitToData: Cost = 227.33287776689724 ( 0 )\n",
      "SloppyCellFittingModel.fitToData: Cost = 222.49235292195175 ( 0 )\n",
      "SloppyCellFittingModel.fitToData: Cost = 209.5882934940421 ( 0 )\n",
      "SloppyCellFittingModel.fitToData: Cost = 193.97895308537278 ( 0 )\n",
      "SloppyCellFittingModel.fitToData: Cost = 203.95155782101972 ( 0 )\n",
      "SloppyCellFittingModel.fitToData: Cost = 199.5908564171267 ( 0 )\n",
      "SloppyCellFittingModel.fitToData: Cost = 208.1570211092333 ( 0 )\n",
      "SloppyCellFittingModel.fitToData: Cost = 210.53368358679242 ( 0 )\n",
      "SloppyCellFittingModel.fitToData: Cost = 189.12333359348142 ( 0 )\n",
      "SloppyCellFittingModel.fitToData: Cost = 168.16534214581253 ( 0 )\n",
      "SloppyCellFittingModel.fitToData: Best-fit cost =  168.16534214581253\n",
      "fittingProblem.fitAll: L = -111.37428795846986\n",
      "running build_ext\n",
      "running build_src\n",
      "build_src\n",
      "building extension \"CTSN_0_SFI_C02TJ318GTFL_8534737_1484999461_55397\" sources\n",
      "f2py options: []\n",
      "f2py: CTSN_0_SFI_C02TJ318GTFL_8534737_1484999461_55397.pyf\n",
      "Reading fortran codes...\n",
      "\tReading file 'CTSN_0_SFI_C02TJ318GTFL_8534737_1484999461_55397.pyf' (format:free)\n",
      "Post-processing...\n",
      "\tBlock: CTSN_0_SFI_C02TJ318GTFL_8534737_1484999461_55397\n",
      "\t\t\tBlock: res_function\n",
      "\t\t\tBlock: ddaskr_jac\n",
      "\t\t\tBlock: root_func\n",
      "\t\t\tBlock: alg_deriv_func\n",
      "\t\t\tBlock: alg_res_func\n",
      "\t\t\tBlock: dres_dc_function\n",
      "\t\t\tBlock: dres_dcdot_function\n",
      "\t\t\tBlock: dres_dwself_0\n",
      "\t\t\tBlock: dres_dtheta_0\n",
      "\t\t\tBlock: dres_dlog_tau_0\n",
      "\t\t\tBlock: dres_dw_0_1\n",
      "\t\t\tBlock: dres_dw_0_2\n",
      "\t\t\tBlock: dres_dwself_1\n",
      "\t\t\tBlock: dres_dtheta_1\n",
      "\t\t\tBlock: dres_dlog_tau_1\n",
      "\t\t\tBlock: dres_dw_1_0\n",
      "\t\t\tBlock: dres_dw_1_2\n",
      "\t\t\tBlock: dres_dX_1_init\n",
      "\t\t\tBlock: dres_dw_2_0\n",
      "\t\t\tBlock: dres_dw_2_1\n",
      "\t\t\tBlock: dres_dX_2_init\n",
      "\t\t\tBlock: sens_rhs\n",
      "\t\t\tBlock: res_function_logdv\n",
      "\t\t\tBlock: root_func_logdv\n",
      "\t\t\tBlock: sens_rhs_logdv\n",
      "\t\t\tBlock: integrate_stochastic_tidbit\n",
      "Post-processing (stage 2)...\n",
      "Building modules...\n",
      "\tBuilding module \"CTSN_0_SFI_C02TJ318GTFL_8534737_1484999461_55397\"...\n",
      "\t\tConstructing wrapper function \"res_function\"...\n",
      "\t\t  residual = res_function(time,dynamicVars,yprime,constants)\n",
      "\t\tConstructing wrapper function \"ddaskr_jac\"...\n",
      "\t\t  pd = ddaskr_jac(t,y,yprime,cj,rpar)\n",
      "\t\tConstructing wrapper function \"root_func\"...\n",
      "\t\t  root_devs = root_func(t,y,yp,constants)\n",
      "\t\tConstructing wrapper function \"alg_deriv_func\"...\n",
      "\t\t  alg_derivs_res = alg_deriv_func(alg_yp,dynamicVars,yp,time,constants)\n",
      "\t\tConstructing wrapper function \"alg_res_func\"...\n",
      "\t\t  residual = alg_res_func(alg_vals,dynamicVars,time,constants)\n",
      "\t\tConstructing wrapper function \"dres_dc_function\"...\n",
      "\t\t  pd = dres_dc_function(time,dynamicVars,yprime,constants)\n",
      "\t\tConstructing wrapper function \"dres_dcdot_function\"...\n",
      "\t\t  pd = dres_dcdot_function(time,dynamicVars,yprime,constants)\n",
      "\t\tConstructing wrapper function \"dres_dwself_0\"...\n",
      "\t\t  pd = dres_dwself_0(time,dynamicVars,yprime,constants)\n",
      "\t\tConstructing wrapper function \"dres_dtheta_0\"...\n",
      "\t\t  pd = dres_dtheta_0(time,dynamicVars,yprime,constants)\n",
      "\t\tConstructing wrapper function \"dres_dlog_tau_0\"...\n",
      "\t\t  pd = dres_dlog_tau_0(time,dynamicVars,yprime,constants)\n",
      "\t\tConstructing wrapper function \"dres_dw_0_1\"...\n",
      "\t\t  pd = dres_dw_0_1(time,dynamicVars,yprime,constants)\n",
      "\t\tConstructing wrapper function \"dres_dw_0_2\"...\n",
      "\t\t  pd = dres_dw_0_2(time,dynamicVars,yprime,constants)\n",
      "\t\tConstructing wrapper function \"dres_dwself_1\"...\n",
      "\t\t  pd = dres_dwself_1(time,dynamicVars,yprime,constants)\n",
      "\t\tConstructing wrapper function \"dres_dtheta_1\"...\n",
      "\t\t  pd = dres_dtheta_1(time,dynamicVars,yprime,constants)\n",
      "\t\tConstructing wrapper function \"dres_dlog_tau_1\"...\n"
     ]
    },
    {
     "name": "stderr",
     "output_type": "stream",
     "text": [
      "<string>:1: SyntaxWarning: 'int' object is not subscriptable; perhaps you missed a comma?\n",
      "<string>:1: SyntaxWarning: 'int' object is not subscriptable; perhaps you missed a comma?\n",
      "<string>:1: SyntaxWarning: 'int' object is not subscriptable; perhaps you missed a comma?\n",
      "<string>:1: SyntaxWarning: 'int' object is not subscriptable; perhaps you missed a comma?\n",
      "<string>:1: SyntaxWarning: 'int' object is not subscriptable; perhaps you missed a comma?\n",
      "<string>:1: SyntaxWarning: 'int' object is not subscriptable; perhaps you missed a comma?\n",
      "<string>:1: SyntaxWarning: 'int' object is not subscriptable; perhaps you missed a comma?\n"
     ]
    },
    {
     "name": "stdout",
     "output_type": "stream",
     "text": [
      "\t\t  pd = dres_dlog_tau_1(time,dynamicVars,yprime,constants)\n",
      "\t\tConstructing wrapper function \"dres_dw_1_0\"...\n",
      "\t\t  pd = dres_dw_1_0(time,dynamicVars,yprime,constants)\n",
      "\t\tConstructing wrapper function \"dres_dw_1_2\"...\n",
      "\t\t  pd = dres_dw_1_2(time,dynamicVars,yprime,constants)\n",
      "\t\tConstructing wrapper function \"dres_dX_1_init\"...\n",
      "\t\t  pd = dres_dX_1_init(time,dynamicVars,yprime,constants)\n",
      "\t\tConstructing wrapper function \"dres_dw_2_0\"...\n",
      "\t\t  pd = dres_dw_2_0(time,dynamicVars,yprime,constants)\n",
      "\t\tConstructing wrapper function \"dres_dw_2_1\"...\n",
      "\t\t  pd = dres_dw_2_1(time,dynamicVars,yprime,constants)\n",
      "\t\tConstructing wrapper function \"dres_dX_2_init\"...\n",
      "\t\t  pd = dres_dX_2_init(time,dynamicVars,yprime,constants)\n",
      "\t\tConstructing wrapper function \"sens_rhs\"...\n",
      "\t\t  sens_res = sens_rhs(time,sens_y,sens_yp,constants)\n",
      "\t\tConstructing wrapper function \"res_function_logdv\"...\n",
      "\t\t  residual = res_function_logdv(time,log_dv,log_yp,constants)\n",
      "\t\tConstructing wrapper function \"root_func_logdv\"...\n",
      "\t\t  root_devs = root_func_logdv(t,log_dv,log_yp,constants)\n",
      "\t\tConstructing wrapper function \"sens_rhs_logdv\"...\n",
      "\t\t  sens_res = sens_rhs_logdv(time,sens_y_log,sens_yp_log,constants)\n",
      "\t\tConstructing wrapper function \"integrate_stochastic_tidbit\"...\n",
      "\t\t  time_ptr,dv,stop_time_ptr,trajectory = integrate_stochastic_tidbit(seed_ptr,reseed,time_ptr,dv,cv,rmsd_ptr,stop_time_ptr)\n",
      "\tWrote C/API module \"CTSN_0_SFI_C02TJ318GTFL_8534737_1484999461_55397\" to file \"./CTSN_0_SFI_C02TJ318GTFL_8534737_1484999461_55397module.c\"\n",
      "  adding 'build/src.macosx-10.9-x86_64-3.8/./fortranobject.c' to sources.\n",
      "  adding 'build/src.macosx-10.9-x86_64-3.8/.' to include_dirs.\n",
      "copying /Users/bryandaniels/anaconda3/lib/python3.8/site-packages/numpy/f2py/src/fortranobject.c -> build/src.macosx-10.9-x86_64-3.8/.\n"
     ]
    },
    {
     "name": "stderr",
     "output_type": "stream",
     "text": [
      "WARNING:ReactionNetworks.Components:Failed to import dynamically compiled C module CTSN_0_SFI_C02TJ318GTFL_8534737_1484999461_55397 for network CTSN.\n",
      "WARNING:ReactionNetworks.Components:No module named 'CTSN_0_SFI_C02TJ318GTFL_8534737_1484999461_55397'\n"
     ]
    },
    {
     "name": "stdout",
     "output_type": "stream",
     "text": [
      "***STDOUT***\n",
      "b''\n",
      "***STDERR***\n",
      "b''\n",
      "SloppyCellFittingModel.fitToData: generating ensemble for these parameters: ['wself_0', 'theta_0', 'log_tau_0', 'w_0_1', 'w_0_2', 'wself_1', 'theta_1', 'log_tau_1', 'w_1_0', 'w_1_2', 'X_1_init', 'w_2_0', 'w_2_1', 'X_2_init']\n",
      "generateEnsemble_parallel: Generating parameter ensemble with 1000.0 total members, using 4 processors.\n",
      "SloppyCellFittingModel.fitToData: Cost = 206.11873788368985 ( 0 )\n",
      "SloppyCellFittingModel.fitToData: Cost = 210.33523268687375 ( 0 )\n",
      "SloppyCellFittingModel.fitToData: Cost = 195.06122403692248 ( 0 )\n",
      "SloppyCellFittingModel.fitToData: Cost = 181.41988012171583 ( 0 )\n",
      "SloppyCellFittingModel.fitToData: Cost = 174.74424347984802 ( 0 )\n",
      "SloppyCellFittingModel.fitToData: Cost = 165.5506236760365 ( 0 )\n",
      "SloppyCellFittingModel.fitToData: Cost = 184.82927939537956 ( 0 )\n",
      "SloppyCellFittingModel.fitToData: Cost = 179.98454075227224 ( 0 )\n",
      "SloppyCellFittingModel.fitToData: Cost = 167.2451096806936 ( 0 )\n",
      "SloppyCellFittingModel.fitToData: Cost = 166.77251528217533 ( 0 )\n",
      "SloppyCellFittingModel.fitToData: Best-fit cost =  165.5506236760365\n",
      "fittingProblem.fitAll: L = -111.39536205572358\n",
      "running build_ext\n",
      "running build_src\n",
      "build_src\n",
      "building extension \"CTSN_0_SFI_C02TJ318GTFL_849903_6466999461_55397\" sources\n",
      "f2py options: []\n",
      "f2py: CTSN_0_SFI_C02TJ318GTFL_849903_6466999461_55397.pyf\n",
      "Reading fortran codes...\n",
      "\tReading file 'CTSN_0_SFI_C02TJ318GTFL_849903_6466999461_55397.pyf' (format:free)\n",
      "Post-processing...\n",
      "\tBlock: CTSN_0_SFI_C02TJ318GTFL_849903_6466999461_55397\n",
      "\t\t\tBlock: res_function\n",
      "\t\t\tBlock: ddaskr_jac\n",
      "\t\t\tBlock: root_func\n",
      "\t\t\tBlock: alg_deriv_func\n",
      "\t\t\tBlock: alg_res_func\n",
      "\t\t\tBlock: dres_dc_function\n",
      "\t\t\tBlock: dres_dcdot_function\n",
      "\t\t\tBlock: dres_dwself_0\n",
      "\t\t\tBlock: dres_dtheta_0\n",
      "\t\t\tBlock: dres_dlog_tau_0\n",
      "\t\t\tBlock: dres_dw_0_1\n",
      "\t\t\tBlock: dres_dw_0_2\n",
      "\t\t\tBlock: dres_dwself_1\n",
      "\t\t\tBlock: dres_dtheta_1\n",
      "\t\t\tBlock: dres_dlog_tau_1\n",
      "\t\t\tBlock: dres_dw_1_0\n",
      "\t\t\tBlock: dres_dw_1_2\n",
      "\t\t\tBlock: dres_dX_1_init\n",
      "\t\t\tBlock: dres_dwself_2\n",
      "\t\t\tBlock: dres_dlog_tau_2\n",
      "\t\t\tBlock: dres_dw_2_0\n",
      "\t\t\tBlock: dres_dw_2_1\n",
      "\t\t\tBlock: dres_dX_2_init\n",
      "\t\t\tBlock: sens_rhs\n",
      "\t\t\tBlock: res_function_logdv\n",
      "\t\t\tBlock: root_func_logdv\n",
      "\t\t\tBlock: sens_rhs_logdv\n",
      "\t\t\tBlock: integrate_stochastic_tidbit\n",
      "Post-processing (stage 2)...\n",
      "Building modules...\n",
      "\tBuilding module \"CTSN_0_SFI_C02TJ318GTFL_849903_6466999461_55397\"...\n",
      "\t\tConstructing wrapper function \"res_function\"...\n",
      "\t\t  residual = res_function(time,dynamicVars,yprime,constants)\n",
      "\t\tConstructing wrapper function \"ddaskr_jac\"...\n",
      "\t\t  pd = ddaskr_jac(t,y,yprime,cj,rpar)\n",
      "\t\tConstructing wrapper function \"root_func\"...\n",
      "\t\t  root_devs = root_func(t,y,yp,constants)\n",
      "\t\tConstructing wrapper function \"alg_deriv_func\"...\n",
      "\t\t  alg_derivs_res = alg_deriv_func(alg_yp,dynamicVars,yp,time,constants)\n",
      "\t\tConstructing wrapper function \"alg_res_func\"...\n",
      "\t\t  residual = alg_res_func(alg_vals,dynamicVars,time,constants)\n",
      "\t\tConstructing wrapper function \"dres_dc_function\"...\n",
      "\t\t  pd = dres_dc_function(time,dynamicVars,yprime,constants)\n",
      "\t\tConstructing wrapper function \"dres_dcdot_function\"...\n",
      "\t\t  pd = dres_dcdot_function(time,dynamicVars,yprime,constants)\n",
      "\t\tConstructing wrapper function \"dres_dwself_0\"...\n",
      "\t\t  pd = dres_dwself_0(time,dynamicVars,yprime,constants)\n",
      "\t\tConstructing wrapper function \"dres_dtheta_0\"...\n",
      "\t\t  pd = dres_dtheta_0(time,dynamicVars,yprime,constants)\n",
      "\t\tConstructing wrapper function \"dres_dlog_tau_0\"...\n",
      "\t\t  pd = dres_dlog_tau_0(time,dynamicVars,yprime,constants)\n",
      "\t\tConstructing wrapper function \"dres_dw_0_1\"...\n",
      "\t\t  pd = dres_dw_0_1(time,dynamicVars,yprime,constants)\n",
      "\t\tConstructing wrapper function \"dres_dw_0_2\"...\n",
      "\t\t  pd = dres_dw_0_2(time,dynamicVars,yprime,constants)\n"
     ]
    },
    {
     "name": "stderr",
     "output_type": "stream",
     "text": [
      "<string>:1: SyntaxWarning: 'int' object is not subscriptable; perhaps you missed a comma?\n",
      "<string>:1: SyntaxWarning: 'int' object is not subscriptable; perhaps you missed a comma?\n",
      "<string>:1: SyntaxWarning: 'int' object is not subscriptable; perhaps you missed a comma?\n",
      "<string>:1: SyntaxWarning: 'int' object is not subscriptable; perhaps you missed a comma?\n",
      "<string>:1: SyntaxWarning: 'int' object is not subscriptable; perhaps you missed a comma?\n",
      "<string>:1: SyntaxWarning: 'int' object is not subscriptable; perhaps you missed a comma?\n",
      "<string>:1: SyntaxWarning: 'int' object is not subscriptable; perhaps you missed a comma?\n"
     ]
    },
    {
     "name": "stdout",
     "output_type": "stream",
     "text": [
      "\t\tConstructing wrapper function \"dres_dwself_1\"...\n",
      "\t\t  pd = dres_dwself_1(time,dynamicVars,yprime,constants)\n",
      "\t\tConstructing wrapper function \"dres_dtheta_1\"...\n",
      "\t\t  pd = dres_dtheta_1(time,dynamicVars,yprime,constants)\n",
      "\t\tConstructing wrapper function \"dres_dlog_tau_1\"...\n",
      "\t\t  pd = dres_dlog_tau_1(time,dynamicVars,yprime,constants)\n",
      "\t\tConstructing wrapper function \"dres_dw_1_0\"...\n",
      "\t\t  pd = dres_dw_1_0(time,dynamicVars,yprime,constants)\n",
      "\t\tConstructing wrapper function \"dres_dw_1_2\"...\n",
      "\t\t  pd = dres_dw_1_2(time,dynamicVars,yprime,constants)\n",
      "\t\tConstructing wrapper function \"dres_dX_1_init\"...\n",
      "\t\t  pd = dres_dX_1_init(time,dynamicVars,yprime,constants)\n",
      "\t\tConstructing wrapper function \"dres_dwself_2\"...\n",
      "\t\t  pd = dres_dwself_2(time,dynamicVars,yprime,constants)\n",
      "\t\tConstructing wrapper function \"dres_dlog_tau_2\"...\n",
      "\t\t  pd = dres_dlog_tau_2(time,dynamicVars,yprime,constants)\n",
      "\t\tConstructing wrapper function \"dres_dw_2_0\"...\n",
      "\t\t  pd = dres_dw_2_0(time,dynamicVars,yprime,constants)\n",
      "\t\tConstructing wrapper function \"dres_dw_2_1\"...\n",
      "\t\t  pd = dres_dw_2_1(time,dynamicVars,yprime,constants)\n",
      "\t\tConstructing wrapper function \"dres_dX_2_init\"...\n",
      "\t\t  pd = dres_dX_2_init(time,dynamicVars,yprime,constants)\n",
      "\t\tConstructing wrapper function \"sens_rhs\"...\n",
      "\t\t  sens_res = sens_rhs(time,sens_y,sens_yp,constants)\n",
      "\t\tConstructing wrapper function \"res_function_logdv\"...\n",
      "\t\t  residual = res_function_logdv(time,log_dv,log_yp,constants)\n",
      "\t\tConstructing wrapper function \"root_func_logdv\"...\n",
      "\t\t  root_devs = root_func_logdv(t,log_dv,log_yp,constants)\n",
      "\t\tConstructing wrapper function \"sens_rhs_logdv\"...\n",
      "\t\t  sens_res = sens_rhs_logdv(time,sens_y_log,sens_yp_log,constants)\n",
      "\t\tConstructing wrapper function \"integrate_stochastic_tidbit\"...\n",
      "\t\t  time_ptr,dv,stop_time_ptr,trajectory = integrate_stochastic_tidbit(seed_ptr,reseed,time_ptr,dv,cv,rmsd_ptr,stop_time_ptr)\n",
      "\tWrote C/API module \"CTSN_0_SFI_C02TJ318GTFL_849903_6466999461_55397\" to file \"./CTSN_0_SFI_C02TJ318GTFL_849903_6466999461_55397module.c\"\n",
      "  adding 'build/src.macosx-10.9-x86_64-3.8/./fortranobject.c' to sources.\n",
      "  adding 'build/src.macosx-10.9-x86_64-3.8/.' to include_dirs.\n",
      "copying /Users/bryandaniels/anaconda3/lib/python3.8/site-packages/numpy/f2py/src/fortranobject.c -> build/src.macosx-10.9-x86_64-3.8/.\n"
     ]
    },
    {
     "name": "stderr",
     "output_type": "stream",
     "text": [
      "WARNING:ReactionNetworks.Components:Failed to import dynamically compiled C module CTSN_0_SFI_C02TJ318GTFL_849903_6466999461_55397 for network CTSN.\n",
      "WARNING:ReactionNetworks.Components:No module named 'CTSN_0_SFI_C02TJ318GTFL_849903_6466999461_55397'\n"
     ]
    },
    {
     "name": "stdout",
     "output_type": "stream",
     "text": [
      "***STDOUT***\n",
      "b''\n",
      "***STDERR***\n",
      "b''\n",
      "SloppyCellFittingModel.fitToData: generating ensemble for these parameters: ['wself_0', 'theta_0', 'log_tau_0', 'w_0_1', 'w_0_2', 'wself_1', 'theta_1', 'log_tau_1', 'w_1_0', 'w_1_2', 'X_1_init', 'wself_2', 'log_tau_2', 'w_2_0', 'w_2_1', 'X_2_init']\n",
      "generateEnsemble_parallel: Generating parameter ensemble with 1000.0 total members, using 4 processors.\n",
      "SloppyCellFittingModel.fitToData: Cost = 146.01185943611304 ( 0 )\n",
      "SloppyCellFittingModel.fitToData: Cost = 146.09270839428052 ( 0 )\n",
      "SloppyCellFittingModel.fitToData: Cost = 146.6776502900789 ( 0 )\n",
      "SloppyCellFittingModel.fitToData: Cost = 151.90945056759594 ( 0 )\n",
      "SloppyCellFittingModel.fitToData: Cost = 150.62925227029857 ( 0 )\n",
      "SloppyCellFittingModel.fitToData: Cost = 153.80037773962417 ( 0 )\n",
      "SloppyCellFittingModel.fitToData: Cost = 159.6769503471026 ( 0 )\n",
      "SloppyCellFittingModel.fitToData: Cost = 160.63923096481886 ( 0 )\n",
      "SloppyCellFittingModel.fitToData: Cost = 163.82139788644315 ( 0 )\n",
      "SloppyCellFittingModel.fitToData: Cost = 164.30980771531853 ( 0 )\n",
      "SloppyCellFittingModel.fitToData: Best-fit cost =  146.01185943611304\n",
      "fittingProblem.fitAll: L = -101.73634248593586\n",
      "running build_ext\n",
      "running build_src\n",
      "build_src\n",
      "building extension \"CTSN_0_SFI_C02TJ318GTFL_335191_2098999461_55397\" sources\n",
      "f2py options: []\n",
      "f2py: CTSN_0_SFI_C02TJ318GTFL_335191_2098999461_55397.pyf\n",
      "Reading fortran codes...\n",
      "\tReading file 'CTSN_0_SFI_C02TJ318GTFL_335191_2098999461_55397.pyf' (format:free)\n",
      "Post-processing...\n",
      "\tBlock: CTSN_0_SFI_C02TJ318GTFL_335191_2098999461_55397\n",
      "\t\t\tBlock: res_function\n",
      "\t\t\tBlock: ddaskr_jac\n",
      "\t\t\tBlock: root_func\n",
      "\t\t\tBlock: alg_deriv_func\n",
      "\t\t\tBlock: alg_res_func\n",
      "\t\t\tBlock: dres_dc_function\n",
      "\t\t\tBlock: dres_dcdot_function\n",
      "\t\t\tBlock: dres_dwself_0\n",
      "\t\t\tBlock: dres_dtheta_0\n",
      "\t\t\tBlock: dres_dlog_tau_0\n",
      "\t\t\tBlock: dres_dw_0_1\n",
      "\t\t\tBlock: dres_dw_0_2\n",
      "\t\t\tBlock: dres_dw_0_3\n",
      "\t\t\tBlock: dres_dwself_1\n",
      "\t\t\tBlock: dres_dtheta_1\n",
      "\t\t\tBlock: dres_dlog_tau_1\n",
      "\t\t\tBlock: dres_dw_1_0\n",
      "\t\t\tBlock: dres_dw_1_2\n",
      "\t\t\tBlock: dres_dX_1_init\n",
      "\t\t\tBlock: dres_dwself_2\n",
      "\t\t\tBlock: dres_dtheta_2\n",
      "\t\t\tBlock: dres_dlog_tau_2\n",
      "\t\t\tBlock: dres_dw_2_0\n",
      "\t\t\tBlock: dres_dw_2_1\n",
      "\t\t\tBlock: dres_dX_2_init\n",
      "\t\t\tBlock: dres_dX_3_init\n",
      "\t\t\tBlock: sens_rhs\n",
      "\t\t\tBlock: res_function_logdv\n",
      "\t\t\tBlock: root_func_logdv\n",
      "\t\t\tBlock: sens_rhs_logdv\n",
      "\t\t\tBlock: integrate_stochastic_tidbit\n",
      "Post-processing (stage 2)...\n",
      "Building modules...\n",
      "\tBuilding module \"CTSN_0_SFI_C02TJ318GTFL_335191_2098999461_55397\"...\n",
      "\t\tConstructing wrapper function \"res_function\"...\n",
      "\t\t  residual = res_function(time,dynamicVars,yprime,constants)\n",
      "\t\tConstructing wrapper function \"ddaskr_jac\"...\n",
      "\t\t  pd = ddaskr_jac(t,y,yprime,cj,rpar)\n",
      "\t\tConstructing wrapper function \"root_func\"...\n",
      "\t\t  root_devs = root_func(t,y,yp,constants)\n",
      "\t\tConstructing wrapper function \"alg_deriv_func\"...\n",
      "\t\t  alg_derivs_res = alg_deriv_func(alg_yp,dynamicVars,yp,time,constants)\n",
      "\t\tConstructing wrapper function \"alg_res_func\"...\n",
      "\t\t  residual = alg_res_func(alg_vals,dynamicVars,time,constants)\n",
      "\t\tConstructing wrapper function \"dres_dc_function\"...\n",
      "\t\t  pd = dres_dc_function(time,dynamicVars,yprime,constants)\n",
      "\t\tConstructing wrapper function \"dres_dcdot_function\"...\n",
      "\t\t  pd = dres_dcdot_function(time,dynamicVars,yprime,constants)\n",
      "\t\tConstructing wrapper function \"dres_dwself_0\"...\n",
      "\t\t  pd = dres_dwself_0(time,dynamicVars,yprime,constants)\n",
      "\t\tConstructing wrapper function \"dres_dtheta_0\"...\n",
      "\t\t  pd = dres_dtheta_0(time,dynamicVars,yprime,constants)\n",
      "\t\tConstructing wrapper function \"dres_dlog_tau_0\"...\n",
      "\t\t  pd = dres_dlog_tau_0(time,dynamicVars,yprime,constants)\n",
      "\t\tConstructing wrapper function \"dres_dw_0_1\"...\n",
      "\t\t  pd = dres_dw_0_1(time,dynamicVars,yprime,constants)\n",
      "\t\tConstructing wrapper function \"dres_dw_0_2\"...\n",
      "\t\t  pd = dres_dw_0_2(time,dynamicVars,yprime,constants)\n",
      "\t\tConstructing wrapper function \"dres_dw_0_3\"...\n"
     ]
    },
    {
     "name": "stderr",
     "output_type": "stream",
     "text": [
      "<string>:1: SyntaxWarning: 'int' object is not subscriptable; perhaps you missed a comma?\n",
      "<string>:1: SyntaxWarning: 'int' object is not subscriptable; perhaps you missed a comma?\n",
      "<string>:1: SyntaxWarning: 'int' object is not subscriptable; perhaps you missed a comma?\n",
      "<string>:1: SyntaxWarning: 'int' object is not subscriptable; perhaps you missed a comma?\n",
      "<string>:1: SyntaxWarning: 'int' object is not subscriptable; perhaps you missed a comma?\n",
      "<string>:1: SyntaxWarning: 'int' object is not subscriptable; perhaps you missed a comma?\n",
      "<string>:1: SyntaxWarning: 'int' object is not subscriptable; perhaps you missed a comma?\n"
     ]
    },
    {
     "name": "stdout",
     "output_type": "stream",
     "text": [
      "\t\t  pd = dres_dw_0_3(time,dynamicVars,yprime,constants)\n",
      "\t\tConstructing wrapper function \"dres_dwself_1\"...\n",
      "\t\t  pd = dres_dwself_1(time,dynamicVars,yprime,constants)\n",
      "\t\tConstructing wrapper function \"dres_dtheta_1\"...\n",
      "\t\t  pd = dres_dtheta_1(time,dynamicVars,yprime,constants)\n",
      "\t\tConstructing wrapper function \"dres_dlog_tau_1\"...\n",
      "\t\t  pd = dres_dlog_tau_1(time,dynamicVars,yprime,constants)\n",
      "\t\tConstructing wrapper function \"dres_dw_1_0\"...\n",
      "\t\t  pd = dres_dw_1_0(time,dynamicVars,yprime,constants)\n",
      "\t\tConstructing wrapper function \"dres_dw_1_2\"...\n",
      "\t\t  pd = dres_dw_1_2(time,dynamicVars,yprime,constants)\n",
      "\t\tConstructing wrapper function \"dres_dX_1_init\"...\n",
      "\t\t  pd = dres_dX_1_init(time,dynamicVars,yprime,constants)\n",
      "\t\tConstructing wrapper function \"dres_dwself_2\"...\n",
      "\t\t  pd = dres_dwself_2(time,dynamicVars,yprime,constants)\n",
      "\t\tConstructing wrapper function \"dres_dtheta_2\"...\n",
      "\t\t  pd = dres_dtheta_2(time,dynamicVars,yprime,constants)\n",
      "\t\tConstructing wrapper function \"dres_dlog_tau_2\"...\n",
      "\t\t  pd = dres_dlog_tau_2(time,dynamicVars,yprime,constants)\n",
      "\t\tConstructing wrapper function \"dres_dw_2_0\"...\n",
      "\t\t  pd = dres_dw_2_0(time,dynamicVars,yprime,constants)\n",
      "\t\tConstructing wrapper function \"dres_dw_2_1\"...\n",
      "\t\t  pd = dres_dw_2_1(time,dynamicVars,yprime,constants)\n",
      "\t\tConstructing wrapper function \"dres_dX_2_init\"...\n",
      "\t\t  pd = dres_dX_2_init(time,dynamicVars,yprime,constants)\n",
      "\t\tConstructing wrapper function \"dres_dX_3_init\"...\n",
      "\t\t  pd = dres_dX_3_init(time,dynamicVars,yprime,constants)\n",
      "\t\tConstructing wrapper function \"sens_rhs\"...\n",
      "\t\t  sens_res = sens_rhs(time,sens_y,sens_yp,constants)\n",
      "\t\tConstructing wrapper function \"res_function_logdv\"...\n",
      "\t\t  residual = res_function_logdv(time,log_dv,log_yp,constants)\n",
      "\t\tConstructing wrapper function \"root_func_logdv\"...\n",
      "\t\t  root_devs = root_func_logdv(t,log_dv,log_yp,constants)\n",
      "\t\tConstructing wrapper function \"sens_rhs_logdv\"...\n",
      "\t\t  sens_res = sens_rhs_logdv(time,sens_y_log,sens_yp_log,constants)\n",
      "\t\tConstructing wrapper function \"integrate_stochastic_tidbit\"...\n",
      "\t\t  time_ptr,dv,stop_time_ptr,trajectory = integrate_stochastic_tidbit(seed_ptr,reseed,time_ptr,dv,cv,rmsd_ptr,stop_time_ptr)\n",
      "\tWrote C/API module \"CTSN_0_SFI_C02TJ318GTFL_335191_2098999461_55397\" to file \"./CTSN_0_SFI_C02TJ318GTFL_335191_2098999461_55397module.c\"\n",
      "  adding 'build/src.macosx-10.9-x86_64-3.8/./fortranobject.c' to sources.\n",
      "  adding 'build/src.macosx-10.9-x86_64-3.8/.' to include_dirs.\n",
      "copying /Users/bryandaniels/anaconda3/lib/python3.8/site-packages/numpy/f2py/src/fortranobject.c -> build/src.macosx-10.9-x86_64-3.8/.\n"
     ]
    },
    {
     "name": "stderr",
     "output_type": "stream",
     "text": [
      "WARNING:ReactionNetworks.Components:Failed to import dynamically compiled C module CTSN_0_SFI_C02TJ318GTFL_335191_2098999461_55397 for network CTSN.\n",
      "WARNING:ReactionNetworks.Components:No module named 'CTSN_0_SFI_C02TJ318GTFL_335191_2098999461_55397'\n"
     ]
    },
    {
     "name": "stdout",
     "output_type": "stream",
     "text": [
      "***STDOUT***\n",
      "b''\n",
      "***STDERR***\n",
      "b''\n",
      "SloppyCellFittingModel.fitToData: generating ensemble for these parameters: ['wself_0', 'theta_0', 'log_tau_0', 'w_0_1', 'w_0_2', 'w_0_3', 'wself_1', 'theta_1', 'log_tau_1', 'w_1_0', 'w_1_2', 'X_1_init', 'wself_2', 'theta_2', 'log_tau_2', 'w_2_0', 'w_2_1', 'X_2_init', 'X_3_init']\n",
      "generateEnsemble_parallel: Generating parameter ensemble with 1000.0 total members, using 4 processors.\n",
      "SloppyCellFittingModel.fitToData: Cost = 144.72440677452516 ( 1 )\n",
      "SloppyCellFittingModel.fitToData: Cost = 144.56816866628176 ( 1 )\n",
      "SloppyCellFittingModel.fitToData: Cost = 144.655928103342 ( 1 )\n",
      "SloppyCellFittingModel.fitToData: Cost = 143.89626504640788 ( 1 )\n",
      "SloppyCellFittingModel.fitToData: Cost = 145.87604103496503 ( 1 )\n",
      "SloppyCellFittingModel.fitToData: Cost = 146.33548722451414 ( 1 )\n",
      "SloppyCellFittingModel.fitToData: Cost = 146.2942268022188 ( 1 )\n",
      "SloppyCellFittingModel.fitToData: Cost = 149.78107646044734 ( 0 )\n",
      "SloppyCellFittingModel.fitToData: Cost = 147.40671988653065 ( 1 )\n",
      "SloppyCellFittingModel.fitToData: Cost = 145.96406922360757 ( 1 )\n",
      "SloppyCellFittingModel.fitToData: Best-fit cost =  143.89626504640788\n",
      "fittingProblem.fitAll: L = -100.71206178207522\n",
      "running build_ext\n",
      "running build_src\n",
      "build_src\n",
      "building extension \"CTSN_0_SFI_C02TJ318GTFL_122276_5919999461_55397\" sources\n",
      "f2py options: []\n",
      "f2py: CTSN_0_SFI_C02TJ318GTFL_122276_5919999461_55397.pyf\n",
      "Reading fortran codes...\n",
      "\tReading file 'CTSN_0_SFI_C02TJ318GTFL_122276_5919999461_55397.pyf' (format:free)\n",
      "Post-processing...\n",
      "\tBlock: CTSN_0_SFI_C02TJ318GTFL_122276_5919999461_55397\n",
      "\t\t\tBlock: res_function\n",
      "\t\t\tBlock: ddaskr_jac\n",
      "\t\t\tBlock: root_func\n",
      "\t\t\tBlock: alg_deriv_func\n",
      "\t\t\tBlock: alg_res_func\n",
      "\t\t\tBlock: dres_dc_function\n",
      "\t\t\tBlock: dres_dcdot_function\n",
      "\t\t\tBlock: dres_dwself_0\n",
      "\t\t\tBlock: dres_dtheta_0\n",
      "\t\t\tBlock: dres_dlog_tau_0\n",
      "\t\t\tBlock: dres_dw_0_1\n",
      "\t\t\tBlock: dres_dw_0_2\n",
      "\t\t\tBlock: dres_dw_0_3\n",
      "\t\t\tBlock: dres_dwself_1\n",
      "\t\t\tBlock: dres_dtheta_1\n",
      "\t\t\tBlock: dres_dlog_tau_1\n",
      "\t\t\tBlock: dres_dw_1_0\n",
      "\t\t\tBlock: dres_dw_1_2\n",
      "\t\t\tBlock: dres_dw_1_3\n",
      "\t\t\tBlock: dres_dX_1_init\n",
      "\t\t\tBlock: dres_dwself_2\n",
      "\t\t\tBlock: dres_dtheta_2\n",
      "\t\t\tBlock: dres_dlog_tau_2\n",
      "\t\t\tBlock: dres_dw_2_0\n",
      "\t\t\tBlock: dres_dw_2_1\n",
      "\t\t\tBlock: dres_dX_2_init\n",
      "\t\t\tBlock: dres_dw_3_0\n",
      "\t\t\tBlock: dres_dX_3_init\n",
      "\t\t\tBlock: sens_rhs\n",
      "\t\t\tBlock: res_function_logdv\n",
      "\t\t\tBlock: root_func_logdv\n",
      "\t\t\tBlock: sens_rhs_logdv\n",
      "\t\t\tBlock: integrate_stochastic_tidbit\n",
      "Post-processing (stage 2)...\n",
      "Building modules...\n",
      "\tBuilding module \"CTSN_0_SFI_C02TJ318GTFL_122276_5919999461_55397\"...\n",
      "\t\tConstructing wrapper function \"res_function\"...\n",
      "\t\t  residual = res_function(time,dynamicVars,yprime,constants)\n",
      "\t\tConstructing wrapper function \"ddaskr_jac\"...\n",
      "\t\t  pd = ddaskr_jac(t,y,yprime,cj,rpar)\n",
      "\t\tConstructing wrapper function \"root_func\"...\n",
      "\t\t  root_devs = root_func(t,y,yp,constants)\n",
      "\t\tConstructing wrapper function \"alg_deriv_func\"...\n",
      "\t\t  alg_derivs_res = alg_deriv_func(alg_yp,dynamicVars,yp,time,constants)\n",
      "\t\tConstructing wrapper function \"alg_res_func\"...\n",
      "\t\t  residual = alg_res_func(alg_vals,dynamicVars,time,constants)\n",
      "\t\tConstructing wrapper function \"dres_dc_function\"...\n",
      "\t\t  pd = dres_dc_function(time,dynamicVars,yprime,constants)\n",
      "\t\tConstructing wrapper function \"dres_dcdot_function\"...\n",
      "\t\t  pd = dres_dcdot_function(time,dynamicVars,yprime,constants)\n",
      "\t\tConstructing wrapper function \"dres_dwself_0\"...\n",
      "\t\t  pd = dres_dwself_0(time,dynamicVars,yprime,constants)\n",
      "\t\tConstructing wrapper function \"dres_dtheta_0\"...\n",
      "\t\t  pd = dres_dtheta_0(time,dynamicVars,yprime,constants)\n",
      "\t\tConstructing wrapper function \"dres_dlog_tau_0\"...\n",
      "\t\t  pd = dres_dlog_tau_0(time,dynamicVars,yprime,constants)\n",
      "\t\tConstructing wrapper function \"dres_dw_0_1\"...\n",
      "\t\t  pd = dres_dw_0_1(time,dynamicVars,yprime,constants)\n",
      "\t\tConstructing wrapper function \"dres_dw_0_2\"...\n",
      "\t\t  pd = dres_dw_0_2(time,dynamicVars,yprime,constants)\n",
      "\t\tConstructing wrapper function \"dres_dw_0_3\"...\n",
      "\t\t  pd = dres_dw_0_3(time,dynamicVars,yprime,constants)\n",
      "\t\tConstructing wrapper function \"dres_dwself_1\"...\n",
      "\t\t  pd = dres_dwself_1(time,dynamicVars,yprime,constants)\n",
      "\t\tConstructing wrapper function \"dres_dtheta_1\"...\n",
      "\t\t  pd = dres_dtheta_1(time,dynamicVars,yprime,constants)\n",
      "\t\tConstructing wrapper function \"dres_dlog_tau_1\"...\n",
      "\t\t  pd = dres_dlog_tau_1(time,dynamicVars,yprime,constants)\n",
      "\t\tConstructing wrapper function \"dres_dw_1_0\"...\n",
      "\t\t  pd = dres_dw_1_0(time,dynamicVars,yprime,constants)\n",
      "\t\tConstructing wrapper function \"dres_dw_1_2\"...\n",
      "\t\t  pd = dres_dw_1_2(time,dynamicVars,yprime,constants)\n",
      "\t\tConstructing wrapper function \"dres_dw_1_3\"...\n"
     ]
    },
    {
     "name": "stderr",
     "output_type": "stream",
     "text": [
      "<string>:1: SyntaxWarning: 'int' object is not subscriptable; perhaps you missed a comma?\n",
      "<string>:1: SyntaxWarning: 'int' object is not subscriptable; perhaps you missed a comma?\n",
      "<string>:1: SyntaxWarning: 'int' object is not subscriptable; perhaps you missed a comma?\n",
      "<string>:1: SyntaxWarning: 'int' object is not subscriptable; perhaps you missed a comma?\n",
      "<string>:1: SyntaxWarning: 'int' object is not subscriptable; perhaps you missed a comma?\n",
      "<string>:1: SyntaxWarning: 'int' object is not subscriptable; perhaps you missed a comma?\n",
      "<string>:1: SyntaxWarning: 'int' object is not subscriptable; perhaps you missed a comma?\n"
     ]
    },
    {
     "name": "stdout",
     "output_type": "stream",
     "text": [
      "\t\t  pd = dres_dw_1_3(time,dynamicVars,yprime,constants)\n",
      "\t\tConstructing wrapper function \"dres_dX_1_init\"...\n",
      "\t\t  pd = dres_dX_1_init(time,dynamicVars,yprime,constants)\n",
      "\t\tConstructing wrapper function \"dres_dwself_2\"...\n",
      "\t\t  pd = dres_dwself_2(time,dynamicVars,yprime,constants)\n",
      "\t\tConstructing wrapper function \"dres_dtheta_2\"...\n",
      "\t\t  pd = dres_dtheta_2(time,dynamicVars,yprime,constants)\n",
      "\t\tConstructing wrapper function \"dres_dlog_tau_2\"...\n",
      "\t\t  pd = dres_dlog_tau_2(time,dynamicVars,yprime,constants)\n",
      "\t\tConstructing wrapper function \"dres_dw_2_0\"...\n",
      "\t\t  pd = dres_dw_2_0(time,dynamicVars,yprime,constants)\n",
      "\t\tConstructing wrapper function \"dres_dw_2_1\"...\n",
      "\t\t  pd = dres_dw_2_1(time,dynamicVars,yprime,constants)\n",
      "\t\tConstructing wrapper function \"dres_dX_2_init\"...\n",
      "\t\t  pd = dres_dX_2_init(time,dynamicVars,yprime,constants)\n",
      "\t\tConstructing wrapper function \"dres_dw_3_0\"...\n",
      "\t\t  pd = dres_dw_3_0(time,dynamicVars,yprime,constants)\n",
      "\t\tConstructing wrapper function \"dres_dX_3_init\"...\n",
      "\t\t  pd = dres_dX_3_init(time,dynamicVars,yprime,constants)\n",
      "\t\tConstructing wrapper function \"sens_rhs\"...\n",
      "\t\t  sens_res = sens_rhs(time,sens_y,sens_yp,constants)\n",
      "\t\tConstructing wrapper function \"res_function_logdv\"...\n",
      "\t\t  residual = res_function_logdv(time,log_dv,log_yp,constants)\n",
      "\t\tConstructing wrapper function \"root_func_logdv\"...\n",
      "\t\t  root_devs = root_func_logdv(t,log_dv,log_yp,constants)\n",
      "\t\tConstructing wrapper function \"sens_rhs_logdv\"...\n",
      "\t\t  sens_res = sens_rhs_logdv(time,sens_y_log,sens_yp_log,constants)\n",
      "\t\tConstructing wrapper function \"integrate_stochastic_tidbit\"...\n",
      "\t\t  time_ptr,dv,stop_time_ptr,trajectory = integrate_stochastic_tidbit(seed_ptr,reseed,time_ptr,dv,cv,rmsd_ptr,stop_time_ptr)\n",
      "\tWrote C/API module \"CTSN_0_SFI_C02TJ318GTFL_122276_5919999461_55397\" to file \"./CTSN_0_SFI_C02TJ318GTFL_122276_5919999461_55397module.c\"\n",
      "  adding 'build/src.macosx-10.9-x86_64-3.8/./fortranobject.c' to sources.\n",
      "  adding 'build/src.macosx-10.9-x86_64-3.8/.' to include_dirs.\n",
      "copying /Users/bryandaniels/anaconda3/lib/python3.8/site-packages/numpy/f2py/src/fortranobject.c -> build/src.macosx-10.9-x86_64-3.8/.\n"
     ]
    },
    {
     "name": "stderr",
     "output_type": "stream",
     "text": [
      "WARNING:ReactionNetworks.Components:Failed to import dynamically compiled C module CTSN_0_SFI_C02TJ318GTFL_122276_5919999461_55397 for network CTSN.\n",
      "WARNING:ReactionNetworks.Components:No module named 'CTSN_0_SFI_C02TJ318GTFL_122276_5919999461_55397'\n"
     ]
    },
    {
     "name": "stdout",
     "output_type": "stream",
     "text": [
      "***STDOUT***\n",
      "b''\n",
      "***STDERR***\n",
      "b''\n",
      "SloppyCellFittingModel.fitToData: generating ensemble for these parameters: ['wself_0', 'theta_0', 'log_tau_0', 'w_0_1', 'w_0_2', 'w_0_3', 'wself_1', 'theta_1', 'log_tau_1', 'w_1_0', 'w_1_2', 'w_1_3', 'X_1_init', 'wself_2', 'theta_2', 'log_tau_2', 'w_2_0', 'w_2_1', 'X_2_init', 'w_3_0', 'X_3_init']\n",
      "generateEnsemble_parallel: Generating parameter ensemble with 1000.0 total members, using 4 processors.\n",
      "SloppyCellFittingModel.fitToData: Cost = 141.45630589390404 ( 1 )\n",
      "SloppyCellFittingModel.fitToData: Cost = 141.79500987504818 ( 1 )\n",
      "SloppyCellFittingModel.fitToData: Cost = 141.85093727737242 ( 1 )\n",
      "SloppyCellFittingModel.fitToData: Cost = 143.186734867305 ( 1 )\n",
      "SloppyCellFittingModel.fitToData: Cost = 143.03025421477258 ( 1 )\n",
      "SloppyCellFittingModel.fitToData: Cost = 142.22233435393642 ( 1 )\n",
      "SloppyCellFittingModel.fitToData: Cost = 141.59313827004246 ( 1 )\n",
      "SloppyCellFittingModel.fitToData: Cost = 142.86654401952106 ( 1 )\n",
      "SloppyCellFittingModel.fitToData: Cost = 143.98793585946981 ( 1 )\n",
      "SloppyCellFittingModel.fitToData: Cost = 143.8962650464079 ( 1 )\n",
      "SloppyCellFittingModel.fitToData: Best-fit cost =  141.45630589390404\n",
      "fittingProblem.fitAll: L = -99.4359135816204\n",
      "running build_ext\n",
      "running build_src\n",
      "build_src\n",
      "building extension \"CTSN_0_SFI_C02TJ318GTFL_2155757_3649999461_55397\" sources\n",
      "f2py options: []\n",
      "f2py: CTSN_0_SFI_C02TJ318GTFL_2155757_3649999461_55397.pyf\n",
      "Reading fortran codes...\n",
      "\tReading file 'CTSN_0_SFI_C02TJ318GTFL_2155757_3649999461_55397.pyf' (format:free)\n",
      "Post-processing...\n",
      "\tBlock: CTSN_0_SFI_C02TJ318GTFL_2155757_3649999461_55397\n",
      "\t\t\tBlock: res_function\n",
      "\t\t\tBlock: ddaskr_jac\n",
      "\t\t\tBlock: root_func\n",
      "\t\t\tBlock: alg_deriv_func\n",
      "\t\t\tBlock: alg_res_func\n",
      "\t\t\tBlock: dres_dc_function\n",
      "\t\t\tBlock: dres_dcdot_function\n",
      "\t\t\tBlock: dres_dwself_0\n",
      "\t\t\tBlock: dres_dtheta_0\n",
      "\t\t\tBlock: dres_dlog_tau_0\n",
      "\t\t\tBlock: dres_dw_0_1\n",
      "\t\t\tBlock: dres_dw_0_2\n",
      "\t\t\tBlock: dres_dw_0_3\n",
      "\t\t\tBlock: dres_dwself_1\n",
      "\t\t\tBlock: dres_dtheta_1\n",
      "\t\t\tBlock: dres_dlog_tau_1\n",
      "\t\t\tBlock: dres_dw_1_0\n",
      "\t\t\tBlock: dres_dw_1_2\n",
      "\t\t\tBlock: dres_dw_1_3\n",
      "\t\t\tBlock: dres_dX_1_init\n",
      "\t\t\tBlock: dres_dwself_2\n",
      "\t\t\tBlock: dres_dtheta_2\n",
      "\t\t\tBlock: dres_dlog_tau_2\n",
      "\t\t\tBlock: dres_dw_2_0\n",
      "\t\t\tBlock: dres_dw_2_1\n",
      "\t\t\tBlock: dres_dw_2_3\n",
      "\t\t\tBlock: dres_dX_2_init\n",
      "\t\t\tBlock: dres_dw_3_0\n",
      "\t\t\tBlock: dres_dw_3_1\n",
      "\t\t\tBlock: dres_dX_3_init\n",
      "\t\t\tBlock: sens_rhs\n",
      "\t\t\tBlock: res_function_logdv\n",
      "\t\t\tBlock: root_func_logdv\n",
      "\t\t\tBlock: sens_rhs_logdv\n",
      "\t\t\tBlock: integrate_stochastic_tidbit\n",
      "Post-processing (stage 2)...\n",
      "Building modules...\n",
      "\tBuilding module \"CTSN_0_SFI_C02TJ318GTFL_2155757_3649999461_55397\"...\n",
      "\t\tConstructing wrapper function \"res_function\"...\n",
      "\t\t  residual = res_function(time,dynamicVars,yprime,constants)\n",
      "\t\tConstructing wrapper function \"ddaskr_jac\"...\n",
      "\t\t  pd = ddaskr_jac(t,y,yprime,cj,rpar)\n",
      "\t\tConstructing wrapper function \"root_func\"...\n",
      "\t\t  root_devs = root_func(t,y,yp,constants)\n",
      "\t\tConstructing wrapper function \"alg_deriv_func\"...\n",
      "\t\t  alg_derivs_res = alg_deriv_func(alg_yp,dynamicVars,yp,time,constants)\n",
      "\t\tConstructing wrapper function \"alg_res_func\"...\n",
      "\t\t  residual = alg_res_func(alg_vals,dynamicVars,time,constants)\n",
      "\t\tConstructing wrapper function \"dres_dc_function\"...\n",
      "\t\t  pd = dres_dc_function(time,dynamicVars,yprime,constants)\n",
      "\t\tConstructing wrapper function \"dres_dcdot_function\"...\n",
      "\t\t  pd = dres_dcdot_function(time,dynamicVars,yprime,constants)\n",
      "\t\tConstructing wrapper function \"dres_dwself_0\"...\n",
      "\t\t  pd = dres_dwself_0(time,dynamicVars,yprime,constants)\n",
      "\t\tConstructing wrapper function \"dres_dtheta_0\"...\n",
      "\t\t  pd = dres_dtheta_0(time,dynamicVars,yprime,constants)\n",
      "\t\tConstructing wrapper function \"dres_dlog_tau_0\"...\n",
      "\t\t  pd = dres_dlog_tau_0(time,dynamicVars,yprime,constants)\n",
      "\t\tConstructing wrapper function \"dres_dw_0_1\"...\n",
      "\t\t  pd = dres_dw_0_1(time,dynamicVars,yprime,constants)\n",
      "\t\tConstructing wrapper function \"dres_dw_0_2\"...\n",
      "\t\t  pd = dres_dw_0_2(time,dynamicVars,yprime,constants)\n",
      "\t\tConstructing wrapper function \"dres_dw_0_3\"...\n",
      "\t\t  pd = dres_dw_0_3(time,dynamicVars,yprime,constants)\n",
      "\t\tConstructing wrapper function \"dres_dwself_1\"...\n",
      "\t\t  pd = dres_dwself_1(time,dynamicVars,yprime,constants)\n",
      "\t\tConstructing wrapper function \"dres_dtheta_1\"...\n",
      "\t\t  pd = dres_dtheta_1(time,dynamicVars,yprime,constants)\n",
      "\t\tConstructing wrapper function \"dres_dlog_tau_1\"...\n",
      "\t\t  pd = dres_dlog_tau_1(time,dynamicVars,yprime,constants)\n",
      "\t\tConstructing wrapper function \"dres_dw_1_0\"...\n",
      "\t\t  pd = dres_dw_1_0(time,dynamicVars,yprime,constants)\n"
     ]
    },
    {
     "name": "stderr",
     "output_type": "stream",
     "text": [
      "<string>:1: SyntaxWarning: 'int' object is not subscriptable; perhaps you missed a comma?\n",
      "<string>:1: SyntaxWarning: 'int' object is not subscriptable; perhaps you missed a comma?\n",
      "<string>:1: SyntaxWarning: 'int' object is not subscriptable; perhaps you missed a comma?\n",
      "<string>:1: SyntaxWarning: 'int' object is not subscriptable; perhaps you missed a comma?\n",
      "<string>:1: SyntaxWarning: 'int' object is not subscriptable; perhaps you missed a comma?\n",
      "<string>:1: SyntaxWarning: 'int' object is not subscriptable; perhaps you missed a comma?\n",
      "<string>:1: SyntaxWarning: 'int' object is not subscriptable; perhaps you missed a comma?\n"
     ]
    },
    {
     "name": "stdout",
     "output_type": "stream",
     "text": [
      "\t\tConstructing wrapper function \"dres_dw_1_2\"...\n",
      "\t\t  pd = dres_dw_1_2(time,dynamicVars,yprime,constants)\n",
      "\t\tConstructing wrapper function \"dres_dw_1_3\"...\n",
      "\t\t  pd = dres_dw_1_3(time,dynamicVars,yprime,constants)\n",
      "\t\tConstructing wrapper function \"dres_dX_1_init\"...\n",
      "\t\t  pd = dres_dX_1_init(time,dynamicVars,yprime,constants)\n",
      "\t\tConstructing wrapper function \"dres_dwself_2\"...\n",
      "\t\t  pd = dres_dwself_2(time,dynamicVars,yprime,constants)\n",
      "\t\tConstructing wrapper function \"dres_dtheta_2\"...\n",
      "\t\t  pd = dres_dtheta_2(time,dynamicVars,yprime,constants)\n",
      "\t\tConstructing wrapper function \"dres_dlog_tau_2\"...\n",
      "\t\t  pd = dres_dlog_tau_2(time,dynamicVars,yprime,constants)\n",
      "\t\tConstructing wrapper function \"dres_dw_2_0\"...\n",
      "\t\t  pd = dres_dw_2_0(time,dynamicVars,yprime,constants)\n",
      "\t\tConstructing wrapper function \"dres_dw_2_1\"...\n",
      "\t\t  pd = dres_dw_2_1(time,dynamicVars,yprime,constants)\n",
      "\t\tConstructing wrapper function \"dres_dw_2_3\"...\n",
      "\t\t  pd = dres_dw_2_3(time,dynamicVars,yprime,constants)\n",
      "\t\tConstructing wrapper function \"dres_dX_2_init\"...\n",
      "\t\t  pd = dres_dX_2_init(time,dynamicVars,yprime,constants)\n",
      "\t\tConstructing wrapper function \"dres_dw_3_0\"...\n",
      "\t\t  pd = dres_dw_3_0(time,dynamicVars,yprime,constants)\n",
      "\t\tConstructing wrapper function \"dres_dw_3_1\"...\n",
      "\t\t  pd = dres_dw_3_1(time,dynamicVars,yprime,constants)\n",
      "\t\tConstructing wrapper function \"dres_dX_3_init\"...\n",
      "\t\t  pd = dres_dX_3_init(time,dynamicVars,yprime,constants)\n",
      "\t\tConstructing wrapper function \"sens_rhs\"...\n",
      "\t\t  sens_res = sens_rhs(time,sens_y,sens_yp,constants)\n",
      "\t\tConstructing wrapper function \"res_function_logdv\"...\n",
      "\t\t  residual = res_function_logdv(time,log_dv,log_yp,constants)\n",
      "\t\tConstructing wrapper function \"root_func_logdv\"...\n",
      "\t\t  root_devs = root_func_logdv(t,log_dv,log_yp,constants)\n",
      "\t\tConstructing wrapper function \"sens_rhs_logdv\"...\n",
      "\t\t  sens_res = sens_rhs_logdv(time,sens_y_log,sens_yp_log,constants)\n",
      "\t\tConstructing wrapper function \"integrate_stochastic_tidbit\"...\n",
      "\t\t  time_ptr,dv,stop_time_ptr,trajectory = integrate_stochastic_tidbit(seed_ptr,reseed,time_ptr,dv,cv,rmsd_ptr,stop_time_ptr)\n",
      "\tWrote C/API module \"CTSN_0_SFI_C02TJ318GTFL_2155757_3649999461_55397\" to file \"./CTSN_0_SFI_C02TJ318GTFL_2155757_3649999461_55397module.c\"\n",
      "  adding 'build/src.macosx-10.9-x86_64-3.8/./fortranobject.c' to sources.\n",
      "  adding 'build/src.macosx-10.9-x86_64-3.8/.' to include_dirs.\n",
      "copying /Users/bryandaniels/anaconda3/lib/python3.8/site-packages/numpy/f2py/src/fortranobject.c -> build/src.macosx-10.9-x86_64-3.8/.\n"
     ]
    },
    {
     "name": "stderr",
     "output_type": "stream",
     "text": [
      "WARNING:ReactionNetworks.Components:Failed to import dynamically compiled C module CTSN_0_SFI_C02TJ318GTFL_2155757_3649999461_55397 for network CTSN.\n",
      "WARNING:ReactionNetworks.Components:No module named 'CTSN_0_SFI_C02TJ318GTFL_2155757_3649999461_55397'\n"
     ]
    },
    {
     "name": "stdout",
     "output_type": "stream",
     "text": [
      "***STDOUT***\n",
      "b''\n",
      "***STDERR***\n",
      "b''\n",
      "SloppyCellFittingModel.fitToData: generating ensemble for these parameters: ['wself_0', 'theta_0', 'log_tau_0', 'w_0_1', 'w_0_2', 'w_0_3', 'wself_1', 'theta_1', 'log_tau_1', 'w_1_0', 'w_1_2', 'w_1_3', 'X_1_init', 'wself_2', 'theta_2', 'log_tau_2', 'w_2_0', 'w_2_1', 'w_2_3', 'X_2_init', 'w_3_0', 'w_3_1', 'X_3_init']\n",
      "generateEnsemble_parallel: Generating parameter ensemble with 1000.0 total members, using 4 processors.\n",
      "SloppyCellFittingModel.fitToData: Cost = 141.57125668549912 ( 0 )\n",
      "SloppyCellFittingModel.fitToData: Cost = 139.3071908944069 ( 0 )\n",
      "SloppyCellFittingModel.fitToData: Cost = 139.69825770452204 ( 0 )\n",
      "SloppyCellFittingModel.fitToData: Cost = 139.96686930621067 ( 1 )\n",
      "SloppyCellFittingModel.fitToData: Cost = 139.90624994055432 ( 0 )\n",
      "SloppyCellFittingModel.fitToData: Cost = 140.17180261246122 ( 1 )\n",
      "SloppyCellFittingModel.fitToData: Cost = 141.2158604262362 ( 1 )\n",
      "SloppyCellFittingModel.fitToData: Cost = 142.74237696661555 ( 1 )\n",
      "SloppyCellFittingModel.fitToData: Cost = 143.36213171139875 ( 1 )\n",
      "SloppyCellFittingModel.fitToData: Cost = 141.45630589390404 ( 1 )\n",
      "SloppyCellFittingModel.fitToData: Best-fit cost =  139.3071908944069\n",
      "fittingProblem.fitAll: L = -99.71761200844466\n",
      "running build_ext\n",
      "running build_src\n",
      "build_src\n",
      "building extension \"CTSN_0_SFI_C02TJ318GTFL_330417_4789999461_55397\" sources\n",
      "f2py options: []\n",
      "f2py: CTSN_0_SFI_C02TJ318GTFL_330417_4789999461_55397.pyf\n",
      "Reading fortran codes...\n",
      "\tReading file 'CTSN_0_SFI_C02TJ318GTFL_330417_4789999461_55397.pyf' (format:free)\n",
      "Post-processing...\n",
      "\tBlock: CTSN_0_SFI_C02TJ318GTFL_330417_4789999461_55397\n",
      "\t\t\tBlock: res_function\n",
      "\t\t\tBlock: ddaskr_jac\n",
      "\t\t\tBlock: root_func\n",
      "\t\t\tBlock: alg_deriv_func\n",
      "\t\t\tBlock: alg_res_func\n",
      "\t\t\tBlock: dres_dc_function\n",
      "\t\t\tBlock: dres_dcdot_function\n",
      "\t\t\tBlock: dres_dwself_0\n",
      "\t\t\tBlock: dres_dtheta_0\n",
      "\t\t\tBlock: dres_dlog_tau_0\n",
      "\t\t\tBlock: dres_dw_0_1\n",
      "\t\t\tBlock: dres_dw_0_2\n",
      "\t\t\tBlock: dres_dw_0_3\n",
      "\t\t\tBlock: dres_dwself_1\n",
      "\t\t\tBlock: dres_dtheta_1\n",
      "\t\t\tBlock: dres_dlog_tau_1\n",
      "\t\t\tBlock: dres_dw_1_0\n",
      "\t\t\tBlock: dres_dw_1_2\n",
      "\t\t\tBlock: dres_dw_1_3\n",
      "\t\t\tBlock: dres_dX_1_init\n",
      "\t\t\tBlock: dres_dwself_2\n",
      "\t\t\tBlock: dres_dtheta_2\n",
      "\t\t\tBlock: dres_dlog_tau_2\n",
      "\t\t\tBlock: dres_dw_2_0\n",
      "\t\t\tBlock: dres_dw_2_1\n",
      "\t\t\tBlock: dres_dw_2_3\n",
      "\t\t\tBlock: dres_dX_2_init\n",
      "\t\t\tBlock: dres_dwself_3\n",
      "\t\t\tBlock: dres_dw_3_0\n",
      "\t\t\tBlock: dres_dw_3_1\n",
      "\t\t\tBlock: dres_dw_3_2\n",
      "\t\t\tBlock: dres_dX_3_init\n",
      "\t\t\tBlock: sens_rhs\n",
      "\t\t\tBlock: res_function_logdv\n",
      "\t\t\tBlock: root_func_logdv\n",
      "\t\t\tBlock: sens_rhs_logdv\n",
      "\t\t\tBlock: integrate_stochastic_tidbit\n",
      "Post-processing (stage 2)...\n",
      "Building modules...\n",
      "\tBuilding module \"CTSN_0_SFI_C02TJ318GTFL_330417_4789999461_55397\"...\n",
      "\t\tConstructing wrapper function \"res_function\"...\n",
      "\t\t  residual = res_function(time,dynamicVars,yprime,constants)\n",
      "\t\tConstructing wrapper function \"ddaskr_jac\"...\n",
      "\t\t  pd = ddaskr_jac(t,y,yprime,cj,rpar)\n",
      "\t\tConstructing wrapper function \"root_func\"...\n",
      "\t\t  root_devs = root_func(t,y,yp,constants)\n",
      "\t\tConstructing wrapper function \"alg_deriv_func\"...\n",
      "\t\t  alg_derivs_res = alg_deriv_func(alg_yp,dynamicVars,yp,time,constants)\n",
      "\t\tConstructing wrapper function \"alg_res_func\"...\n",
      "\t\t  residual = alg_res_func(alg_vals,dynamicVars,time,constants)\n",
      "\t\tConstructing wrapper function \"dres_dc_function\"...\n",
      "\t\t  pd = dres_dc_function(time,dynamicVars,yprime,constants)\n",
      "\t\tConstructing wrapper function \"dres_dcdot_function\"...\n",
      "\t\t  pd = dres_dcdot_function(time,dynamicVars,yprime,constants)\n",
      "\t\tConstructing wrapper function \"dres_dwself_0\"...\n",
      "\t\t  pd = dres_dwself_0(time,dynamicVars,yprime,constants)\n",
      "\t\tConstructing wrapper function \"dres_dtheta_0\"...\n",
      "\t\t  pd = dres_dtheta_0(time,dynamicVars,yprime,constants)\n",
      "\t\tConstructing wrapper function \"dres_dlog_tau_0\"...\n",
      "\t\t  pd = dres_dlog_tau_0(time,dynamicVars,yprime,constants)\n",
      "\t\tConstructing wrapper function \"dres_dw_0_1\"...\n",
      "\t\t  pd = dres_dw_0_1(time,dynamicVars,yprime,constants)\n",
      "\t\tConstructing wrapper function \"dres_dw_0_2\"...\n",
      "\t\t  pd = dres_dw_0_2(time,dynamicVars,yprime,constants)\n",
      "\t\tConstructing wrapper function \"dres_dw_0_3\"...\n",
      "\t\t  pd = dres_dw_0_3(time,dynamicVars,yprime,constants)\n",
      "\t\tConstructing wrapper function \"dres_dwself_1\"...\n",
      "\t\t  pd = dres_dwself_1(time,dynamicVars,yprime,constants)\n"
     ]
    },
    {
     "name": "stderr",
     "output_type": "stream",
     "text": [
      "<string>:1: SyntaxWarning: 'int' object is not subscriptable; perhaps you missed a comma?\n",
      "<string>:1: SyntaxWarning: 'int' object is not subscriptable; perhaps you missed a comma?\n",
      "<string>:1: SyntaxWarning: 'int' object is not subscriptable; perhaps you missed a comma?\n",
      "<string>:1: SyntaxWarning: 'int' object is not subscriptable; perhaps you missed a comma?\n",
      "<string>:1: SyntaxWarning: 'int' object is not subscriptable; perhaps you missed a comma?\n",
      "<string>:1: SyntaxWarning: 'int' object is not subscriptable; perhaps you missed a comma?\n",
      "<string>:1: SyntaxWarning: 'int' object is not subscriptable; perhaps you missed a comma?\n"
     ]
    },
    {
     "name": "stdout",
     "output_type": "stream",
     "text": [
      "\t\tConstructing wrapper function \"dres_dtheta_1\"...\n",
      "\t\t  pd = dres_dtheta_1(time,dynamicVars,yprime,constants)\n",
      "\t\tConstructing wrapper function \"dres_dlog_tau_1\"...\n",
      "\t\t  pd = dres_dlog_tau_1(time,dynamicVars,yprime,constants)\n",
      "\t\tConstructing wrapper function \"dres_dw_1_0\"...\n",
      "\t\t  pd = dres_dw_1_0(time,dynamicVars,yprime,constants)\n",
      "\t\tConstructing wrapper function \"dres_dw_1_2\"...\n",
      "\t\t  pd = dres_dw_1_2(time,dynamicVars,yprime,constants)\n",
      "\t\tConstructing wrapper function \"dres_dw_1_3\"...\n",
      "\t\t  pd = dres_dw_1_3(time,dynamicVars,yprime,constants)\n",
      "\t\tConstructing wrapper function \"dres_dX_1_init\"...\n",
      "\t\t  pd = dres_dX_1_init(time,dynamicVars,yprime,constants)\n",
      "\t\tConstructing wrapper function \"dres_dwself_2\"...\n",
      "\t\t  pd = dres_dwself_2(time,dynamicVars,yprime,constants)\n",
      "\t\tConstructing wrapper function \"dres_dtheta_2\"...\n",
      "\t\t  pd = dres_dtheta_2(time,dynamicVars,yprime,constants)\n",
      "\t\tConstructing wrapper function \"dres_dlog_tau_2\"...\n",
      "\t\t  pd = dres_dlog_tau_2(time,dynamicVars,yprime,constants)\n",
      "\t\tConstructing wrapper function \"dres_dw_2_0\"...\n",
      "\t\t  pd = dres_dw_2_0(time,dynamicVars,yprime,constants)\n",
      "\t\tConstructing wrapper function \"dres_dw_2_1\"...\n",
      "\t\t  pd = dres_dw_2_1(time,dynamicVars,yprime,constants)\n",
      "\t\tConstructing wrapper function \"dres_dw_2_3\"...\n",
      "\t\t  pd = dres_dw_2_3(time,dynamicVars,yprime,constants)\n",
      "\t\tConstructing wrapper function \"dres_dX_2_init\"...\n",
      "\t\t  pd = dres_dX_2_init(time,dynamicVars,yprime,constants)\n",
      "\t\tConstructing wrapper function \"dres_dwself_3\"...\n",
      "\t\t  pd = dres_dwself_3(time,dynamicVars,yprime,constants)\n",
      "\t\tConstructing wrapper function \"dres_dw_3_0\"...\n",
      "\t\t  pd = dres_dw_3_0(time,dynamicVars,yprime,constants)\n",
      "\t\tConstructing wrapper function \"dres_dw_3_1\"...\n",
      "\t\t  pd = dres_dw_3_1(time,dynamicVars,yprime,constants)\n",
      "\t\tConstructing wrapper function \"dres_dw_3_2\"...\n",
      "\t\t  pd = dres_dw_3_2(time,dynamicVars,yprime,constants)\n",
      "\t\tConstructing wrapper function \"dres_dX_3_init\"...\n",
      "\t\t  pd = dres_dX_3_init(time,dynamicVars,yprime,constants)\n",
      "\t\tConstructing wrapper function \"sens_rhs\"...\n",
      "\t\t  sens_res = sens_rhs(time,sens_y,sens_yp,constants)\n",
      "\t\tConstructing wrapper function \"res_function_logdv\"...\n",
      "\t\t  residual = res_function_logdv(time,log_dv,log_yp,constants)\n",
      "\t\tConstructing wrapper function \"root_func_logdv\"...\n",
      "\t\t  root_devs = root_func_logdv(t,log_dv,log_yp,constants)\n",
      "\t\tConstructing wrapper function \"sens_rhs_logdv\"...\n",
      "\t\t  sens_res = sens_rhs_logdv(time,sens_y_log,sens_yp_log,constants)\n",
      "\t\tConstructing wrapper function \"integrate_stochastic_tidbit\"...\n",
      "\t\t  time_ptr,dv,stop_time_ptr,trajectory = integrate_stochastic_tidbit(seed_ptr,reseed,time_ptr,dv,cv,rmsd_ptr,stop_time_ptr)\n",
      "\tWrote C/API module \"CTSN_0_SFI_C02TJ318GTFL_330417_4789999461_55397\" to file \"./CTSN_0_SFI_C02TJ318GTFL_330417_4789999461_55397module.c\"\n",
      "  adding 'build/src.macosx-10.9-x86_64-3.8/./fortranobject.c' to sources.\n",
      "  adding 'build/src.macosx-10.9-x86_64-3.8/.' to include_dirs.\n",
      "copying /Users/bryandaniels/anaconda3/lib/python3.8/site-packages/numpy/f2py/src/fortranobject.c -> build/src.macosx-10.9-x86_64-3.8/.\n"
     ]
    },
    {
     "name": "stderr",
     "output_type": "stream",
     "text": [
      "WARNING:ReactionNetworks.Components:Failed to import dynamically compiled C module CTSN_0_SFI_C02TJ318GTFL_330417_4789999461_55397 for network CTSN.\n",
      "WARNING:ReactionNetworks.Components:No module named 'CTSN_0_SFI_C02TJ318GTFL_330417_4789999461_55397'\n"
     ]
    },
    {
     "name": "stdout",
     "output_type": "stream",
     "text": [
      "***STDOUT***\n",
      "b''\n",
      "***STDERR***\n",
      "b''\n",
      "SloppyCellFittingModel.fitToData: generating ensemble for these parameters: ['wself_0', 'theta_0', 'log_tau_0', 'w_0_1', 'w_0_2', 'w_0_3', 'wself_1', 'theta_1', 'log_tau_1', 'w_1_0', 'w_1_2', 'w_1_3', 'X_1_init', 'wself_2', 'theta_2', 'log_tau_2', 'w_2_0', 'w_2_1', 'w_2_3', 'X_2_init', 'wself_3', 'w_3_0', 'w_3_1', 'w_3_2', 'X_3_init']\n",
      "generateEnsemble_parallel: Generating parameter ensemble with 1000.0 total members, using 4 processors.\n",
      "SloppyCellFittingModel.fitToData: Cost = 141.16485293204312 ( 0 )\n",
      "SloppyCellFittingModel.fitToData: Cost = 141.90472901892377 ( 0 )\n",
      "SloppyCellFittingModel.fitToData: Cost = 141.76833238347484 ( 0 )\n",
      "SloppyCellFittingModel.fitToData: Cost = 139.76594579635696 ( 0 )\n",
      "SloppyCellFittingModel.fitToData: Cost = 139.85663464061403 ( 0 )\n",
      "SloppyCellFittingModel.fitToData: Cost = 139.49806741056662 ( 0 )\n",
      "SloppyCellFittingModel.fitToData: Cost = 138.77163299818835 ( 0 )\n",
      "SloppyCellFittingModel.fitToData: Cost = 138.78731268084098 ( 1 )\n",
      "SloppyCellFittingModel.fitToData: Cost = 139.09883426841395 ( 0 )\n",
      "SloppyCellFittingModel.fitToData: Cost = 139.07464373742695 ( 0 )\n",
      "SloppyCellFittingModel.fitToData: Best-fit cost =  138.77163299818835\n",
      "fittingProblem.fitAll: L = -100.25044471812433\n",
      "running build_ext\n",
      "running build_src\n",
      "build_src\n",
      "building extension \"CTSN_0_SFI_C02TJ318GTFL_301394_5950000561_55397\" sources\n",
      "f2py options: []\n",
      "f2py: CTSN_0_SFI_C02TJ318GTFL_301394_5950000561_55397.pyf\n",
      "Reading fortran codes...\n",
      "\tReading file 'CTSN_0_SFI_C02TJ318GTFL_301394_5950000561_55397.pyf' (format:free)\n",
      "Post-processing...\n",
      "\tBlock: CTSN_0_SFI_C02TJ318GTFL_301394_5950000561_55397\n",
      "\t\t\tBlock: res_function\n",
      "\t\t\tBlock: ddaskr_jac\n",
      "\t\t\tBlock: root_func\n",
      "\t\t\tBlock: alg_deriv_func\n",
      "\t\t\tBlock: alg_res_func\n",
      "\t\t\tBlock: dres_dc_function\n",
      "\t\t\tBlock: dres_dcdot_function\n",
      "\t\t\tBlock: dres_dwself_0\n",
      "\t\t\tBlock: dres_dtheta_0\n",
      "\t\t\tBlock: dres_dlog_tau_0\n",
      "\t\t\tBlock: dres_dw_0_1\n",
      "\t\t\tBlock: dres_dw_0_2\n",
      "\t\t\tBlock: dres_dw_0_3\n",
      "\t\t\tBlock: dres_dwself_1\n",
      "\t\t\tBlock: dres_dtheta_1\n",
      "\t\t\tBlock: dres_dlog_tau_1\n",
      "\t\t\tBlock: dres_dw_1_0\n",
      "\t\t\tBlock: dres_dw_1_2\n",
      "\t\t\tBlock: dres_dw_1_3\n",
      "\t\t\tBlock: dres_dX_1_init\n",
      "\t\t\tBlock: dres_dwself_2\n",
      "\t\t\tBlock: dres_dtheta_2\n",
      "\t\t\tBlock: dres_dlog_tau_2\n",
      "\t\t\tBlock: dres_dw_2_0\n",
      "\t\t\tBlock: dres_dw_2_1\n",
      "\t\t\tBlock: dres_dw_2_3\n",
      "\t\t\tBlock: dres_dX_2_init\n",
      "\t\t\tBlock: dres_dwself_3\n",
      "\t\t\tBlock: dres_dtheta_3\n",
      "\t\t\tBlock: dres_dlog_tau_3\n",
      "\t\t\tBlock: dres_dw_3_0\n",
      "\t\t\tBlock: dres_dw_3_1\n",
      "\t\t\tBlock: dres_dw_3_2\n",
      "\t\t\tBlock: dres_dX_3_init\n",
      "\t\t\tBlock: sens_rhs\n",
      "\t\t\tBlock: res_function_logdv\n",
      "\t\t\tBlock: root_func_logdv\n",
      "\t\t\tBlock: sens_rhs_logdv\n",
      "\t\t\tBlock: integrate_stochastic_tidbit\n",
      "Post-processing (stage 2)...\n",
      "Building modules...\n",
      "\tBuilding module \"CTSN_0_SFI_C02TJ318GTFL_301394_5950000561_55397\"...\n",
      "\t\tConstructing wrapper function \"res_function\"...\n",
      "\t\t  residual = res_function(time,dynamicVars,yprime,constants)\n",
      "\t\tConstructing wrapper function \"ddaskr_jac\"...\n",
      "\t\t  pd = ddaskr_jac(t,y,yprime,cj,rpar)\n",
      "\t\tConstructing wrapper function \"root_func\"...\n",
      "\t\t  root_devs = root_func(t,y,yp,constants)\n",
      "\t\tConstructing wrapper function \"alg_deriv_func\"...\n",
      "\t\t  alg_derivs_res = alg_deriv_func(alg_yp,dynamicVars,yp,time,constants)\n",
      "\t\tConstructing wrapper function \"alg_res_func\"...\n",
      "\t\t  residual = alg_res_func(alg_vals,dynamicVars,time,constants)\n",
      "\t\tConstructing wrapper function \"dres_dc_function\"...\n",
      "\t\t  pd = dres_dc_function(time,dynamicVars,yprime,constants)\n",
      "\t\tConstructing wrapper function \"dres_dcdot_function\"...\n",
      "\t\t  pd = dres_dcdot_function(time,dynamicVars,yprime,constants)\n",
      "\t\tConstructing wrapper function \"dres_dwself_0\"...\n",
      "\t\t  pd = dres_dwself_0(time,dynamicVars,yprime,constants)\n",
      "\t\tConstructing wrapper function \"dres_dtheta_0\"...\n",
      "\t\t  pd = dres_dtheta_0(time,dynamicVars,yprime,constants)\n",
      "\t\tConstructing wrapper function \"dres_dlog_tau_0\"...\n",
      "\t\t  pd = dres_dlog_tau_0(time,dynamicVars,yprime,constants)\n",
      "\t\tConstructing wrapper function \"dres_dw_0_1\"...\n",
      "\t\t  pd = dres_dw_0_1(time,dynamicVars,yprime,constants)\n",
      "\t\tConstructing wrapper function \"dres_dw_0_2\"...\n",
      "\t\t  pd = dres_dw_0_2(time,dynamicVars,yprime,constants)\n",
      "\t\tConstructing wrapper function \"dres_dw_0_3\"...\n",
      "\t\t  pd = dres_dw_0_3(time,dynamicVars,yprime,constants)\n"
     ]
    },
    {
     "name": "stderr",
     "output_type": "stream",
     "text": [
      "<string>:1: SyntaxWarning: 'int' object is not subscriptable; perhaps you missed a comma?\n",
      "<string>:1: SyntaxWarning: 'int' object is not subscriptable; perhaps you missed a comma?\n",
      "<string>:1: SyntaxWarning: 'int' object is not subscriptable; perhaps you missed a comma?\n",
      "<string>:1: SyntaxWarning: 'int' object is not subscriptable; perhaps you missed a comma?\n",
      "<string>:1: SyntaxWarning: 'int' object is not subscriptable; perhaps you missed a comma?\n",
      "<string>:1: SyntaxWarning: 'int' object is not subscriptable; perhaps you missed a comma?\n",
      "<string>:1: SyntaxWarning: 'int' object is not subscriptable; perhaps you missed a comma?\n"
     ]
    },
    {
     "name": "stdout",
     "output_type": "stream",
     "text": [
      "\t\tConstructing wrapper function \"dres_dwself_1\"...\n",
      "\t\t  pd = dres_dwself_1(time,dynamicVars,yprime,constants)\n",
      "\t\tConstructing wrapper function \"dres_dtheta_1\"...\n",
      "\t\t  pd = dres_dtheta_1(time,dynamicVars,yprime,constants)\n",
      "\t\tConstructing wrapper function \"dres_dlog_tau_1\"...\n",
      "\t\t  pd = dres_dlog_tau_1(time,dynamicVars,yprime,constants)\n",
      "\t\tConstructing wrapper function \"dres_dw_1_0\"...\n",
      "\t\t  pd = dres_dw_1_0(time,dynamicVars,yprime,constants)\n",
      "\t\tConstructing wrapper function \"dres_dw_1_2\"...\n",
      "\t\t  pd = dres_dw_1_2(time,dynamicVars,yprime,constants)\n",
      "\t\tConstructing wrapper function \"dres_dw_1_3\"...\n",
      "\t\t  pd = dres_dw_1_3(time,dynamicVars,yprime,constants)\n",
      "\t\tConstructing wrapper function \"dres_dX_1_init\"...\n",
      "\t\t  pd = dres_dX_1_init(time,dynamicVars,yprime,constants)\n",
      "\t\tConstructing wrapper function \"dres_dwself_2\"...\n",
      "\t\t  pd = dres_dwself_2(time,dynamicVars,yprime,constants)\n",
      "\t\tConstructing wrapper function \"dres_dtheta_2\"...\n",
      "\t\t  pd = dres_dtheta_2(time,dynamicVars,yprime,constants)\n",
      "\t\tConstructing wrapper function \"dres_dlog_tau_2\"...\n",
      "\t\t  pd = dres_dlog_tau_2(time,dynamicVars,yprime,constants)\n",
      "\t\tConstructing wrapper function \"dres_dw_2_0\"...\n",
      "\t\t  pd = dres_dw_2_0(time,dynamicVars,yprime,constants)\n",
      "\t\tConstructing wrapper function \"dres_dw_2_1\"...\n",
      "\t\t  pd = dres_dw_2_1(time,dynamicVars,yprime,constants)\n",
      "\t\tConstructing wrapper function \"dres_dw_2_3\"...\n",
      "\t\t  pd = dres_dw_2_3(time,dynamicVars,yprime,constants)\n",
      "\t\tConstructing wrapper function \"dres_dX_2_init\"...\n",
      "\t\t  pd = dres_dX_2_init(time,dynamicVars,yprime,constants)\n",
      "\t\tConstructing wrapper function \"dres_dwself_3\"...\n",
      "\t\t  pd = dres_dwself_3(time,dynamicVars,yprime,constants)\n",
      "\t\tConstructing wrapper function \"dres_dtheta_3\"...\n",
      "\t\t  pd = dres_dtheta_3(time,dynamicVars,yprime,constants)\n",
      "\t\tConstructing wrapper function \"dres_dlog_tau_3\"...\n",
      "\t\t  pd = dres_dlog_tau_3(time,dynamicVars,yprime,constants)\n",
      "\t\tConstructing wrapper function \"dres_dw_3_0\"...\n",
      "\t\t  pd = dres_dw_3_0(time,dynamicVars,yprime,constants)\n",
      "\t\tConstructing wrapper function \"dres_dw_3_1\"...\n",
      "\t\t  pd = dres_dw_3_1(time,dynamicVars,yprime,constants)\n",
      "\t\tConstructing wrapper function \"dres_dw_3_2\"...\n",
      "\t\t  pd = dres_dw_3_2(time,dynamicVars,yprime,constants)\n",
      "\t\tConstructing wrapper function \"dres_dX_3_init\"...\n",
      "\t\t  pd = dres_dX_3_init(time,dynamicVars,yprime,constants)\n",
      "\t\tConstructing wrapper function \"sens_rhs\"...\n",
      "\t\t  sens_res = sens_rhs(time,sens_y,sens_yp,constants)\n",
      "\t\tConstructing wrapper function \"res_function_logdv\"...\n",
      "\t\t  residual = res_function_logdv(time,log_dv,log_yp,constants)\n",
      "\t\tConstructing wrapper function \"root_func_logdv\"...\n",
      "\t\t  root_devs = root_func_logdv(t,log_dv,log_yp,constants)\n",
      "\t\tConstructing wrapper function \"sens_rhs_logdv\"...\n",
      "\t\t  sens_res = sens_rhs_logdv(time,sens_y_log,sens_yp_log,constants)\n",
      "\t\tConstructing wrapper function \"integrate_stochastic_tidbit\"...\n",
      "\t\t  time_ptr,dv,stop_time_ptr,trajectory = integrate_stochastic_tidbit(seed_ptr,reseed,time_ptr,dv,cv,rmsd_ptr,stop_time_ptr)\n",
      "\tWrote C/API module \"CTSN_0_SFI_C02TJ318GTFL_301394_5950000561_55397\" to file \"./CTSN_0_SFI_C02TJ318GTFL_301394_5950000561_55397module.c\"\n",
      "  adding 'build/src.macosx-10.9-x86_64-3.8/./fortranobject.c' to sources.\n",
      "  adding 'build/src.macosx-10.9-x86_64-3.8/.' to include_dirs.\n",
      "copying /Users/bryandaniels/anaconda3/lib/python3.8/site-packages/numpy/f2py/src/fortranobject.c -> build/src.macosx-10.9-x86_64-3.8/.\n"
     ]
    },
    {
     "name": "stderr",
     "output_type": "stream",
     "text": [
      "WARNING:ReactionNetworks.Components:Failed to import dynamically compiled C module CTSN_0_SFI_C02TJ318GTFL_301394_5950000561_55397 for network CTSN.\n",
      "WARNING:ReactionNetworks.Components:No module named 'CTSN_0_SFI_C02TJ318GTFL_301394_5950000561_55397'\n"
     ]
    },
    {
     "name": "stdout",
     "output_type": "stream",
     "text": [
      "***STDOUT***\n",
      "b''\n",
      "***STDERR***\n",
      "b''\n",
      "SloppyCellFittingModel.fitToData: generating ensemble for these parameters: ['wself_0', 'theta_0', 'log_tau_0', 'w_0_1', 'w_0_2', 'w_0_3', 'wself_1', 'theta_1', 'log_tau_1', 'w_1_0', 'w_1_2', 'w_1_3', 'X_1_init', 'wself_2', 'theta_2', 'log_tau_2', 'w_2_0', 'w_2_1', 'w_2_3', 'X_2_init', 'wself_3', 'theta_3', 'log_tau_3', 'w_3_0', 'w_3_1', 'w_3_2', 'X_3_init']\n",
      "generateEnsemble_parallel: Generating parameter ensemble with 1000.0 total members, using 4 processors.\n",
      "SloppyCellFittingModel.fitToData: Cost = 138.7317469898815 ( 0 )\n",
      "SloppyCellFittingModel.fitToData: Cost = 138.52701912451508 ( 0 )\n",
      "SloppyCellFittingModel.fitToData: Cost = 138.4333158929562 ( 1 )\n",
      "SloppyCellFittingModel.fitToData: Cost = 138.58788234837377 ( 1 )\n",
      "SloppyCellFittingModel.fitToData: Cost = 138.5072499370949 ( 1 )\n",
      "SloppyCellFittingModel.fitToData: Cost = 138.57872686736775 ( 1 )\n",
      "SloppyCellFittingModel.fitToData: Cost = 138.66083508943538 ( 1 )\n",
      "SloppyCellFittingModel.fitToData: Cost = 138.43427249958475 ( 1 )\n",
      "SloppyCellFittingModel.fitToData: Cost = 138.57926993240312 ( 1 )\n",
      "SloppyCellFittingModel.fitToData: Cost = 138.76218756169604 ( 1 )\n",
      "SloppyCellFittingModel.fitToData: Best-fit cost =  138.4333158929562\n",
      "fittingProblem.fitAll: L = -100.98094951534699\n"
     ]
    }
   ],
   "source": [
    "pCTSN.fitAll()"
   ]
  },
  {
   "cell_type": "code",
   "execution_count": 16,
   "metadata": {
    "collapsed": true
   },
   "outputs": [
    {
     "name": "stdout",
     "output_type": "stream",
     "text": [
      "running build_ext\n",
      "running build_src\n",
      "build_src\n",
      "building extension \"PowerLaw_Network_0_SFI_C02TJ318GTFL_9891707_6660400561_55397\" sources\n",
      "f2py options: []\n",
      "f2py: PowerLaw_Network_0_SFI_C02TJ318GTFL_9891707_6660400561_55397.pyf\n",
      "Reading fortran codes...\n",
      "\tReading file 'PowerLaw_Network_0_SFI_C02TJ318GTFL_9891707_6660400561_55397.pyf' (format:free)\n",
      "Post-processing...\n",
      "\tBlock: PowerLaw_Network_0_SFI_C02TJ318GTFL_9891707_6660400561_55397\n",
      "\t\t\tBlock: res_function\n",
      "\t\t\tBlock: ddaskr_jac\n",
      "\t\t\tBlock: root_func\n",
      "\t\t\tBlock: alg_deriv_func\n",
      "\t\t\tBlock: alg_res_func\n",
      "\t\t\tBlock: dres_dc_function\n",
      "\t\t\tBlock: dres_dcdot_function\n",
      "\t\t\tBlock: dres_dlog_alpha_0\n",
      "\t\t\tBlock: dres_dlog_beta_0\n",
      "\t\t\tBlock: dres_dg_0_0\n",
      "\t\t\tBlock: dres_dh_0_0\n",
      "\t\t\tBlock: sens_rhs\n",
      "\t\t\tBlock: res_function_logdv\n",
      "\t\t\tBlock: root_func_logdv\n",
      "\t\t\tBlock: sens_rhs_logdv\n",
      "\t\t\tBlock: integrate_stochastic_tidbit\n",
      "Post-processing (stage 2)...\n",
      "Building modules...\n",
      "\tBuilding module \"PowerLaw_Network_0_SFI_C02TJ318GTFL_9891707_6660400561_55397\"...\n",
      "\t\tConstructing wrapper function \"res_function\"...\n",
      "\t\t  residual = res_function(time,dynamicVars,yprime,constants)\n",
      "\t\tConstructing wrapper function \"ddaskr_jac\"...\n",
      "\t\t  pd = ddaskr_jac(t,y,yprime,cj,rpar)\n",
      "\t\tConstructing wrapper function \"root_func\"...\n",
      "\t\t  root_devs = root_func(t,y,yp,constants)\n",
      "\t\tConstructing wrapper function \"alg_deriv_func\"...\n",
      "\t\t  alg_derivs_res = alg_deriv_func(alg_yp,dynamicVars,yp,time,constants)\n",
      "\t\tConstructing wrapper function \"alg_res_func\"...\n",
      "\t\t  residual = alg_res_func(alg_vals,dynamicVars,time,constants)\n",
      "\t\tConstructing wrapper function \"dres_dc_function\"...\n",
      "\t\t  pd = dres_dc_function(time,dynamicVars,yprime,constants)\n",
      "\t\tConstructing wrapper function \"dres_dcdot_function\"...\n",
      "\t\t  pd = dres_dcdot_function(time,dynamicVars,yprime,constants)\n",
      "\t\tConstructing wrapper function \"dres_dlog_alpha_0\"...\n",
      "\t\t  pd = dres_dlog_alpha_0(time,dynamicVars,yprime,constants)\n",
      "\t\tConstructing wrapper function \"dres_dlog_beta_0\"...\n",
      "\t\t  pd = dres_dlog_beta_0(time,dynamicVars,yprime,constants)\n",
      "\t\tConstructing wrapper function \"dres_dg_0_0\"...\n",
      "\t\t  pd = dres_dg_0_0(time,dynamicVars,yprime,constants)\n",
      "\t\tConstructing wrapper function \"dres_dh_0_0\"...\n",
      "\t\t  pd = dres_dh_0_0(time,dynamicVars,yprime,constants)\n",
      "\t\tConstructing wrapper function \"sens_rhs\"...\n",
      "\t\t  sens_res = sens_rhs(time,sens_y,sens_yp,constants)\n",
      "\t\tConstructing wrapper function \"res_function_logdv\"...\n",
      "\t\t  residual = res_function_logdv(time,log_dv,log_yp,constants)\n",
      "\t\tConstructing wrapper function \"root_func_logdv\"...\n",
      "\t\t  root_devs = root_func_logdv(t,log_dv,log_yp,constants)\n",
      "\t\tConstructing wrapper function \"sens_rhs_logdv\"...\n",
      "\t\t  sens_res = sens_rhs_logdv(time,sens_y_log,sens_yp_log,constants)\n",
      "\t\tConstructing wrapper function \"integrate_stochastic_tidbit\"...\n",
      "\t\t  time_ptr,dv,stop_time_ptr,trajectory = integrate_stochastic_tidbit(seed_ptr,reseed,time_ptr,dv,cv,rmsd_ptr,stop_time_ptr)\n"
     ]
    },
    {
     "name": "stderr",
     "output_type": "stream",
     "text": [
      "<string>:1: SyntaxWarning: 'int' object is not subscriptable; perhaps you missed a comma?\n",
      "<string>:1: SyntaxWarning: 'int' object is not subscriptable; perhaps you missed a comma?\n",
      "<string>:1: SyntaxWarning: 'int' object is not subscriptable; perhaps you missed a comma?\n",
      "<string>:1: SyntaxWarning: 'int' object is not subscriptable; perhaps you missed a comma?\n",
      "<string>:1: SyntaxWarning: 'int' object is not subscriptable; perhaps you missed a comma?\n",
      "<string>:1: SyntaxWarning: 'int' object is not subscriptable; perhaps you missed a comma?\n",
      "<string>:1: SyntaxWarning: 'int' object is not subscriptable; perhaps you missed a comma?\n"
     ]
    },
    {
     "name": "stdout",
     "output_type": "stream",
     "text": [
      "\tWrote C/API module \"PowerLaw_Network_0_SFI_C02TJ318GTFL_9891707_6660400561_55397\" to file \"./PowerLaw_Network_0_SFI_C02TJ318GTFL_9891707_6660400561_55397module.c\"\n",
      "  adding 'build/src.macosx-10.9-x86_64-3.8/./fortranobject.c' to sources.\n",
      "  adding 'build/src.macosx-10.9-x86_64-3.8/.' to include_dirs.\n",
      "copying /Users/bryandaniels/anaconda3/lib/python3.8/site-packages/numpy/f2py/src/fortranobject.c -> build/src.macosx-10.9-x86_64-3.8/.\n"
     ]
    },
    {
     "name": "stderr",
     "output_type": "stream",
     "text": [
      "WARNING:ReactionNetworks.Components:Failed to import dynamically compiled C module PowerLaw_Network_0_SFI_C02TJ318GTFL_9891707_6660400561_55397 for network PowerLaw_Network.\n",
      "WARNING:ReactionNetworks.Components:No module named 'PowerLaw_Network_0_SFI_C02TJ318GTFL_9891707_6660400561_55397'\n"
     ]
    },
    {
     "name": "stdout",
     "output_type": "stream",
     "text": [
      "***STDOUT***\n",
      "b''\n",
      "***STDERR***\n",
      "b''\n",
      "running build_ext\n",
      "running build_src\n",
      "build_src\n",
      "building extension \"PowerLaw_Network_0_SFI_C02TJ318GTFL_997892_7660400561_55397\" sources\n",
      "f2py options: []\n",
      "f2py: PowerLaw_Network_0_SFI_C02TJ318GTFL_997892_7660400561_55397.pyf\n",
      "Reading fortran codes...\n",
      "\tReading file 'PowerLaw_Network_0_SFI_C02TJ318GTFL_997892_7660400561_55397.pyf' (format:free)\n",
      "Post-processing...\n",
      "\tBlock: PowerLaw_Network_0_SFI_C02TJ318GTFL_997892_7660400561_55397\n",
      "\t\t\tBlock: res_function\n",
      "\t\t\tBlock: ddaskr_jac\n",
      "\t\t\tBlock: root_func\n",
      "\t\t\tBlock: alg_deriv_func\n",
      "\t\t\tBlock: alg_res_func\n",
      "\t\t\tBlock: dres_dc_function\n",
      "\t\t\tBlock: dres_dcdot_function\n",
      "\t\t\tBlock: dres_dlog_alpha_0\n",
      "\t\t\tBlock: dres_dlog_beta_0\n",
      "\t\t\tBlock: dres_dg_0_0\n",
      "\t\t\tBlock: dres_dh_0_0\n",
      "\t\t\tBlock: dres_dg_0_1\n",
      "\t\t\tBlock: dres_dh_0_1\n",
      "\t\t\tBlock: dres_dg_1_1\n",
      "\t\t\tBlock: sens_rhs\n",
      "\t\t\tBlock: res_function_logdv\n",
      "\t\t\tBlock: root_func_logdv\n",
      "\t\t\tBlock: sens_rhs_logdv\n",
      "\t\t\tBlock: integrate_stochastic_tidbit\n",
      "Post-processing (stage 2)...\n",
      "Building modules...\n",
      "\tBuilding module \"PowerLaw_Network_0_SFI_C02TJ318GTFL_997892_7660400561_55397\"...\n",
      "\t\tConstructing wrapper function \"res_function\"...\n",
      "\t\t  residual = res_function(time,dynamicVars,yprime,constants)\n",
      "\t\tConstructing wrapper function \"ddaskr_jac\"...\n",
      "\t\t  pd = ddaskr_jac(t,y,yprime,cj,rpar)\n",
      "\t\tConstructing wrapper function \"root_func\"...\n",
      "\t\t  root_devs = root_func(t,y,yp,constants)\n",
      "\t\tConstructing wrapper function \"alg_deriv_func\"...\n",
      "\t\t  alg_derivs_res = alg_deriv_func(alg_yp,dynamicVars,yp,time,constants)\n",
      "\t\tConstructing wrapper function \"alg_res_func\"...\n",
      "\t\t  residual = alg_res_func(alg_vals,dynamicVars,time,constants)\n",
      "\t\tConstructing wrapper function \"dres_dc_function\"...\n",
      "\t\t  pd = dres_dc_function(time,dynamicVars,yprime,constants)\n",
      "\t\tConstructing wrapper function \"dres_dcdot_function\"...\n",
      "\t\t  pd = dres_dcdot_function(time,dynamicVars,yprime,constants)\n",
      "\t\tConstructing wrapper function \"dres_dlog_alpha_0\"...\n",
      "\t\t  pd = dres_dlog_alpha_0(time,dynamicVars,yprime,constants)\n",
      "\t\tConstructing wrapper function \"dres_dlog_beta_0\"...\n",
      "\t\t  pd = dres_dlog_beta_0(time,dynamicVars,yprime,constants)\n",
      "\t\tConstructing wrapper function \"dres_dg_0_0\"...\n",
      "\t\t  pd = dres_dg_0_0(time,dynamicVars,yprime,constants)\n",
      "\t\tConstructing wrapper function \"dres_dh_0_0\"...\n",
      "\t\t  pd = dres_dh_0_0(time,dynamicVars,yprime,constants)\n",
      "\t\tConstructing wrapper function \"dres_dg_0_1\"...\n",
      "\t\t  pd = dres_dg_0_1(time,dynamicVars,yprime,constants)\n",
      "\t\tConstructing wrapper function \"dres_dh_0_1\"...\n"
     ]
    },
    {
     "name": "stderr",
     "output_type": "stream",
     "text": [
      "<string>:1: SyntaxWarning: 'int' object is not subscriptable; perhaps you missed a comma?\n",
      "<string>:1: SyntaxWarning: 'int' object is not subscriptable; perhaps you missed a comma?\n",
      "<string>:1: SyntaxWarning: 'int' object is not subscriptable; perhaps you missed a comma?\n",
      "<string>:1: SyntaxWarning: 'int' object is not subscriptable; perhaps you missed a comma?\n",
      "<string>:1: SyntaxWarning: 'int' object is not subscriptable; perhaps you missed a comma?\n",
      "<string>:1: SyntaxWarning: 'int' object is not subscriptable; perhaps you missed a comma?\n",
      "<string>:1: SyntaxWarning: 'int' object is not subscriptable; perhaps you missed a comma?\n"
     ]
    },
    {
     "name": "stdout",
     "output_type": "stream",
     "text": [
      "\t\t  pd = dres_dh_0_1(time,dynamicVars,yprime,constants)\n",
      "\t\tConstructing wrapper function \"dres_dg_1_1\"...\n",
      "\t\t  pd = dres_dg_1_1(time,dynamicVars,yprime,constants)\n",
      "\t\tConstructing wrapper function \"sens_rhs\"...\n",
      "\t\t  sens_res = sens_rhs(time,sens_y,sens_yp,constants)\n",
      "\t\tConstructing wrapper function \"res_function_logdv\"...\n",
      "\t\t  residual = res_function_logdv(time,log_dv,log_yp,constants)\n",
      "\t\tConstructing wrapper function \"root_func_logdv\"...\n",
      "\t\t  root_devs = root_func_logdv(t,log_dv,log_yp,constants)\n",
      "\t\tConstructing wrapper function \"sens_rhs_logdv\"...\n",
      "\t\t  sens_res = sens_rhs_logdv(time,sens_y_log,sens_yp_log,constants)\n",
      "\t\tConstructing wrapper function \"integrate_stochastic_tidbit\"...\n",
      "\t\t  time_ptr,dv,stop_time_ptr,trajectory = integrate_stochastic_tidbit(seed_ptr,reseed,time_ptr,dv,cv,rmsd_ptr,stop_time_ptr)\n",
      "\tWrote C/API module \"PowerLaw_Network_0_SFI_C02TJ318GTFL_997892_7660400561_55397\" to file \"./PowerLaw_Network_0_SFI_C02TJ318GTFL_997892_7660400561_55397module.c\"\n",
      "  adding 'build/src.macosx-10.9-x86_64-3.8/./fortranobject.c' to sources.\n",
      "  adding 'build/src.macosx-10.9-x86_64-3.8/.' to include_dirs.\n",
      "copying /Users/bryandaniels/anaconda3/lib/python3.8/site-packages/numpy/f2py/src/fortranobject.c -> build/src.macosx-10.9-x86_64-3.8/.\n"
     ]
    },
    {
     "name": "stderr",
     "output_type": "stream",
     "text": [
      "WARNING:ReactionNetworks.Components:Failed to import dynamically compiled C module PowerLaw_Network_0_SFI_C02TJ318GTFL_997892_7660400561_55397 for network PowerLaw_Network.\n",
      "WARNING:ReactionNetworks.Components:No module named 'PowerLaw_Network_0_SFI_C02TJ318GTFL_997892_7660400561_55397'\n"
     ]
    },
    {
     "name": "stdout",
     "output_type": "stream",
     "text": [
      "***STDOUT***\n",
      "b''\n",
      "***STDERR***\n",
      "b''\n",
      "running build_ext\n",
      "running build_src\n",
      "build_src\n",
      "building extension \"PowerLaw_Network_0_SFI_C02TJ318GTFL_512859_7660400561_55397\" sources\n",
      "f2py options: []\n",
      "f2py: PowerLaw_Network_0_SFI_C02TJ318GTFL_512859_7660400561_55397.pyf\n",
      "Reading fortran codes...\n",
      "\tReading file 'PowerLaw_Network_0_SFI_C02TJ318GTFL_512859_7660400561_55397.pyf' (format:free)\n",
      "Post-processing...\n",
      "\tBlock: PowerLaw_Network_0_SFI_C02TJ318GTFL_512859_7660400561_55397\n",
      "\t\t\tBlock: res_function\n",
      "\t\t\tBlock: ddaskr_jac\n",
      "\t\t\tBlock: root_func\n",
      "\t\t\tBlock: alg_deriv_func\n",
      "\t\t\tBlock: alg_res_func\n",
      "\t\t\tBlock: dres_dc_function\n",
      "\t\t\tBlock: dres_dcdot_function\n",
      "\t\t\tBlock: dres_dlog_alpha_0\n",
      "\t\t\tBlock: dres_dlog_beta_0\n",
      "\t\t\tBlock: dres_dg_0_0\n",
      "\t\t\tBlock: dres_dh_0_0\n",
      "\t\t\tBlock: dres_dg_0_1\n",
      "\t\t\tBlock: dres_dh_0_1\n",
      "\t\t\tBlock: dres_dg_1_1\n",
      "\t\t\tBlock: dres_dg_1_0\n",
      "\t\t\tBlock: dres_dh_1_0\n",
      "\t\t\tBlock: sens_rhs\n",
      "\t\t\tBlock: res_function_logdv\n",
      "\t\t\tBlock: root_func_logdv\n",
      "\t\t\tBlock: sens_rhs_logdv\n",
      "\t\t\tBlock: integrate_stochastic_tidbit\n",
      "Post-processing (stage 2)...\n",
      "Building modules...\n",
      "\tBuilding module \"PowerLaw_Network_0_SFI_C02TJ318GTFL_512859_7660400561_55397\"...\n",
      "\t\tConstructing wrapper function \"res_function\"...\n",
      "\t\t  residual = res_function(time,dynamicVars,yprime,constants)\n",
      "\t\tConstructing wrapper function \"ddaskr_jac\"...\n",
      "\t\t  pd = ddaskr_jac(t,y,yprime,cj,rpar)\n",
      "\t\tConstructing wrapper function \"root_func\"...\n",
      "\t\t  root_devs = root_func(t,y,yp,constants)\n",
      "\t\tConstructing wrapper function \"alg_deriv_func\"...\n",
      "\t\t  alg_derivs_res = alg_deriv_func(alg_yp,dynamicVars,yp,time,constants)\n",
      "\t\tConstructing wrapper function \"alg_res_func\"...\n",
      "\t\t  residual = alg_res_func(alg_vals,dynamicVars,time,constants)\n",
      "\t\tConstructing wrapper function \"dres_dc_function\"...\n",
      "\t\t  pd = dres_dc_function(time,dynamicVars,yprime,constants)\n",
      "\t\tConstructing wrapper function \"dres_dcdot_function\"...\n",
      "\t\t  pd = dres_dcdot_function(time,dynamicVars,yprime,constants)\n",
      "\t\tConstructing wrapper function \"dres_dlog_alpha_0\"...\n",
      "\t\t  pd = dres_dlog_alpha_0(time,dynamicVars,yprime,constants)\n",
      "\t\tConstructing wrapper function \"dres_dlog_beta_0\"...\n",
      "\t\t  pd = dres_dlog_beta_0(time,dynamicVars,yprime,constants)\n",
      "\t\tConstructing wrapper function \"dres_dg_0_0\"...\n",
      "\t\t  pd = dres_dg_0_0(time,dynamicVars,yprime,constants)\n",
      "\t\tConstructing wrapper function \"dres_dh_0_0\"...\n",
      "\t\t  pd = dres_dh_0_0(time,dynamicVars,yprime,constants)\n",
      "\t\tConstructing wrapper function \"dres_dg_0_1\"...\n",
      "\t\t  pd = dres_dg_0_1(time,dynamicVars,yprime,constants)\n",
      "\t\tConstructing wrapper function \"dres_dh_0_1\"...\n",
      "\t\t  pd = dres_dh_0_1(time,dynamicVars,yprime,constants)\n",
      "\t\tConstructing wrapper function \"dres_dg_1_1\"...\n",
      "\t\t  pd = dres_dg_1_1(time,dynamicVars,yprime,constants)\n",
      "\t\tConstructing wrapper function \"dres_dg_1_0\"...\n",
      "\t\t  pd = dres_dg_1_0(time,dynamicVars,yprime,constants)\n",
      "\t\tConstructing wrapper function \"dres_dh_1_0\"...\n",
      "\t\t  pd = dres_dh_1_0(time,dynamicVars,yprime,constants)\n",
      "\t\tConstructing wrapper function \"sens_rhs\"...\n",
      "\t\t  sens_res = sens_rhs(time,sens_y,sens_yp,constants)\n",
      "\t\tConstructing wrapper function \"res_function_logdv\"...\n",
      "\t\t  residual = res_function_logdv(time,log_dv,log_yp,constants)\n",
      "\t\tConstructing wrapper function \"root_func_logdv\"...\n"
     ]
    },
    {
     "name": "stderr",
     "output_type": "stream",
     "text": [
      "<string>:1: SyntaxWarning: 'int' object is not subscriptable; perhaps you missed a comma?\n",
      "<string>:1: SyntaxWarning: 'int' object is not subscriptable; perhaps you missed a comma?\n",
      "<string>:1: SyntaxWarning: 'int' object is not subscriptable; perhaps you missed a comma?\n",
      "<string>:1: SyntaxWarning: 'int' object is not subscriptable; perhaps you missed a comma?\n",
      "<string>:1: SyntaxWarning: 'int' object is not subscriptable; perhaps you missed a comma?\n",
      "<string>:1: SyntaxWarning: 'int' object is not subscriptable; perhaps you missed a comma?\n",
      "<string>:1: SyntaxWarning: 'int' object is not subscriptable; perhaps you missed a comma?\n"
     ]
    },
    {
     "name": "stdout",
     "output_type": "stream",
     "text": [
      "\t\t  root_devs = root_func_logdv(t,log_dv,log_yp,constants)\n",
      "\t\tConstructing wrapper function \"sens_rhs_logdv\"...\n",
      "\t\t  sens_res = sens_rhs_logdv(time,sens_y_log,sens_yp_log,constants)\n",
      "\t\tConstructing wrapper function \"integrate_stochastic_tidbit\"...\n",
      "\t\t  time_ptr,dv,stop_time_ptr,trajectory = integrate_stochastic_tidbit(seed_ptr,reseed,time_ptr,dv,cv,rmsd_ptr,stop_time_ptr)\n",
      "\tWrote C/API module \"PowerLaw_Network_0_SFI_C02TJ318GTFL_512859_7660400561_55397\" to file \"./PowerLaw_Network_0_SFI_C02TJ318GTFL_512859_7660400561_55397module.c\"\n",
      "  adding 'build/src.macosx-10.9-x86_64-3.8/./fortranobject.c' to sources.\n",
      "  adding 'build/src.macosx-10.9-x86_64-3.8/.' to include_dirs.\n",
      "copying /Users/bryandaniels/anaconda3/lib/python3.8/site-packages/numpy/f2py/src/fortranobject.c -> build/src.macosx-10.9-x86_64-3.8/.\n"
     ]
    },
    {
     "name": "stderr",
     "output_type": "stream",
     "text": [
      "WARNING:ReactionNetworks.Components:Failed to import dynamically compiled C module PowerLaw_Network_0_SFI_C02TJ318GTFL_512859_7660400561_55397 for network PowerLaw_Network.\n",
      "WARNING:ReactionNetworks.Components:No module named 'PowerLaw_Network_0_SFI_C02TJ318GTFL_512859_7660400561_55397'\n"
     ]
    },
    {
     "name": "stdout",
     "output_type": "stream",
     "text": [
      "***STDOUT***\n",
      "b''\n",
      "***STDERR***\n",
      "b''\n",
      "running build_ext\n",
      "running build_src\n",
      "build_src\n",
      "building extension \"PowerLaw_Network_0_SFI_C02TJ318GTFL_1197426_8660400561_55397\" sources\n",
      "f2py options: []\n",
      "f2py: PowerLaw_Network_0_SFI_C02TJ318GTFL_1197426_8660400561_55397.pyf\n",
      "Reading fortran codes...\n",
      "\tReading file 'PowerLaw_Network_0_SFI_C02TJ318GTFL_1197426_8660400561_55397.pyf' (format:free)\n",
      "Post-processing...\n",
      "\tBlock: PowerLaw_Network_0_SFI_C02TJ318GTFL_1197426_8660400561_55397\n",
      "\t\t\tBlock: res_function\n",
      "\t\t\tBlock: ddaskr_jac\n",
      "\t\t\tBlock: root_func\n",
      "\t\t\tBlock: alg_deriv_func\n",
      "\t\t\tBlock: alg_res_func\n",
      "\t\t\tBlock: dres_dc_function\n",
      "\t\t\tBlock: dres_dcdot_function\n",
      "\t\t\tBlock: dres_dlog_alpha_0\n",
      "\t\t\tBlock: dres_dlog_beta_0\n",
      "\t\t\tBlock: dres_dg_0_0\n",
      "\t\t\tBlock: dres_dh_0_0\n",
      "\t\t\tBlock: dres_dg_0_1\n",
      "\t\t\tBlock: dres_dh_0_1\n",
      "\t\t\tBlock: dres_dlog_beta_1\n",
      "\t\t\tBlock: dres_dg_1_1\n",
      "\t\t\tBlock: dres_dh_1_1\n",
      "\t\t\tBlock: dres_dg_1_0\n",
      "\t\t\tBlock: dres_dh_1_0\n",
      "\t\t\tBlock: sens_rhs\n",
      "\t\t\tBlock: res_function_logdv\n",
      "\t\t\tBlock: root_func_logdv\n",
      "\t\t\tBlock: sens_rhs_logdv\n",
      "\t\t\tBlock: integrate_stochastic_tidbit\n",
      "Post-processing (stage 2)...\n",
      "Building modules...\n",
      "\tBuilding module \"PowerLaw_Network_0_SFI_C02TJ318GTFL_1197426_8660400561_55397\"...\n",
      "\t\tConstructing wrapper function \"res_function\"...\n",
      "\t\t  residual = res_function(time,dynamicVars,yprime,constants)\n",
      "\t\tConstructing wrapper function \"ddaskr_jac\"...\n",
      "\t\t  pd = ddaskr_jac(t,y,yprime,cj,rpar)\n",
      "\t\tConstructing wrapper function \"root_func\"...\n",
      "\t\t  root_devs = root_func(t,y,yp,constants)\n",
      "\t\tConstructing wrapper function \"alg_deriv_func\"...\n",
      "\t\t  alg_derivs_res = alg_deriv_func(alg_yp,dynamicVars,yp,time,constants)\n",
      "\t\tConstructing wrapper function \"alg_res_func\"...\n",
      "\t\t  residual = alg_res_func(alg_vals,dynamicVars,time,constants)\n",
      "\t\tConstructing wrapper function \"dres_dc_function\"...\n",
      "\t\t  pd = dres_dc_function(time,dynamicVars,yprime,constants)\n",
      "\t\tConstructing wrapper function \"dres_dcdot_function\"...\n",
      "\t\t  pd = dres_dcdot_function(time,dynamicVars,yprime,constants)\n",
      "\t\tConstructing wrapper function \"dres_dlog_alpha_0\"...\n",
      "\t\t  pd = dres_dlog_alpha_0(time,dynamicVars,yprime,constants)\n",
      "\t\tConstructing wrapper function \"dres_dlog_beta_0\"...\n",
      "\t\t  pd = dres_dlog_beta_0(time,dynamicVars,yprime,constants)\n",
      "\t\tConstructing wrapper function \"dres_dg_0_0\"...\n",
      "\t\t  pd = dres_dg_0_0(time,dynamicVars,yprime,constants)\n",
      "\t\tConstructing wrapper function \"dres_dh_0_0\"...\n",
      "\t\t  pd = dres_dh_0_0(time,dynamicVars,yprime,constants)\n",
      "\t\tConstructing wrapper function \"dres_dg_0_1\"...\n",
      "\t\t  pd = dres_dg_0_1(time,dynamicVars,yprime,constants)\n",
      "\t\tConstructing wrapper function \"dres_dh_0_1\"...\n",
      "\t\t  pd = dres_dh_0_1(time,dynamicVars,yprime,constants)\n",
      "\t\tConstructing wrapper function \"dres_dlog_beta_1\"...\n",
      "\t\t  pd = dres_dlog_beta_1(time,dynamicVars,yprime,constants)\n",
      "\t\tConstructing wrapper function \"dres_dg_1_1\"...\n",
      "\t\t  pd = dres_dg_1_1(time,dynamicVars,yprime,constants)\n",
      "\t\tConstructing wrapper function \"dres_dh_1_1\"...\n",
      "\t\t  pd = dres_dh_1_1(time,dynamicVars,yprime,constants)\n",
      "\t\tConstructing wrapper function \"dres_dg_1_0\"...\n",
      "\t\t  pd = dres_dg_1_0(time,dynamicVars,yprime,constants)\n"
     ]
    },
    {
     "name": "stderr",
     "output_type": "stream",
     "text": [
      "<string>:1: SyntaxWarning: 'int' object is not subscriptable; perhaps you missed a comma?\n",
      "<string>:1: SyntaxWarning: 'int' object is not subscriptable; perhaps you missed a comma?\n",
      "<string>:1: SyntaxWarning: 'int' object is not subscriptable; perhaps you missed a comma?\n",
      "<string>:1: SyntaxWarning: 'int' object is not subscriptable; perhaps you missed a comma?\n",
      "<string>:1: SyntaxWarning: 'int' object is not subscriptable; perhaps you missed a comma?\n",
      "<string>:1: SyntaxWarning: 'int' object is not subscriptable; perhaps you missed a comma?\n",
      "<string>:1: SyntaxWarning: 'int' object is not subscriptable; perhaps you missed a comma?\n"
     ]
    },
    {
     "name": "stdout",
     "output_type": "stream",
     "text": [
      "\t\tConstructing wrapper function \"dres_dh_1_0\"...\n",
      "\t\t  pd = dres_dh_1_0(time,dynamicVars,yprime,constants)\n",
      "\t\tConstructing wrapper function \"sens_rhs\"...\n",
      "\t\t  sens_res = sens_rhs(time,sens_y,sens_yp,constants)\n",
      "\t\tConstructing wrapper function \"res_function_logdv\"...\n",
      "\t\t  residual = res_function_logdv(time,log_dv,log_yp,constants)\n",
      "\t\tConstructing wrapper function \"root_func_logdv\"...\n",
      "\t\t  root_devs = root_func_logdv(t,log_dv,log_yp,constants)\n",
      "\t\tConstructing wrapper function \"sens_rhs_logdv\"...\n",
      "\t\t  sens_res = sens_rhs_logdv(time,sens_y_log,sens_yp_log,constants)\n",
      "\t\tConstructing wrapper function \"integrate_stochastic_tidbit\"...\n",
      "\t\t  time_ptr,dv,stop_time_ptr,trajectory = integrate_stochastic_tidbit(seed_ptr,reseed,time_ptr,dv,cv,rmsd_ptr,stop_time_ptr)\n",
      "\tWrote C/API module \"PowerLaw_Network_0_SFI_C02TJ318GTFL_1197426_8660400561_55397\" to file \"./PowerLaw_Network_0_SFI_C02TJ318GTFL_1197426_8660400561_55397module.c\"\n",
      "  adding 'build/src.macosx-10.9-x86_64-3.8/./fortranobject.c' to sources.\n",
      "  adding 'build/src.macosx-10.9-x86_64-3.8/.' to include_dirs.\n",
      "copying /Users/bryandaniels/anaconda3/lib/python3.8/site-packages/numpy/f2py/src/fortranobject.c -> build/src.macosx-10.9-x86_64-3.8/.\n"
     ]
    },
    {
     "name": "stderr",
     "output_type": "stream",
     "text": [
      "WARNING:ReactionNetworks.Components:Failed to import dynamically compiled C module PowerLaw_Network_0_SFI_C02TJ318GTFL_1197426_8660400561_55397 for network PowerLaw_Network.\n",
      "WARNING:ReactionNetworks.Components:No module named 'PowerLaw_Network_0_SFI_C02TJ318GTFL_1197426_8660400561_55397'\n"
     ]
    },
    {
     "name": "stdout",
     "output_type": "stream",
     "text": [
      "***STDOUT***\n",
      "b''\n",
      "***STDERR***\n",
      "b''\n",
      "running build_ext\n",
      "running build_src\n",
      "build_src\n",
      "building extension \"PowerLaw_Network_0_SFI_C02TJ318GTFL_703562_9660400561_55397\" sources\n",
      "f2py options: []\n",
      "f2py: PowerLaw_Network_0_SFI_C02TJ318GTFL_703562_9660400561_55397.pyf\n",
      "Reading fortran codes...\n",
      "\tReading file 'PowerLaw_Network_0_SFI_C02TJ318GTFL_703562_9660400561_55397.pyf' (format:free)\n",
      "Post-processing...\n",
      "\tBlock: PowerLaw_Network_0_SFI_C02TJ318GTFL_703562_9660400561_55397\n",
      "\t\t\tBlock: res_function\n",
      "\t\t\tBlock: ddaskr_jac\n",
      "\t\t\tBlock: root_func\n",
      "\t\t\tBlock: alg_deriv_func\n",
      "\t\t\tBlock: alg_res_func\n",
      "\t\t\tBlock: dres_dc_function\n",
      "\t\t\tBlock: dres_dcdot_function\n",
      "\t\t\tBlock: dres_dlog_alpha_0\n",
      "\t\t\tBlock: dres_dlog_beta_0\n",
      "\t\t\tBlock: dres_dg_0_0\n",
      "\t\t\tBlock: dres_dh_0_0\n",
      "\t\t\tBlock: dres_dg_0_1\n",
      "\t\t\tBlock: dres_dh_0_1\n",
      "\t\t\tBlock: dres_dg_0_2\n",
      "\t\t\tBlock: dres_dlog_alpha_1\n",
      "\t\t\tBlock: dres_dlog_beta_1\n",
      "\t\t\tBlock: dres_dg_1_1\n",
      "\t\t\tBlock: dres_dh_1_1\n",
      "\t\t\tBlock: dres_dg_1_0\n",
      "\t\t\tBlock: dres_dh_1_0\n",
      "\t\t\tBlock: dres_dg_2_2\n",
      "\t\t\tBlock: sens_rhs\n",
      "\t\t\tBlock: res_function_logdv\n",
      "\t\t\tBlock: root_func_logdv\n",
      "\t\t\tBlock: sens_rhs_logdv\n",
      "\t\t\tBlock: integrate_stochastic_tidbit\n",
      "Post-processing (stage 2)...\n",
      "Building modules...\n",
      "\tBuilding module \"PowerLaw_Network_0_SFI_C02TJ318GTFL_703562_9660400561_55397\"...\n",
      "\t\tConstructing wrapper function \"res_function\"...\n",
      "\t\t  residual = res_function(time,dynamicVars,yprime,constants)\n",
      "\t\tConstructing wrapper function \"ddaskr_jac\"...\n",
      "\t\t  pd = ddaskr_jac(t,y,yprime,cj,rpar)\n",
      "\t\tConstructing wrapper function \"root_func\"...\n",
      "\t\t  root_devs = root_func(t,y,yp,constants)\n",
      "\t\tConstructing wrapper function \"alg_deriv_func\"...\n",
      "\t\t  alg_derivs_res = alg_deriv_func(alg_yp,dynamicVars,yp,time,constants)\n",
      "\t\tConstructing wrapper function \"alg_res_func\"...\n",
      "\t\t  residual = alg_res_func(alg_vals,dynamicVars,time,constants)\n",
      "\t\tConstructing wrapper function \"dres_dc_function\"...\n",
      "\t\t  pd = dres_dc_function(time,dynamicVars,yprime,constants)\n",
      "\t\tConstructing wrapper function \"dres_dcdot_function\"...\n",
      "\t\t  pd = dres_dcdot_function(time,dynamicVars,yprime,constants)\n",
      "\t\tConstructing wrapper function \"dres_dlog_alpha_0\"...\n",
      "\t\t  pd = dres_dlog_alpha_0(time,dynamicVars,yprime,constants)\n",
      "\t\tConstructing wrapper function \"dres_dlog_beta_0\"...\n",
      "\t\t  pd = dres_dlog_beta_0(time,dynamicVars,yprime,constants)\n",
      "\t\tConstructing wrapper function \"dres_dg_0_0\"...\n",
      "\t\t  pd = dres_dg_0_0(time,dynamicVars,yprime,constants)\n",
      "\t\tConstructing wrapper function \"dres_dh_0_0\"...\n",
      "\t\t  pd = dres_dh_0_0(time,dynamicVars,yprime,constants)\n",
      "\t\tConstructing wrapper function \"dres_dg_0_1\"...\n",
      "\t\t  pd = dres_dg_0_1(time,dynamicVars,yprime,constants)\n",
      "\t\tConstructing wrapper function \"dres_dh_0_1\"...\n"
     ]
    },
    {
     "name": "stderr",
     "output_type": "stream",
     "text": [
      "<string>:1: SyntaxWarning: 'int' object is not subscriptable; perhaps you missed a comma?\n",
      "<string>:1: SyntaxWarning: 'int' object is not subscriptable; perhaps you missed a comma?\n",
      "<string>:1: SyntaxWarning: 'int' object is not subscriptable; perhaps you missed a comma?\n",
      "<string>:1: SyntaxWarning: 'int' object is not subscriptable; perhaps you missed a comma?\n",
      "<string>:1: SyntaxWarning: 'int' object is not subscriptable; perhaps you missed a comma?\n",
      "<string>:1: SyntaxWarning: 'int' object is not subscriptable; perhaps you missed a comma?\n",
      "<string>:1: SyntaxWarning: 'int' object is not subscriptable; perhaps you missed a comma?\n"
     ]
    },
    {
     "name": "stdout",
     "output_type": "stream",
     "text": [
      "\t\t  pd = dres_dh_0_1(time,dynamicVars,yprime,constants)\n",
      "\t\tConstructing wrapper function \"dres_dg_0_2\"...\n",
      "\t\t  pd = dres_dg_0_2(time,dynamicVars,yprime,constants)\n",
      "\t\tConstructing wrapper function \"dres_dlog_alpha_1\"...\n",
      "\t\t  pd = dres_dlog_alpha_1(time,dynamicVars,yprime,constants)\n",
      "\t\tConstructing wrapper function \"dres_dlog_beta_1\"...\n",
      "\t\t  pd = dres_dlog_beta_1(time,dynamicVars,yprime,constants)\n",
      "\t\tConstructing wrapper function \"dres_dg_1_1\"...\n",
      "\t\t  pd = dres_dg_1_1(time,dynamicVars,yprime,constants)\n",
      "\t\tConstructing wrapper function \"dres_dh_1_1\"...\n",
      "\t\t  pd = dres_dh_1_1(time,dynamicVars,yprime,constants)\n",
      "\t\tConstructing wrapper function \"dres_dg_1_0\"...\n",
      "\t\t  pd = dres_dg_1_0(time,dynamicVars,yprime,constants)\n",
      "\t\tConstructing wrapper function \"dres_dh_1_0\"...\n",
      "\t\t  pd = dres_dh_1_0(time,dynamicVars,yprime,constants)\n",
      "\t\tConstructing wrapper function \"dres_dg_2_2\"...\n",
      "\t\t  pd = dres_dg_2_2(time,dynamicVars,yprime,constants)\n",
      "\t\tConstructing wrapper function \"sens_rhs\"...\n",
      "\t\t  sens_res = sens_rhs(time,sens_y,sens_yp,constants)\n",
      "\t\tConstructing wrapper function \"res_function_logdv\"...\n",
      "\t\t  residual = res_function_logdv(time,log_dv,log_yp,constants)\n",
      "\t\tConstructing wrapper function \"root_func_logdv\"...\n",
      "\t\t  root_devs = root_func_logdv(t,log_dv,log_yp,constants)\n",
      "\t\tConstructing wrapper function \"sens_rhs_logdv\"...\n",
      "\t\t  sens_res = sens_rhs_logdv(time,sens_y_log,sens_yp_log,constants)\n",
      "\t\tConstructing wrapper function \"integrate_stochastic_tidbit\"...\n",
      "\t\t  time_ptr,dv,stop_time_ptr,trajectory = integrate_stochastic_tidbit(seed_ptr,reseed,time_ptr,dv,cv,rmsd_ptr,stop_time_ptr)\n",
      "\tWrote C/API module \"PowerLaw_Network_0_SFI_C02TJ318GTFL_703562_9660400561_55397\" to file \"./PowerLaw_Network_0_SFI_C02TJ318GTFL_703562_9660400561_55397module.c\"\n",
      "  adding 'build/src.macosx-10.9-x86_64-3.8/./fortranobject.c' to sources.\n",
      "  adding 'build/src.macosx-10.9-x86_64-3.8/.' to include_dirs.\n",
      "copying /Users/bryandaniels/anaconda3/lib/python3.8/site-packages/numpy/f2py/src/fortranobject.c -> build/src.macosx-10.9-x86_64-3.8/.\n"
     ]
    },
    {
     "name": "stderr",
     "output_type": "stream",
     "text": [
      "WARNING:ReactionNetworks.Components:Failed to import dynamically compiled C module PowerLaw_Network_0_SFI_C02TJ318GTFL_703562_9660400561_55397 for network PowerLaw_Network.\n",
      "WARNING:ReactionNetworks.Components:No module named 'PowerLaw_Network_0_SFI_C02TJ318GTFL_703562_9660400561_55397'\n"
     ]
    },
    {
     "name": "stdout",
     "output_type": "stream",
     "text": [
      "***STDOUT***\n",
      "b''\n",
      "***STDERR***\n",
      "b''\n",
      "running build_ext\n",
      "running build_src\n",
      "build_src\n",
      "building extension \"PowerLaw_Network_0_SFI_C02TJ318GTFL_2228510_0760400561_55397\" sources\n",
      "f2py options: []\n",
      "f2py: PowerLaw_Network_0_SFI_C02TJ318GTFL_2228510_0760400561_55397.pyf\n",
      "Reading fortran codes...\n",
      "\tReading file 'PowerLaw_Network_0_SFI_C02TJ318GTFL_2228510_0760400561_55397.pyf' (format:free)\n",
      "Post-processing...\n",
      "\tBlock: PowerLaw_Network_0_SFI_C02TJ318GTFL_2228510_0760400561_55397\n",
      "\t\t\tBlock: res_function\n",
      "\t\t\tBlock: ddaskr_jac\n",
      "\t\t\tBlock: root_func\n",
      "\t\t\tBlock: alg_deriv_func\n",
      "\t\t\tBlock: alg_res_func\n",
      "\t\t\tBlock: dres_dc_function\n",
      "\t\t\tBlock: dres_dcdot_function\n",
      "\t\t\tBlock: dres_dlog_alpha_0\n",
      "\t\t\tBlock: dres_dlog_beta_0\n",
      "\t\t\tBlock: dres_dg_0_0\n",
      "\t\t\tBlock: dres_dh_0_0\n",
      "\t\t\tBlock: dres_dg_0_1\n",
      "\t\t\tBlock: dres_dh_0_1\n",
      "\t\t\tBlock: dres_dg_0_2\n",
      "\t\t\tBlock: dres_dh_0_2\n",
      "\t\t\tBlock: dres_dlog_alpha_1\n",
      "\t\t\tBlock: dres_dlog_beta_1\n",
      "\t\t\tBlock: dres_dg_1_1\n",
      "\t\t\tBlock: dres_dh_1_1\n",
      "\t\t\tBlock: dres_dg_1_0\n",
      "\t\t\tBlock: dres_dh_1_0\n",
      "\t\t\tBlock: dres_dg_2_2\n",
      "\t\t\tBlock: dres_dg_2_0\n",
      "\t\t\tBlock: sens_rhs\n",
      "\t\t\tBlock: res_function_logdv\n",
      "\t\t\tBlock: root_func_logdv\n",
      "\t\t\tBlock: sens_rhs_logdv\n",
      "\t\t\tBlock: integrate_stochastic_tidbit\n",
      "Post-processing (stage 2)...\n",
      "Building modules...\n",
      "\tBuilding module \"PowerLaw_Network_0_SFI_C02TJ318GTFL_2228510_0760400561_55397\"...\n",
      "\t\tConstructing wrapper function \"res_function\"...\n",
      "\t\t  residual = res_function(time,dynamicVars,yprime,constants)\n",
      "\t\tConstructing wrapper function \"ddaskr_jac\"...\n",
      "\t\t  pd = ddaskr_jac(t,y,yprime,cj,rpar)\n",
      "\t\tConstructing wrapper function \"root_func\"...\n",
      "\t\t  root_devs = root_func(t,y,yp,constants)\n",
      "\t\tConstructing wrapper function \"alg_deriv_func\"...\n",
      "\t\t  alg_derivs_res = alg_deriv_func(alg_yp,dynamicVars,yp,time,constants)\n",
      "\t\tConstructing wrapper function \"alg_res_func\"...\n",
      "\t\t  residual = alg_res_func(alg_vals,dynamicVars,time,constants)\n",
      "\t\tConstructing wrapper function \"dres_dc_function\"...\n",
      "\t\t  pd = dres_dc_function(time,dynamicVars,yprime,constants)\n",
      "\t\tConstructing wrapper function \"dres_dcdot_function\"...\n",
      "\t\t  pd = dres_dcdot_function(time,dynamicVars,yprime,constants)\n",
      "\t\tConstructing wrapper function \"dres_dlog_alpha_0\"...\n",
      "\t\t  pd = dres_dlog_alpha_0(time,dynamicVars,yprime,constants)\n",
      "\t\tConstructing wrapper function \"dres_dlog_beta_0\"...\n",
      "\t\t  pd = dres_dlog_beta_0(time,dynamicVars,yprime,constants)\n",
      "\t\tConstructing wrapper function \"dres_dg_0_0\"...\n",
      "\t\t  pd = dres_dg_0_0(time,dynamicVars,yprime,constants)\n",
      "\t\tConstructing wrapper function \"dres_dh_0_0\"...\n"
     ]
    },
    {
     "name": "stderr",
     "output_type": "stream",
     "text": [
      "<string>:1: SyntaxWarning: 'int' object is not subscriptable; perhaps you missed a comma?\n",
      "<string>:1: SyntaxWarning: 'int' object is not subscriptable; perhaps you missed a comma?\n",
      "<string>:1: SyntaxWarning: 'int' object is not subscriptable; perhaps you missed a comma?\n",
      "<string>:1: SyntaxWarning: 'int' object is not subscriptable; perhaps you missed a comma?\n",
      "<string>:1: SyntaxWarning: 'int' object is not subscriptable; perhaps you missed a comma?\n",
      "<string>:1: SyntaxWarning: 'int' object is not subscriptable; perhaps you missed a comma?\n",
      "<string>:1: SyntaxWarning: 'int' object is not subscriptable; perhaps you missed a comma?\n"
     ]
    },
    {
     "name": "stdout",
     "output_type": "stream",
     "text": [
      "\t\t  pd = dres_dh_0_0(time,dynamicVars,yprime,constants)\n",
      "\t\tConstructing wrapper function \"dres_dg_0_1\"...\n",
      "\t\t  pd = dres_dg_0_1(time,dynamicVars,yprime,constants)\n",
      "\t\tConstructing wrapper function \"dres_dh_0_1\"...\n",
      "\t\t  pd = dres_dh_0_1(time,dynamicVars,yprime,constants)\n",
      "\t\tConstructing wrapper function \"dres_dg_0_2\"...\n",
      "\t\t  pd = dres_dg_0_2(time,dynamicVars,yprime,constants)\n",
      "\t\tConstructing wrapper function \"dres_dh_0_2\"...\n",
      "\t\t  pd = dres_dh_0_2(time,dynamicVars,yprime,constants)\n",
      "\t\tConstructing wrapper function \"dres_dlog_alpha_1\"...\n",
      "\t\t  pd = dres_dlog_alpha_1(time,dynamicVars,yprime,constants)\n",
      "\t\tConstructing wrapper function \"dres_dlog_beta_1\"...\n",
      "\t\t  pd = dres_dlog_beta_1(time,dynamicVars,yprime,constants)\n",
      "\t\tConstructing wrapper function \"dres_dg_1_1\"...\n",
      "\t\t  pd = dres_dg_1_1(time,dynamicVars,yprime,constants)\n",
      "\t\tConstructing wrapper function \"dres_dh_1_1\"...\n",
      "\t\t  pd = dres_dh_1_1(time,dynamicVars,yprime,constants)\n",
      "\t\tConstructing wrapper function \"dres_dg_1_0\"...\n",
      "\t\t  pd = dres_dg_1_0(time,dynamicVars,yprime,constants)\n",
      "\t\tConstructing wrapper function \"dres_dh_1_0\"...\n",
      "\t\t  pd = dres_dh_1_0(time,dynamicVars,yprime,constants)\n",
      "\t\tConstructing wrapper function \"dres_dg_2_2\"...\n",
      "\t\t  pd = dres_dg_2_2(time,dynamicVars,yprime,constants)\n",
      "\t\tConstructing wrapper function \"dres_dg_2_0\"...\n",
      "\t\t  pd = dres_dg_2_0(time,dynamicVars,yprime,constants)\n",
      "\t\tConstructing wrapper function \"sens_rhs\"...\n",
      "\t\t  sens_res = sens_rhs(time,sens_y,sens_yp,constants)\n",
      "\t\tConstructing wrapper function \"res_function_logdv\"...\n",
      "\t\t  residual = res_function_logdv(time,log_dv,log_yp,constants)\n",
      "\t\tConstructing wrapper function \"root_func_logdv\"...\n",
      "\t\t  root_devs = root_func_logdv(t,log_dv,log_yp,constants)\n",
      "\t\tConstructing wrapper function \"sens_rhs_logdv\"...\n",
      "\t\t  sens_res = sens_rhs_logdv(time,sens_y_log,sens_yp_log,constants)\n",
      "\t\tConstructing wrapper function \"integrate_stochastic_tidbit\"...\n",
      "\t\t  time_ptr,dv,stop_time_ptr,trajectory = integrate_stochastic_tidbit(seed_ptr,reseed,time_ptr,dv,cv,rmsd_ptr,stop_time_ptr)\n",
      "\tWrote C/API module \"PowerLaw_Network_0_SFI_C02TJ318GTFL_2228510_0760400561_55397\" to file \"./PowerLaw_Network_0_SFI_C02TJ318GTFL_2228510_0760400561_55397module.c\"\n",
      "  adding 'build/src.macosx-10.9-x86_64-3.8/./fortranobject.c' to sources.\n",
      "  adding 'build/src.macosx-10.9-x86_64-3.8/.' to include_dirs.\n",
      "copying /Users/bryandaniels/anaconda3/lib/python3.8/site-packages/numpy/f2py/src/fortranobject.c -> build/src.macosx-10.9-x86_64-3.8/.\n"
     ]
    },
    {
     "name": "stderr",
     "output_type": "stream",
     "text": [
      "WARNING:ReactionNetworks.Components:Failed to import dynamically compiled C module PowerLaw_Network_0_SFI_C02TJ318GTFL_2228510_0760400561_55397 for network PowerLaw_Network.\n",
      "WARNING:ReactionNetworks.Components:No module named 'PowerLaw_Network_0_SFI_C02TJ318GTFL_2228510_0760400561_55397'\n"
     ]
    },
    {
     "name": "stdout",
     "output_type": "stream",
     "text": [
      "***STDOUT***\n",
      "b''\n",
      "***STDERR***\n",
      "b''\n",
      "running build_ext\n",
      "running build_src\n",
      "build_src\n",
      "building extension \"PowerLaw_Network_0_SFI_C02TJ318GTFL_484808_0760400561_55397\" sources\n",
      "f2py options: []\n",
      "f2py: PowerLaw_Network_0_SFI_C02TJ318GTFL_484808_0760400561_55397.pyf\n",
      "Reading fortran codes...\n",
      "\tReading file 'PowerLaw_Network_0_SFI_C02TJ318GTFL_484808_0760400561_55397.pyf' (format:free)\n",
      "Post-processing...\n",
      "\tBlock: PowerLaw_Network_0_SFI_C02TJ318GTFL_484808_0760400561_55397\n",
      "\t\t\tBlock: res_function\n",
      "\t\t\tBlock: ddaskr_jac\n",
      "\t\t\tBlock: root_func\n",
      "\t\t\tBlock: alg_deriv_func\n",
      "\t\t\tBlock: alg_res_func\n",
      "\t\t\tBlock: dres_dc_function\n",
      "\t\t\tBlock: dres_dcdot_function\n",
      "\t\t\tBlock: dres_dlog_alpha_0\n",
      "\t\t\tBlock: dres_dlog_beta_0\n",
      "\t\t\tBlock: dres_dg_0_0\n",
      "\t\t\tBlock: dres_dh_0_0\n",
      "\t\t\tBlock: dres_dg_0_1\n",
      "\t\t\tBlock: dres_dh_0_1\n",
      "\t\t\tBlock: dres_dg_0_2\n",
      "\t\t\tBlock: dres_dh_0_2\n",
      "\t\t\tBlock: dres_dlog_alpha_1\n",
      "\t\t\tBlock: dres_dlog_beta_1\n",
      "\t\t\tBlock: dres_dg_1_1\n",
      "\t\t\tBlock: dres_dh_1_1\n",
      "\t\t\tBlock: dres_dg_1_0\n",
      "\t\t\tBlock: dres_dh_1_0\n",
      "\t\t\tBlock: dres_dg_1_2\n",
      "\t\t\tBlock: dres_dg_2_2\n",
      "\t\t\tBlock: dres_dg_2_0\n",
      "\t\t\tBlock: dres_dh_2_0\n",
      "\t\t\tBlock: sens_rhs\n",
      "\t\t\tBlock: res_function_logdv\n",
      "\t\t\tBlock: root_func_logdv\n",
      "\t\t\tBlock: sens_rhs_logdv\n",
      "\t\t\tBlock: integrate_stochastic_tidbit\n",
      "Post-processing (stage 2)...\n",
      "Building modules...\n",
      "\tBuilding module \"PowerLaw_Network_0_SFI_C02TJ318GTFL_484808_0760400561_55397\"...\n",
      "\t\tConstructing wrapper function \"res_function\"...\n",
      "\t\t  residual = res_function(time,dynamicVars,yprime,constants)\n",
      "\t\tConstructing wrapper function \"ddaskr_jac\"...\n",
      "\t\t  pd = ddaskr_jac(t,y,yprime,cj,rpar)\n",
      "\t\tConstructing wrapper function \"root_func\"...\n",
      "\t\t  root_devs = root_func(t,y,yp,constants)\n",
      "\t\tConstructing wrapper function \"alg_deriv_func\"...\n",
      "\t\t  alg_derivs_res = alg_deriv_func(alg_yp,dynamicVars,yp,time,constants)\n",
      "\t\tConstructing wrapper function \"alg_res_func\"...\n",
      "\t\t  residual = alg_res_func(alg_vals,dynamicVars,time,constants)\n",
      "\t\tConstructing wrapper function \"dres_dc_function\"...\n",
      "\t\t  pd = dres_dc_function(time,dynamicVars,yprime,constants)\n",
      "\t\tConstructing wrapper function \"dres_dcdot_function\"...\n",
      "\t\t  pd = dres_dcdot_function(time,dynamicVars,yprime,constants)\n",
      "\t\tConstructing wrapper function \"dres_dlog_alpha_0\"...\n",
      "\t\t  pd = dres_dlog_alpha_0(time,dynamicVars,yprime,constants)\n",
      "\t\tConstructing wrapper function \"dres_dlog_beta_0\"...\n",
      "\t\t  pd = dres_dlog_beta_0(time,dynamicVars,yprime,constants)\n",
      "\t\tConstructing wrapper function \"dres_dg_0_0\"...\n",
      "\t\t  pd = dres_dg_0_0(time,dynamicVars,yprime,constants)\n",
      "\t\tConstructing wrapper function \"dres_dh_0_0\"...\n",
      "\t\t  pd = dres_dh_0_0(time,dynamicVars,yprime,constants)\n",
      "\t\tConstructing wrapper function \"dres_dg_0_1\"...\n",
      "\t\t  pd = dres_dg_0_1(time,dynamicVars,yprime,constants)\n",
      "\t\tConstructing wrapper function \"dres_dh_0_1\"...\n"
     ]
    },
    {
     "name": "stderr",
     "output_type": "stream",
     "text": [
      "<string>:1: SyntaxWarning: 'int' object is not subscriptable; perhaps you missed a comma?\n",
      "<string>:1: SyntaxWarning: 'int' object is not subscriptable; perhaps you missed a comma?\n",
      "<string>:1: SyntaxWarning: 'int' object is not subscriptable; perhaps you missed a comma?\n",
      "<string>:1: SyntaxWarning: 'int' object is not subscriptable; perhaps you missed a comma?\n",
      "<string>:1: SyntaxWarning: 'int' object is not subscriptable; perhaps you missed a comma?\n",
      "<string>:1: SyntaxWarning: 'int' object is not subscriptable; perhaps you missed a comma?\n",
      "<string>:1: SyntaxWarning: 'int' object is not subscriptable; perhaps you missed a comma?\n"
     ]
    },
    {
     "name": "stdout",
     "output_type": "stream",
     "text": [
      "\t\t  pd = dres_dh_0_1(time,dynamicVars,yprime,constants)\n",
      "\t\tConstructing wrapper function \"dres_dg_0_2\"...\n",
      "\t\t  pd = dres_dg_0_2(time,dynamicVars,yprime,constants)\n",
      "\t\tConstructing wrapper function \"dres_dh_0_2\"...\n",
      "\t\t  pd = dres_dh_0_2(time,dynamicVars,yprime,constants)\n",
      "\t\tConstructing wrapper function \"dres_dlog_alpha_1\"...\n",
      "\t\t  pd = dres_dlog_alpha_1(time,dynamicVars,yprime,constants)\n",
      "\t\tConstructing wrapper function \"dres_dlog_beta_1\"...\n",
      "\t\t  pd = dres_dlog_beta_1(time,dynamicVars,yprime,constants)\n",
      "\t\tConstructing wrapper function \"dres_dg_1_1\"...\n",
      "\t\t  pd = dres_dg_1_1(time,dynamicVars,yprime,constants)\n",
      "\t\tConstructing wrapper function \"dres_dh_1_1\"...\n",
      "\t\t  pd = dres_dh_1_1(time,dynamicVars,yprime,constants)\n",
      "\t\tConstructing wrapper function \"dres_dg_1_0\"...\n",
      "\t\t  pd = dres_dg_1_0(time,dynamicVars,yprime,constants)\n",
      "\t\tConstructing wrapper function \"dres_dh_1_0\"...\n",
      "\t\t  pd = dres_dh_1_0(time,dynamicVars,yprime,constants)\n",
      "\t\tConstructing wrapper function \"dres_dg_1_2\"...\n",
      "\t\t  pd = dres_dg_1_2(time,dynamicVars,yprime,constants)\n",
      "\t\tConstructing wrapper function \"dres_dg_2_2\"...\n",
      "\t\t  pd = dres_dg_2_2(time,dynamicVars,yprime,constants)\n",
      "\t\tConstructing wrapper function \"dres_dg_2_0\"...\n",
      "\t\t  pd = dres_dg_2_0(time,dynamicVars,yprime,constants)\n",
      "\t\tConstructing wrapper function \"dres_dh_2_0\"...\n",
      "\t\t  pd = dres_dh_2_0(time,dynamicVars,yprime,constants)\n",
      "\t\tConstructing wrapper function \"sens_rhs\"...\n",
      "\t\t  sens_res = sens_rhs(time,sens_y,sens_yp,constants)\n",
      "\t\tConstructing wrapper function \"res_function_logdv\"...\n",
      "\t\t  residual = res_function_logdv(time,log_dv,log_yp,constants)\n",
      "\t\tConstructing wrapper function \"root_func_logdv\"...\n",
      "\t\t  root_devs = root_func_logdv(t,log_dv,log_yp,constants)\n",
      "\t\tConstructing wrapper function \"sens_rhs_logdv\"...\n",
      "\t\t  sens_res = sens_rhs_logdv(time,sens_y_log,sens_yp_log,constants)\n",
      "\t\tConstructing wrapper function \"integrate_stochastic_tidbit\"...\n",
      "\t\t  time_ptr,dv,stop_time_ptr,trajectory = integrate_stochastic_tidbit(seed_ptr,reseed,time_ptr,dv,cv,rmsd_ptr,stop_time_ptr)\n",
      "\tWrote C/API module \"PowerLaw_Network_0_SFI_C02TJ318GTFL_484808_0760400561_55397\" to file \"./PowerLaw_Network_0_SFI_C02TJ318GTFL_484808_0760400561_55397module.c\"\n",
      "  adding 'build/src.macosx-10.9-x86_64-3.8/./fortranobject.c' to sources.\n",
      "  adding 'build/src.macosx-10.9-x86_64-3.8/.' to include_dirs.\n",
      "copying /Users/bryandaniels/anaconda3/lib/python3.8/site-packages/numpy/f2py/src/fortranobject.c -> build/src.macosx-10.9-x86_64-3.8/.\n"
     ]
    },
    {
     "name": "stderr",
     "output_type": "stream",
     "text": [
      "WARNING:ReactionNetworks.Components:Failed to import dynamically compiled C module PowerLaw_Network_0_SFI_C02TJ318GTFL_484808_0760400561_55397 for network PowerLaw_Network.\n",
      "WARNING:ReactionNetworks.Components:No module named 'PowerLaw_Network_0_SFI_C02TJ318GTFL_484808_0760400561_55397'\n"
     ]
    },
    {
     "name": "stdout",
     "output_type": "stream",
     "text": [
      "***STDOUT***\n",
      "b''\n",
      "***STDERR***\n",
      "b''\n",
      "running build_ext\n",
      "running build_src\n",
      "build_src\n",
      "building extension \"PowerLaw_Network_0_SFI_C02TJ318GTFL_392235_1760400561_55397\" sources\n",
      "f2py options: []\n",
      "f2py: PowerLaw_Network_0_SFI_C02TJ318GTFL_392235_1760400561_55397.pyf\n",
      "Reading fortran codes...\n",
      "\tReading file 'PowerLaw_Network_0_SFI_C02TJ318GTFL_392235_1760400561_55397.pyf' (format:free)\n",
      "Post-processing...\n",
      "\tBlock: PowerLaw_Network_0_SFI_C02TJ318GTFL_392235_1760400561_55397\n",
      "\t\t\tBlock: res_function\n",
      "\t\t\tBlock: ddaskr_jac\n",
      "\t\t\tBlock: root_func\n",
      "\t\t\tBlock: alg_deriv_func\n",
      "\t\t\tBlock: alg_res_func\n",
      "\t\t\tBlock: dres_dc_function\n",
      "\t\t\tBlock: dres_dcdot_function\n",
      "\t\t\tBlock: dres_dlog_alpha_0\n",
      "\t\t\tBlock: dres_dlog_beta_0\n",
      "\t\t\tBlock: dres_dg_0_0\n",
      "\t\t\tBlock: dres_dh_0_0\n",
      "\t\t\tBlock: dres_dg_0_1\n",
      "\t\t\tBlock: dres_dh_0_1\n",
      "\t\t\tBlock: dres_dg_0_2\n",
      "\t\t\tBlock: dres_dh_0_2\n",
      "\t\t\tBlock: dres_dlog_alpha_1\n",
      "\t\t\tBlock: dres_dlog_beta_1\n",
      "\t\t\tBlock: dres_dg_1_1\n",
      "\t\t\tBlock: dres_dh_1_1\n",
      "\t\t\tBlock: dres_dg_1_0\n",
      "\t\t\tBlock: dres_dh_1_0\n",
      "\t\t\tBlock: dres_dg_1_2\n",
      "\t\t\tBlock: dres_dh_1_2\n",
      "\t\t\tBlock: dres_dg_2_2\n",
      "\t\t\tBlock: dres_dg_2_0\n",
      "\t\t\tBlock: dres_dh_2_0\n",
      "\t\t\tBlock: dres_dg_2_1\n",
      "\t\t\tBlock: sens_rhs\n",
      "\t\t\tBlock: res_function_logdv\n",
      "\t\t\tBlock: root_func_logdv\n",
      "\t\t\tBlock: sens_rhs_logdv\n",
      "\t\t\tBlock: integrate_stochastic_tidbit\n",
      "Post-processing (stage 2)...\n",
      "Building modules...\n",
      "\tBuilding module \"PowerLaw_Network_0_SFI_C02TJ318GTFL_392235_1760400561_55397\"...\n",
      "\t\tConstructing wrapper function \"res_function\"...\n",
      "\t\t  residual = res_function(time,dynamicVars,yprime,constants)\n",
      "\t\tConstructing wrapper function \"ddaskr_jac\"...\n",
      "\t\t  pd = ddaskr_jac(t,y,yprime,cj,rpar)\n",
      "\t\tConstructing wrapper function \"root_func\"...\n",
      "\t\t  root_devs = root_func(t,y,yp,constants)\n",
      "\t\tConstructing wrapper function \"alg_deriv_func\"...\n",
      "\t\t  alg_derivs_res = alg_deriv_func(alg_yp,dynamicVars,yp,time,constants)\n",
      "\t\tConstructing wrapper function \"alg_res_func\"...\n",
      "\t\t  residual = alg_res_func(alg_vals,dynamicVars,time,constants)\n",
      "\t\tConstructing wrapper function \"dres_dc_function\"...\n",
      "\t\t  pd = dres_dc_function(time,dynamicVars,yprime,constants)\n",
      "\t\tConstructing wrapper function \"dres_dcdot_function\"...\n",
      "\t\t  pd = dres_dcdot_function(time,dynamicVars,yprime,constants)\n",
      "\t\tConstructing wrapper function \"dres_dlog_alpha_0\"...\n",
      "\t\t  pd = dres_dlog_alpha_0(time,dynamicVars,yprime,constants)\n",
      "\t\tConstructing wrapper function \"dres_dlog_beta_0\"...\n",
      "\t\t  pd = dres_dlog_beta_0(time,dynamicVars,yprime,constants)\n",
      "\t\tConstructing wrapper function \"dres_dg_0_0\"...\n",
      "\t\t  pd = dres_dg_0_0(time,dynamicVars,yprime,constants)\n",
      "\t\tConstructing wrapper function \"dres_dh_0_0\"...\n",
      "\t\t  pd = dres_dh_0_0(time,dynamicVars,yprime,constants)\n",
      "\t\tConstructing wrapper function \"dres_dg_0_1\"...\n",
      "\t\t  pd = dres_dg_0_1(time,dynamicVars,yprime,constants)\n",
      "\t\tConstructing wrapper function \"dres_dh_0_1\"...\n",
      "\t\t  pd = dres_dh_0_1(time,dynamicVars,yprime,constants)\n",
      "\t\tConstructing wrapper function \"dres_dg_0_2\"...\n",
      "\t\t  pd = dres_dg_0_2(time,dynamicVars,yprime,constants)\n",
      "\t\tConstructing wrapper function \"dres_dh_0_2\"...\n",
      "\t\t  pd = dres_dh_0_2(time,dynamicVars,yprime,constants)\n",
      "\t\tConstructing wrapper function \"dres_dlog_alpha_1\"...\n"
     ]
    },
    {
     "name": "stderr",
     "output_type": "stream",
     "text": [
      "<string>:1: SyntaxWarning: 'int' object is not subscriptable; perhaps you missed a comma?\n",
      "<string>:1: SyntaxWarning: 'int' object is not subscriptable; perhaps you missed a comma?\n",
      "<string>:1: SyntaxWarning: 'int' object is not subscriptable; perhaps you missed a comma?\n",
      "<string>:1: SyntaxWarning: 'int' object is not subscriptable; perhaps you missed a comma?\n",
      "<string>:1: SyntaxWarning: 'int' object is not subscriptable; perhaps you missed a comma?\n",
      "<string>:1: SyntaxWarning: 'int' object is not subscriptable; perhaps you missed a comma?\n",
      "<string>:1: SyntaxWarning: 'int' object is not subscriptable; perhaps you missed a comma?\n"
     ]
    },
    {
     "name": "stdout",
     "output_type": "stream",
     "text": [
      "\t\t  pd = dres_dlog_alpha_1(time,dynamicVars,yprime,constants)\n",
      "\t\tConstructing wrapper function \"dres_dlog_beta_1\"...\n",
      "\t\t  pd = dres_dlog_beta_1(time,dynamicVars,yprime,constants)\n",
      "\t\tConstructing wrapper function \"dres_dg_1_1\"...\n",
      "\t\t  pd = dres_dg_1_1(time,dynamicVars,yprime,constants)\n",
      "\t\tConstructing wrapper function \"dres_dh_1_1\"...\n",
      "\t\t  pd = dres_dh_1_1(time,dynamicVars,yprime,constants)\n",
      "\t\tConstructing wrapper function \"dres_dg_1_0\"...\n",
      "\t\t  pd = dres_dg_1_0(time,dynamicVars,yprime,constants)\n",
      "\t\tConstructing wrapper function \"dres_dh_1_0\"...\n",
      "\t\t  pd = dres_dh_1_0(time,dynamicVars,yprime,constants)\n",
      "\t\tConstructing wrapper function \"dres_dg_1_2\"...\n",
      "\t\t  pd = dres_dg_1_2(time,dynamicVars,yprime,constants)\n",
      "\t\tConstructing wrapper function \"dres_dh_1_2\"...\n",
      "\t\t  pd = dres_dh_1_2(time,dynamicVars,yprime,constants)\n",
      "\t\tConstructing wrapper function \"dres_dg_2_2\"...\n",
      "\t\t  pd = dres_dg_2_2(time,dynamicVars,yprime,constants)\n",
      "\t\tConstructing wrapper function \"dres_dg_2_0\"...\n",
      "\t\t  pd = dres_dg_2_0(time,dynamicVars,yprime,constants)\n",
      "\t\tConstructing wrapper function \"dres_dh_2_0\"...\n",
      "\t\t  pd = dres_dh_2_0(time,dynamicVars,yprime,constants)\n",
      "\t\tConstructing wrapper function \"dres_dg_2_1\"...\n",
      "\t\t  pd = dres_dg_2_1(time,dynamicVars,yprime,constants)\n",
      "\t\tConstructing wrapper function \"sens_rhs\"...\n",
      "\t\t  sens_res = sens_rhs(time,sens_y,sens_yp,constants)\n",
      "\t\tConstructing wrapper function \"res_function_logdv\"...\n",
      "\t\t  residual = res_function_logdv(time,log_dv,log_yp,constants)\n",
      "\t\tConstructing wrapper function \"root_func_logdv\"...\n",
      "\t\t  root_devs = root_func_logdv(t,log_dv,log_yp,constants)\n",
      "\t\tConstructing wrapper function \"sens_rhs_logdv\"...\n",
      "\t\t  sens_res = sens_rhs_logdv(time,sens_y_log,sens_yp_log,constants)\n",
      "\t\tConstructing wrapper function \"integrate_stochastic_tidbit\"...\n",
      "\t\t  time_ptr,dv,stop_time_ptr,trajectory = integrate_stochastic_tidbit(seed_ptr,reseed,time_ptr,dv,cv,rmsd_ptr,stop_time_ptr)\n",
      "\tWrote C/API module \"PowerLaw_Network_0_SFI_C02TJ318GTFL_392235_1760400561_55397\" to file \"./PowerLaw_Network_0_SFI_C02TJ318GTFL_392235_1760400561_55397module.c\"\n",
      "  adding 'build/src.macosx-10.9-x86_64-3.8/./fortranobject.c' to sources.\n",
      "  adding 'build/src.macosx-10.9-x86_64-3.8/.' to include_dirs.\n",
      "copying /Users/bryandaniels/anaconda3/lib/python3.8/site-packages/numpy/f2py/src/fortranobject.c -> build/src.macosx-10.9-x86_64-3.8/.\n",
      "***STDOUT***\n",
      "b''\n",
      "***STDERR***\n",
      "b''\n"
     ]
    },
    {
     "name": "stderr",
     "output_type": "stream",
     "text": [
      "WARNING:ReactionNetworks.Components:Failed to import dynamically compiled C module PowerLaw_Network_0_SFI_C02TJ318GTFL_392235_1760400561_55397 for network PowerLaw_Network.\n",
      "WARNING:ReactionNetworks.Components:No module named 'PowerLaw_Network_0_SFI_C02TJ318GTFL_392235_1760400561_55397'\n"
     ]
    },
    {
     "name": "stdout",
     "output_type": "stream",
     "text": [
      "running build_ext\n",
      "running build_src\n",
      "build_src\n",
      "building extension \"PowerLaw_Network_0_SFI_C02TJ318GTFL_2810942_2760400561_55397\" sources\n",
      "f2py options: []\n",
      "f2py: PowerLaw_Network_0_SFI_C02TJ318GTFL_2810942_2760400561_55397.pyf\n",
      "Reading fortran codes...\n",
      "\tReading file 'PowerLaw_Network_0_SFI_C02TJ318GTFL_2810942_2760400561_55397.pyf' (format:free)\n",
      "Post-processing...\n",
      "\tBlock: PowerLaw_Network_0_SFI_C02TJ318GTFL_2810942_2760400561_55397\n",
      "\t\t\tBlock: res_function\n",
      "\t\t\tBlock: ddaskr_jac\n",
      "\t\t\tBlock: root_func\n",
      "\t\t\tBlock: alg_deriv_func\n",
      "\t\t\tBlock: alg_res_func\n",
      "\t\t\tBlock: dres_dc_function\n",
      "\t\t\tBlock: dres_dcdot_function\n",
      "\t\t\tBlock: dres_dlog_alpha_0\n",
      "\t\t\tBlock: dres_dlog_beta_0\n",
      "\t\t\tBlock: dres_dg_0_0\n",
      "\t\t\tBlock: dres_dh_0_0\n",
      "\t\t\tBlock: dres_dg_0_1\n",
      "\t\t\tBlock: dres_dh_0_1\n",
      "\t\t\tBlock: dres_dg_0_2\n",
      "\t\t\tBlock: dres_dh_0_2\n",
      "\t\t\tBlock: dres_dlog_alpha_1\n",
      "\t\t\tBlock: dres_dlog_beta_1\n",
      "\t\t\tBlock: dres_dg_1_1\n",
      "\t\t\tBlock: dres_dh_1_1\n",
      "\t\t\tBlock: dres_dg_1_0\n",
      "\t\t\tBlock: dres_dh_1_0\n",
      "\t\t\tBlock: dres_dg_1_2\n",
      "\t\t\tBlock: dres_dh_1_2\n",
      "\t\t\tBlock: dres_dlog_beta_2\n",
      "\t\t\tBlock: dres_dg_2_2\n",
      "\t\t\tBlock: dres_dg_2_0\n",
      "\t\t\tBlock: dres_dh_2_0\n",
      "\t\t\tBlock: dres_dg_2_1\n",
      "\t\t\tBlock: dres_dh_2_1\n",
      "\t\t\tBlock: sens_rhs\n",
      "\t\t\tBlock: res_function_logdv\n",
      "\t\t\tBlock: root_func_logdv\n",
      "\t\t\tBlock: sens_rhs_logdv\n",
      "\t\t\tBlock: integrate_stochastic_tidbit\n",
      "Post-processing (stage 2)...\n",
      "Building modules...\n",
      "\tBuilding module \"PowerLaw_Network_0_SFI_C02TJ318GTFL_2810942_2760400561_55397\"...\n",
      "\t\tConstructing wrapper function \"res_function\"...\n",
      "\t\t  residual = res_function(time,dynamicVars,yprime,constants)\n",
      "\t\tConstructing wrapper function \"ddaskr_jac\"...\n",
      "\t\t  pd = ddaskr_jac(t,y,yprime,cj,rpar)\n",
      "\t\tConstructing wrapper function \"root_func\"...\n",
      "\t\t  root_devs = root_func(t,y,yp,constants)\n",
      "\t\tConstructing wrapper function \"alg_deriv_func\"...\n",
      "\t\t  alg_derivs_res = alg_deriv_func(alg_yp,dynamicVars,yp,time,constants)\n",
      "\t\tConstructing wrapper function \"alg_res_func\"...\n",
      "\t\t  residual = alg_res_func(alg_vals,dynamicVars,time,constants)\n",
      "\t\tConstructing wrapper function \"dres_dc_function\"...\n",
      "\t\t  pd = dres_dc_function(time,dynamicVars,yprime,constants)\n",
      "\t\tConstructing wrapper function \"dres_dcdot_function\"...\n",
      "\t\t  pd = dres_dcdot_function(time,dynamicVars,yprime,constants)\n",
      "\t\tConstructing wrapper function \"dres_dlog_alpha_0\"...\n",
      "\t\t  pd = dres_dlog_alpha_0(time,dynamicVars,yprime,constants)\n",
      "\t\tConstructing wrapper function \"dres_dlog_beta_0\"...\n",
      "\t\t  pd = dres_dlog_beta_0(time,dynamicVars,yprime,constants)\n",
      "\t\tConstructing wrapper function \"dres_dg_0_0\"...\n",
      "\t\t  pd = dres_dg_0_0(time,dynamicVars,yprime,constants)\n",
      "\t\tConstructing wrapper function \"dres_dh_0_0\"...\n",
      "\t\t  pd = dres_dh_0_0(time,dynamicVars,yprime,constants)\n",
      "\t\tConstructing wrapper function \"dres_dg_0_1\"...\n",
      "\t\t  pd = dres_dg_0_1(time,dynamicVars,yprime,constants)\n",
      "\t\tConstructing wrapper function \"dres_dh_0_1\"...\n",
      "\t\t  pd = dres_dh_0_1(time,dynamicVars,yprime,constants)\n",
      "\t\tConstructing wrapper function \"dres_dg_0_2\"...\n",
      "\t\t  pd = dres_dg_0_2(time,dynamicVars,yprime,constants)\n",
      "\t\tConstructing wrapper function \"dres_dh_0_2\"...\n",
      "\t\t  pd = dres_dh_0_2(time,dynamicVars,yprime,constants)\n",
      "\t\tConstructing wrapper function \"dres_dlog_alpha_1\"...\n",
      "\t\t  pd = dres_dlog_alpha_1(time,dynamicVars,yprime,constants)\n",
      "\t\tConstructing wrapper function \"dres_dlog_beta_1\"...\n",
      "\t\t  pd = dres_dlog_beta_1(time,dynamicVars,yprime,constants)\n",
      "\t\tConstructing wrapper function \"dres_dg_1_1\"...\n",
      "\t\t  pd = dres_dg_1_1(time,dynamicVars,yprime,constants)\n",
      "\t\tConstructing wrapper function \"dres_dh_1_1\"...\n",
      "\t\t  pd = dres_dh_1_1(time,dynamicVars,yprime,constants)\n"
     ]
    },
    {
     "name": "stderr",
     "output_type": "stream",
     "text": [
      "<string>:1: SyntaxWarning: 'int' object is not subscriptable; perhaps you missed a comma?\n",
      "<string>:1: SyntaxWarning: 'int' object is not subscriptable; perhaps you missed a comma?\n",
      "<string>:1: SyntaxWarning: 'int' object is not subscriptable; perhaps you missed a comma?\n",
      "<string>:1: SyntaxWarning: 'int' object is not subscriptable; perhaps you missed a comma?\n",
      "<string>:1: SyntaxWarning: 'int' object is not subscriptable; perhaps you missed a comma?\n",
      "<string>:1: SyntaxWarning: 'int' object is not subscriptable; perhaps you missed a comma?\n",
      "<string>:1: SyntaxWarning: 'int' object is not subscriptable; perhaps you missed a comma?\n"
     ]
    },
    {
     "name": "stdout",
     "output_type": "stream",
     "text": [
      "\t\tConstructing wrapper function \"dres_dg_1_0\"...\n",
      "\t\t  pd = dres_dg_1_0(time,dynamicVars,yprime,constants)\n",
      "\t\tConstructing wrapper function \"dres_dh_1_0\"...\n",
      "\t\t  pd = dres_dh_1_0(time,dynamicVars,yprime,constants)\n",
      "\t\tConstructing wrapper function \"dres_dg_1_2\"...\n",
      "\t\t  pd = dres_dg_1_2(time,dynamicVars,yprime,constants)\n",
      "\t\tConstructing wrapper function \"dres_dh_1_2\"...\n",
      "\t\t  pd = dres_dh_1_2(time,dynamicVars,yprime,constants)\n",
      "\t\tConstructing wrapper function \"dres_dlog_beta_2\"...\n",
      "\t\t  pd = dres_dlog_beta_2(time,dynamicVars,yprime,constants)\n",
      "\t\tConstructing wrapper function \"dres_dg_2_2\"...\n",
      "\t\t  pd = dres_dg_2_2(time,dynamicVars,yprime,constants)\n",
      "\t\tConstructing wrapper function \"dres_dg_2_0\"...\n",
      "\t\t  pd = dres_dg_2_0(time,dynamicVars,yprime,constants)\n",
      "\t\tConstructing wrapper function \"dres_dh_2_0\"...\n",
      "\t\t  pd = dres_dh_2_0(time,dynamicVars,yprime,constants)\n",
      "\t\tConstructing wrapper function \"dres_dg_2_1\"...\n",
      "\t\t  pd = dres_dg_2_1(time,dynamicVars,yprime,constants)\n",
      "\t\tConstructing wrapper function \"dres_dh_2_1\"...\n",
      "\t\t  pd = dres_dh_2_1(time,dynamicVars,yprime,constants)\n",
      "\t\tConstructing wrapper function \"sens_rhs\"...\n",
      "\t\t  sens_res = sens_rhs(time,sens_y,sens_yp,constants)\n",
      "\t\tConstructing wrapper function \"res_function_logdv\"...\n",
      "\t\t  residual = res_function_logdv(time,log_dv,log_yp,constants)\n",
      "\t\tConstructing wrapper function \"root_func_logdv\"...\n",
      "\t\t  root_devs = root_func_logdv(t,log_dv,log_yp,constants)\n",
      "\t\tConstructing wrapper function \"sens_rhs_logdv\"...\n",
      "\t\t  sens_res = sens_rhs_logdv(time,sens_y_log,sens_yp_log,constants)\n",
      "\t\tConstructing wrapper function \"integrate_stochastic_tidbit\"...\n",
      "\t\t  time_ptr,dv,stop_time_ptr,trajectory = integrate_stochastic_tidbit(seed_ptr,reseed,time_ptr,dv,cv,rmsd_ptr,stop_time_ptr)\n",
      "\tWrote C/API module \"PowerLaw_Network_0_SFI_C02TJ318GTFL_2810942_2760400561_55397\" to file \"./PowerLaw_Network_0_SFI_C02TJ318GTFL_2810942_2760400561_55397module.c\"\n",
      "  adding 'build/src.macosx-10.9-x86_64-3.8/./fortranobject.c' to sources.\n",
      "  adding 'build/src.macosx-10.9-x86_64-3.8/.' to include_dirs.\n",
      "copying /Users/bryandaniels/anaconda3/lib/python3.8/site-packages/numpy/f2py/src/fortranobject.c -> build/src.macosx-10.9-x86_64-3.8/.\n"
     ]
    },
    {
     "name": "stderr",
     "output_type": "stream",
     "text": [
      "WARNING:ReactionNetworks.Components:Failed to import dynamically compiled C module PowerLaw_Network_0_SFI_C02TJ318GTFL_2810942_2760400561_55397 for network PowerLaw_Network.\n",
      "WARNING:ReactionNetworks.Components:No module named 'PowerLaw_Network_0_SFI_C02TJ318GTFL_2810942_2760400561_55397'\n"
     ]
    },
    {
     "name": "stdout",
     "output_type": "stream",
     "text": [
      "***STDOUT***\n",
      "b''\n",
      "***STDERR***\n",
      "b''\n"
     ]
    }
   ],
   "source": [
    "# Load saved version of fittingProblem that has already been fit.\n",
    "p = fittingProblem.load('simpleExample_savedFittingProblem.data')"
   ]
  },
  {
   "cell_type": "markdown",
   "metadata": {},
   "source": [
    "Analyze the selected model\n",
    "--------------------------"
   ]
  },
  {
   "cell_type": "markdown",
   "metadata": {},
   "source": [
    "Here we plot predicted timecourses from the selected model for the first 10 in-sample initial conditions, using plotBestModelResults:"
   ]
  },
  {
   "cell_type": "code",
   "execution_count": null,
   "metadata": {},
   "outputs": [],
   "source": [
    "# BCD testing"
   ]
  },
  {
   "cell_type": "code",
   "execution_count": 17,
   "metadata": {},
   "outputs": [
    {
     "data": {
      "text/plain": [
       "'Model 7'"
      ]
     },
     "execution_count": 17,
     "metadata": {},
     "output_type": "execute_result"
    }
   ],
   "source": [
    "p.maxLogLikelihoodName()"
   ]
  },
  {
   "cell_type": "code",
   "execution_count": 18,
   "metadata": {},
   "outputs": [
    {
     "data": {
      "text/plain": [
       "True"
      ]
     },
     "execution_count": 18,
     "metadata": {},
     "output_type": "execute_result"
    }
   ],
   "source": [
    "net = p.getBestModel().net\n",
    "net.compiled"
   ]
  },
  {
   "cell_type": "code",
   "execution_count": 19,
   "metadata": {},
   "outputs": [
    {
     "data": {
      "text/plain": [
       "False"
      ]
     },
     "execution_count": 19,
     "metadata": {},
     "output_type": "execute_result"
    }
   ],
   "source": [
    "net = p.fittingModelDict['Model 11'].net\n",
    "net.compiled"
   ]
  },
  {
   "cell_type": "code",
   "execution_count": 49,
   "metadata": {},
   "outputs": [
    {
     "data": {
      "image/png": "[encoded data removed]",
      "text/plain": [
       "<Figure size 1440x144 with 10 Axes>"
      ]
     },
     "metadata": {
      "needs_background": "light"
     },
     "output_type": "display_data"
    }
   ],
   "source": [
    "plt.figure(figsize=(20,2))\n",
    "m = p.fittingModelDict['Model 1']\n",
    "m.plotResults(sirIsaacData[20:30],indepParamsList[20:30],\n",
    "              plotInitialConditions=True,plotFittingData=False,\n",
    "             maxTime=1);"
   ]
  },
  {
   "cell_type": "code",
   "execution_count": 53,
   "metadata": {},
   "outputs": [
    {
     "name": "stderr",
     "output_type": "stream",
     "text": [
      "<string>:8: RuntimeWarning: invalid value encountered in multiply\n",
      "<string>:8: RuntimeWarning: invalid value encountered in multiply\n",
      "<string>:8: RuntimeWarning: invalid value encountered in multiply\n",
      "<string>:8: RuntimeWarning: invalid value encountered in multiply\n",
      "<string>:8: RuntimeWarning: invalid value encountered in multiply\n",
      "<string>:8: RuntimeWarning: invalid value encountered in multiply\n",
      "<string>:8: RuntimeWarning: invalid value encountered in multiply\n",
      "<string>:8: RuntimeWarning: invalid value encountered in multiply\n",
      "<string>:8: RuntimeWarning: invalid value encountered in multiply\n",
      "<string>:8: RuntimeWarning: invalid value encountered in multiply\n",
      "<string>:8: RuntimeWarning: invalid value encountered in multiply\n",
      "<string>:8: RuntimeWarning: invalid value encountered in multiply\n",
      "<string>:8: RuntimeWarning: invalid value encountered in multiply\n",
      "<string>:8: RuntimeWarning: invalid value encountered in multiply\n",
      "<string>:8: RuntimeWarning: invalid value encountered in multiply\n",
      "<string>:8: RuntimeWarning: invalid value encountered in multiply\n",
      "<string>:8: RuntimeWarning: invalid value encountered in multiply\n",
      "<string>:8: RuntimeWarning: invalid value encountered in multiply\n",
      "<string>:8: RuntimeWarning: invalid value encountered in multiply\n",
      "<string>:8: RuntimeWarning: invalid value encountered in multiply\n"
     ]
    },
    {
     "data": {
      "image/png": "[encoded data removed]",
      "text/plain": [
       "<Figure size 1440x144 with 20 Axes>"
      ]
     },
     "metadata": {
      "needs_background": "light"
     },
     "output_type": "display_data"
    }
   ],
   "source": [
    "plt.figure(figsize=(20,2))\n",
    "m = p.getBestModel()\n",
    "m.plotResults(p.fittingData,p.indepParamsList,\n",
    "              plotInitialConditions=True,plotFittingData=False,\n",
    "              maxTime=2);"
   ]
  },
  {
   "cell_type": "code",
   "execution_count": null,
   "metadata": {},
   "outputs": [],
   "source": [
    "# END BCD testing"
   ]
  },
  {
   "cell_type": "code",
   "execution_count": 37,
   "metadata": {},
   "outputs": [
    {
     "name": "stderr",
     "output_type": "stream",
     "text": [
      "<string>:8: RuntimeWarning: invalid value encountered in multiply\n",
      "<string>:8: RuntimeWarning: invalid value encountered in multiply\n",
      "<string>:8: RuntimeWarning: invalid value encountered in multiply\n",
      "<string>:8: RuntimeWarning: invalid value encountered in multiply\n",
      "<string>:8: RuntimeWarning: invalid value encountered in multiply\n",
      "<string>:8: RuntimeWarning: invalid value encountered in multiply\n",
      "<string>:8: RuntimeWarning: invalid value encountered in multiply\n",
      "<string>:8: RuntimeWarning: invalid value encountered in multiply\n",
      "<string>:8: RuntimeWarning: invalid value encountered in multiply\n",
      "<string>:8: RuntimeWarning: invalid value encountered in multiply\n"
     ]
    },
    {
     "data": {
      "image/png": "[encoded data removed]",
      "text/plain": [
       "<Figure size 1440x144 with 10 Axes>"
      ]
     },
     "metadata": {
      "needs_background": "light"
     },
     "output_type": "display_data"
    }
   ],
   "source": [
    "plt.figure(figsize=(20,2))\n",
    "p.plotBestModelResults(plotInitialConditions=True,indices=range(10),maxTime=1);"
   ]
  },
  {
   "cell_type": "code",
   "execution_count": 27,
   "metadata": {},
   "outputs": [
    {
     "name": "stderr",
     "output_type": "stream",
     "text": [
      "<string>:8: RuntimeWarning: invalid value encountered in multiply\n",
      "<string>:8: RuntimeWarning: invalid value encountered in multiply\n",
      "<string>:8: RuntimeWarning: invalid value encountered in multiply\n",
      "<string>:8: RuntimeWarning: invalid value encountered in multiply\n",
      "<string>:8: RuntimeWarning: invalid value encountered in multiply\n",
      "<string>:8: RuntimeWarning: invalid value encountered in multiply\n",
      "capi_return is NULL\n",
      "Call-back cb_res_in_daskr__user__routines failed.\n",
      "WARNING:daskr:b''\n",
      "WARNING:daskr:DASKR Error: Unrecoverable error: can't convert complex to float\n",
      "WARNING:ReactionNetworks.Dynamics:Integration ended prematurely in network PowerLaw_Network on node 0.\n"
     ]
    },
    {
     "name": "stdout",
     "output_type": "stream",
     "text": [
      "SloppyCellFittingModel.evaluateVec: WARNING: Exception in integration. Returning default value for all requested times.\n"
     ]
    },
    {
     "name": "stderr",
     "output_type": "stream",
     "text": [
      "<string>:8: RuntimeWarning: invalid value encountered in multiply\n",
      "<string>:8: RuntimeWarning: invalid value encountered in multiply\n",
      "<string>:8: RuntimeWarning: invalid value encountered in multiply\n",
      "<string>:8: RuntimeWarning: invalid value encountered in multiply\n",
      "capi_return is NULL\n",
      "Call-back cb_res_in_daskr__user__routines failed.\n",
      "WARNING:daskr:b''\n",
      "WARNING:daskr:DASKR Error: Unrecoverable error: can't convert complex to float\n",
      "WARNING:ReactionNetworks.Dynamics:Integration ended prematurely in network PowerLaw_Network on node 0.\n"
     ]
    },
    {
     "name": "stdout",
     "output_type": "stream",
     "text": [
      "SloppyCellFittingModel.evaluateVec: WARNING: Exception in integration. Returning default value for all requested times.\n"
     ]
    },
    {
     "data": {
      "image/png": "[encoded data removed]",
      "text/plain": [
       "<Figure size 1440x144 with 10 Axes>"
      ]
     },
     "metadata": {
      "needs_background": "light"
     },
     "output_type": "display_data"
    }
   ],
   "source": [
    "plt.figure(figsize=(20,2))\n",
    "p.plotBestModelResults(plotInitialConditions=True,indices=range(10));"
   ]
  },
  {
   "cell_type": "markdown",
   "metadata": {},
   "source": [
    "And now for out-of-sample data:"
   ]
  },
  {
   "cell_type": "code",
   "execution_count": 13,
   "metadata": {},
   "outputs": [
    {
     "name": "stderr",
     "output_type": "stream",
     "text": [
      "<string>:8: RuntimeWarning: invalid value encountered in multiply\n",
      "capi_return is NULL\n",
      "Call-back cb_res_in_daskr__user__routines failed.\n",
      "WARNING:daskr:b''\n",
      "WARNING:daskr:DASKR Error: Unrecoverable error: can't convert complex to float\n",
      "WARNING:ReactionNetworks.Dynamics:Integration ended prematurely in network PowerLaw_Network on node 0.\n"
     ]
    },
    {
     "name": "stdout",
     "output_type": "stream",
     "text": [
      "SloppyCellFittingModel.evaluateVec: WARNING: Exception in integration. Returning default value for all requested times.\n"
     ]
    },
    {
     "name": "stderr",
     "output_type": "stream",
     "text": [
      "<string>:8: RuntimeWarning: invalid value encountered in multiply\n",
      "<string>:8: RuntimeWarning: invalid value encountered in multiply\n",
      "capi_return is NULL\n",
      "Call-back cb_res_in_daskr__user__routines failed.\n",
      "WARNING:daskr:b''\n",
      "WARNING:daskr:DASKR Error: Unrecoverable error: can't convert complex to float\n",
      "WARNING:ReactionNetworks.Dynamics:Integration ended prematurely in network PowerLaw_Network on node 0.\n"
     ]
    },
    {
     "name": "stdout",
     "output_type": "stream",
     "text": [
      "SloppyCellFittingModel.evaluateVec: WARNING: Exception in integration. Returning default value for all requested times.\n"
     ]
    },
    {
     "name": "stderr",
     "output_type": "stream",
     "text": [
      "<string>:8: RuntimeWarning: invalid value encountered in multiply\n",
      "capi_return is NULL\n",
      "Call-back cb_res_in_daskr__user__routines failed.\n",
      "WARNING:daskr:b''\n",
      "WARNING:daskr:DASKR Error: Unrecoverable error: can't convert complex to float\n",
      "WARNING:ReactionNetworks.Dynamics:Integration ended prematurely in network PowerLaw_Network on node 0.\n"
     ]
    },
    {
     "name": "stdout",
     "output_type": "stream",
     "text": [
      "SloppyCellFittingModel.evaluateVec: WARNING: Exception in integration. Returning default value for all requested times.\n"
     ]
    },
    {
     "name": "stderr",
     "output_type": "stream",
     "text": [
      "<string>:8: RuntimeWarning: invalid value encountered in multiply\n",
      "capi_return is NULL\n",
      "Call-back cb_res_in_daskr__user__routines failed.\n",
      "WARNING:daskr:b''\n",
      "WARNING:daskr:DASKR Error: Unrecoverable error: can't convert complex to float\n",
      "WARNING:ReactionNetworks.Dynamics:Integration ended prematurely in network PowerLaw_Network on node 0.\n"
     ]
    },
    {
     "name": "stdout",
     "output_type": "stream",
     "text": [
      "SloppyCellFittingModel.evaluateVec: WARNING: Exception in integration. Returning default value for all requested times.\n"
     ]
    },
    {
     "name": "stderr",
     "output_type": "stream",
     "text": [
      "<string>:8: RuntimeWarning: invalid value encountered in multiply\n",
      "<string>:8: RuntimeWarning: invalid value encountered in multiply\n",
      "<string>:8: RuntimeWarning: invalid value encountered in multiply\n",
      "capi_return is NULL\n",
      "Call-back cb_res_in_daskr__user__routines failed.\n",
      "WARNING:daskr:b''\n",
      "WARNING:daskr:DASKR Error: Unrecoverable error: can't convert complex to float\n",
      "WARNING:ReactionNetworks.Dynamics:Integration ended prematurely in network PowerLaw_Network on node 0.\n"
     ]
    },
    {
     "name": "stdout",
     "output_type": "stream",
     "text": [
      "SloppyCellFittingModel.evaluateVec: WARNING: Exception in integration. Returning default value for all requested times.\n"
     ]
    },
    {
     "name": "stderr",
     "output_type": "stream",
     "text": [
      "<string>:8: RuntimeWarning: invalid value encountered in multiply\n",
      "capi_return is NULL\n",
      "Call-back cb_res_in_daskr__user__routines failed.\n",
      "WARNING:daskr:b''\n",
      "WARNING:daskr:DASKR Error: Unrecoverable error: can't convert complex to float\n",
      "WARNING:ReactionNetworks.Dynamics:Integration ended prematurely in network PowerLaw_Network on node 0.\n"
     ]
    },
    {
     "name": "stdout",
     "output_type": "stream",
     "text": [
      "SloppyCellFittingModel.evaluateVec: WARNING: Exception in integration. Returning default value for all requested times.\n"
     ]
    },
    {
     "name": "stderr",
     "output_type": "stream",
     "text": [
      "<string>:8: RuntimeWarning: invalid value encountered in multiply\n"
     ]
    },
    {
     "data": {
      "image/png": "[encoded data removed]",
      "text/plain": [
       "<Figure size 1440x144 with 10 Axes>"
      ]
     },
     "metadata": {
      "needs_background": "light"
     },
     "output_type": "display_data"
    }
   ],
   "source": [
    "plt.figure(figsize=(20,2))\n",
    "m = p.getBestModel()\n",
    "m.plotResults(sirIsaacData[20:30],indepParamsList[20:30],\n",
    "              plotInitialConditions=True,plotFittingData=True);"
   ]
  },
  {
   "cell_type": "markdown",
   "metadata": {},
   "source": [
    "We can look at the selected model's parameters:"
   ]
  },
  {
   "cell_type": "code",
   "execution_count": 14,
   "metadata": {},
   "outputs": [
    {
     "name": "stdout",
     "output_type": "stream",
     "text": [
      "[\n",
      "('log_alpha_0', 1.7225457716848371),\n",
      "('log_beta_0', 0.3321167018792365),\n",
      "('g_0_0', -0.12494936432861134),\n",
      "('h_0_0', -2.0895439704672674),\n",
      "('g_0_1', -0.7288883619473852),\n",
      "('h_0_1', 3.475946916099947),\n",
      "('g_0_2', 1.3902709591269946),\n",
      "('h_0_2', 0.9564780088952947),\n",
      "('log_alpha_1', 0.11780149262912323),\n",
      "('log_beta_1', 1.552750436954982),\n",
      "('g_1_1', 1.9117921698303262),\n",
      "('h_1_1', 2.4595461782268804),\n",
      "('g_1_0', 2.9294550995040565),\n",
      "('h_1_0', -0.7522871957688211),\n",
      "('g_2_2', 1.1441123076243016),\n",
      "('g_2_0', -1.1938151116387097),\n",
      "]\n"
     ]
    }
   ],
   "source": [
    "# new\n",
    "m = p.getBestModel()\n",
    "print(m.getParameters())"
   ]
  },
  {
   "cell_type": "code",
   "execution_count": 13,
   "metadata": {},
   "outputs": [
    {
     "name": "stdout",
     "output_type": "stream",
     "text": [
      "[\n",
      "('log_alpha_0', 1.448499956554572),\n",
      "('log_beta_0', -2.7421668745158065),\n",
      "('g_0_0', 0.5733726369364367),\n",
      "('h_0_0', 6.113657634917001),\n",
      "('g_0_1', -1.6744640338117187),\n",
      "('h_0_1', 3.5504480786798562),\n",
      "('g_0_2', 0.0007681682989298746),\n",
      "('log_alpha_1', 0.28183083904679274),\n",
      "('log_beta_1', 1.80143719486644),\n",
      "('g_1_1', 3.8636025056956003),\n",
      "('h_1_1', 2.709018461565593),\n",
      "('g_1_0', 2.1231511392774345),\n",
      "('h_1_0', -0.7803639346374973),\n",
      "('g_2_2', -0.026182715641127466),\n",
      "]\n"
     ]
    }
   ],
   "source": [
    "# old\n",
    "m = p.getBestModel()\n",
    "print(m.getParameters())"
   ]
  },
  {
   "cell_type": "markdown",
   "metadata": {},
   "source": [
    "The following will use SloppyCell to output a latex file with the ODEs describing the selected model:"
   ]
  },
  {
   "cell_type": "code",
   "execution_count": 14,
   "metadata": {},
   "outputs": [],
   "source": [
    "m = p.getBestModel()\n",
    "fittingProblem.IO.eqns_TeX_file(m.net,filename='simpleExample_selectedModel.tex')"
   ]
  },
  {
   "cell_type": "markdown",
   "metadata": {},
   "source": [
    "More details\n",
    "------------"
   ]
  },
  {
   "cell_type": "markdown",
   "metadata": {},
   "source": [
    "We can examine the dynamics of the hidden nodes as well using plotResults."
   ]
  },
  {
   "cell_type": "code",
   "execution_count": 52,
   "metadata": {},
   "outputs": [
    {
     "name": "stderr",
     "output_type": "stream",
     "text": [
      "<string>:8: RuntimeWarning: invalid value encountered in multiply\n",
      "capi_return is NULL\n",
      "Call-back cb_res_in_daskr__user__routines failed.\n",
      "WARNING:daskr:b''\n",
      "WARNING:daskr:DASKR Error: Unrecoverable error: (34, 'Result too large')\n",
      "WARNING:ReactionNetworks.Dynamics:Integration ended prematurely in network PowerLaw_Network on node 0.\n"
     ]
    },
    {
     "name": "stdout",
     "output_type": "stream",
     "text": [
      "SloppyCellFittingModel.evaluateVec: WARNING: Exception in integration. Returning default value for all requested times.\n"
     ]
    },
    {
     "name": "stderr",
     "output_type": "stream",
     "text": [
      "<string>:8: RuntimeWarning: invalid value encountered in multiply\n",
      "capi_return is NULL\n",
      "Call-back cb_res_in_daskr__user__routines failed.\n",
      "WARNING:daskr:b''\n",
      "WARNING:daskr:DASKR Error: Unrecoverable error: (34, 'Result too large')\n",
      "WARNING:ReactionNetworks.Dynamics:Integration ended prematurely in network PowerLaw_Network on node 0.\n"
     ]
    },
    {
     "name": "stdout",
     "output_type": "stream",
     "text": [
      "SloppyCellFittingModel.evaluateVec: WARNING: Exception in integration. Returning default value for all requested times.\n"
     ]
    },
    {
     "name": "stderr",
     "output_type": "stream",
     "text": [
      "<string>:8: RuntimeWarning: invalid value encountered in multiply\n",
      "capi_return is NULL\n",
      "Call-back cb_res_in_daskr__user__routines failed.\n",
      "WARNING:daskr:b''\n",
      "WARNING:daskr:DASKR Error: Unrecoverable error: (34, 'Result too large')\n",
      "WARNING:ReactionNetworks.Dynamics:Integration ended prematurely in network PowerLaw_Network on node 0.\n"
     ]
    },
    {
     "name": "stdout",
     "output_type": "stream",
     "text": [
      "SloppyCellFittingModel.evaluateVec: WARNING: Exception in integration. Returning default value for all requested times.\n"
     ]
    },
    {
     "name": "stderr",
     "output_type": "stream",
     "text": [
      "<string>:8: RuntimeWarning: invalid value encountered in multiply\n",
      "capi_return is NULL\n",
      "Call-back cb_res_in_daskr__user__routines failed.\n",
      "WARNING:daskr:b''\n",
      "WARNING:daskr:DASKR Error: Unrecoverable error: (34, 'Result too large')\n",
      "WARNING:ReactionNetworks.Dynamics:Integration ended prematurely in network PowerLaw_Network on node 0.\n"
     ]
    },
    {
     "name": "stdout",
     "output_type": "stream",
     "text": [
      "SloppyCellFittingModel.evaluateVec: WARNING: Exception in integration. Returning default value for all requested times.\n"
     ]
    },
    {
     "name": "stderr",
     "output_type": "stream",
     "text": [
      "<string>:8: RuntimeWarning: invalid value encountered in multiply\n",
      "capi_return is NULL\n",
      "Call-back cb_res_in_daskr__user__routines failed.\n",
      "WARNING:daskr:b''\n",
      "WARNING:daskr:DASKR Error: Unrecoverable error: (34, 'Result too large')\n",
      "WARNING:ReactionNetworks.Dynamics:Integration ended prematurely in network PowerLaw_Network on node 0.\n"
     ]
    },
    {
     "name": "stdout",
     "output_type": "stream",
     "text": [
      "SloppyCellFittingModel.evaluateVec: WARNING: Exception in integration. Returning default value for all requested times.\n"
     ]
    },
    {
     "name": "stderr",
     "output_type": "stream",
     "text": [
      "<string>:8: RuntimeWarning: invalid value encountered in multiply\n",
      "capi_return is NULL\n",
      "Call-back cb_res_in_daskr__user__routines failed.\n",
      "WARNING:daskr:b''\n",
      "WARNING:daskr:DASKR Error: Unrecoverable error: (34, 'Result too large')\n",
      "WARNING:ReactionNetworks.Dynamics:Integration ended prematurely in network PowerLaw_Network on node 0.\n"
     ]
    },
    {
     "name": "stdout",
     "output_type": "stream",
     "text": [
      "SloppyCellFittingModel.evaluateVec: WARNING: Exception in integration. Returning default value for all requested times.\n"
     ]
    },
    {
     "name": "stderr",
     "output_type": "stream",
     "text": [
      "<string>:8: RuntimeWarning: invalid value encountered in multiply\n",
      "capi_return is NULL\n",
      "Call-back cb_res_in_daskr__user__routines failed.\n",
      "WARNING:daskr:b''\n",
      "WARNING:daskr:DASKR Error: Unrecoverable error: (34, 'Result too large')\n",
      "WARNING:ReactionNetworks.Dynamics:Integration ended prematurely in network PowerLaw_Network on node 0.\n"
     ]
    },
    {
     "name": "stdout",
     "output_type": "stream",
     "text": [
      "SloppyCellFittingModel.evaluateVec: WARNING: Exception in integration. Returning default value for all requested times.\n"
     ]
    },
    {
     "name": "stderr",
     "output_type": "stream",
     "text": [
      "<string>:8: RuntimeWarning: invalid value encountered in multiply\n",
      "capi_return is NULL\n",
      "Call-back cb_res_in_daskr__user__routines failed.\n",
      "WARNING:daskr:b''\n",
      "WARNING:daskr:DASKR Error: Unrecoverable error: (34, 'Result too large')\n",
      "WARNING:ReactionNetworks.Dynamics:Integration ended prematurely in network PowerLaw_Network on node 0.\n"
     ]
    },
    {
     "name": "stdout",
     "output_type": "stream",
     "text": [
      "SloppyCellFittingModel.evaluateVec: WARNING: Exception in integration. Returning default value for all requested times.\n"
     ]
    },
    {
     "name": "stderr",
     "output_type": "stream",
     "text": [
      "<string>:8: RuntimeWarning: invalid value encountered in multiply\n",
      "capi_return is NULL\n",
      "Call-back cb_res_in_daskr__user__routines failed.\n",
      "WARNING:daskr:b''\n",
      "WARNING:daskr:DASKR Error: Unrecoverable error: (34, 'Result too large')\n",
      "WARNING:ReactionNetworks.Dynamics:Integration ended prematurely in network PowerLaw_Network on node 0.\n"
     ]
    },
    {
     "name": "stdout",
     "output_type": "stream",
     "text": [
      "SloppyCellFittingModel.evaluateVec: WARNING: Exception in integration. Returning default value for all requested times.\n"
     ]
    },
    {
     "name": "stderr",
     "output_type": "stream",
     "text": [
      "<string>:8: RuntimeWarning: invalid value encountered in multiply\n",
      "capi_return is NULL\n",
      "Call-back cb_res_in_daskr__user__routines failed.\n",
      "WARNING:daskr:b''\n",
      "WARNING:daskr:DASKR Error: Unrecoverable error: (34, 'Result too large')\n",
      "WARNING:ReactionNetworks.Dynamics:Integration ended prematurely in network PowerLaw_Network on node 0.\n"
     ]
    },
    {
     "name": "stdout",
     "output_type": "stream",
     "text": [
      "SloppyCellFittingModel.evaluateVec: WARNING: Exception in integration. Returning default value for all requested times.\n"
     ]
    },
    {
     "name": "stderr",
     "output_type": "stream",
     "text": [
      "<string>:8: RuntimeWarning: invalid value encountered in multiply\n",
      "capi_return is NULL\n",
      "Call-back cb_res_in_daskr__user__routines failed.\n",
      "WARNING:daskr:b''\n",
      "WARNING:daskr:DASKR Error: Unrecoverable error: (34, 'Result too large')\n",
      "WARNING:ReactionNetworks.Dynamics:Integration ended prematurely in network PowerLaw_Network on node 0.\n"
     ]
    },
    {
     "name": "stdout",
     "output_type": "stream",
     "text": [
      "SloppyCellFittingModel.evaluateVec: WARNING: Exception in integration. Returning default value for all requested times.\n"
     ]
    },
    {
     "name": "stderr",
     "output_type": "stream",
     "text": [
      "<string>:8: RuntimeWarning: invalid value encountered in multiply\n",
      "capi_return is NULL\n",
      "Call-back cb_res_in_daskr__user__routines failed.\n",
      "WARNING:daskr:b''\n",
      "WARNING:daskr:DASKR Error: Unrecoverable error: (34, 'Result too large')\n",
      "WARNING:ReactionNetworks.Dynamics:Integration ended prematurely in network PowerLaw_Network on node 0.\n"
     ]
    },
    {
     "name": "stdout",
     "output_type": "stream",
     "text": [
      "SloppyCellFittingModel.evaluateVec: WARNING: Exception in integration. Returning default value for all requested times.\n"
     ]
    },
    {
     "name": "stderr",
     "output_type": "stream",
     "text": [
      "<string>:8: RuntimeWarning: invalid value encountered in multiply\n",
      "capi_return is NULL\n",
      "Call-back cb_res_in_daskr__user__routines failed.\n",
      "WARNING:daskr:b''\n",
      "WARNING:daskr:DASKR Error: Unrecoverable error: (34, 'Result too large')\n",
      "WARNING:ReactionNetworks.Dynamics:Integration ended prematurely in network PowerLaw_Network on node 0.\n"
     ]
    },
    {
     "name": "stdout",
     "output_type": "stream",
     "text": [
      "SloppyCellFittingModel.evaluateVec: WARNING: Exception in integration. Returning default value for all requested times.\n"
     ]
    },
    {
     "name": "stderr",
     "output_type": "stream",
     "text": [
      "<string>:8: RuntimeWarning: invalid value encountered in multiply\n",
      "capi_return is NULL\n",
      "Call-back cb_res_in_daskr__user__routines failed.\n",
      "WARNING:daskr:b''\n",
      "WARNING:daskr:DASKR Error: Unrecoverable error: (34, 'Result too large')\n",
      "WARNING:ReactionNetworks.Dynamics:Integration ended prematurely in network PowerLaw_Network on node 0.\n"
     ]
    },
    {
     "name": "stdout",
     "output_type": "stream",
     "text": [
      "SloppyCellFittingModel.evaluateVec: WARNING: Exception in integration. Returning default value for all requested times.\n"
     ]
    },
    {
     "name": "stderr",
     "output_type": "stream",
     "text": [
      "<string>:8: RuntimeWarning: invalid value encountered in multiply\n",
      "capi_return is NULL\n",
      "Call-back cb_res_in_daskr__user__routines failed.\n",
      "WARNING:daskr:b''\n",
      "WARNING:daskr:DASKR Error: Unrecoverable error: (34, 'Result too large')\n",
      "WARNING:ReactionNetworks.Dynamics:Integration ended prematurely in network PowerLaw_Network on node 0.\n"
     ]
    },
    {
     "name": "stdout",
     "output_type": "stream",
     "text": [
      "SloppyCellFittingModel.evaluateVec: WARNING: Exception in integration. Returning default value for all requested times.\n"
     ]
    },
    {
     "name": "stderr",
     "output_type": "stream",
     "text": [
      "<string>:8: RuntimeWarning: invalid value encountered in multiply\n",
      "capi_return is NULL\n",
      "Call-back cb_res_in_daskr__user__routines failed.\n",
      "WARNING:daskr:b''\n",
      "WARNING:daskr:DASKR Error: Unrecoverable error: (34, 'Result too large')\n",
      "WARNING:ReactionNetworks.Dynamics:Integration ended prematurely in network PowerLaw_Network on node 0.\n"
     ]
    },
    {
     "name": "stdout",
     "output_type": "stream",
     "text": [
      "SloppyCellFittingModel.evaluateVec: WARNING: Exception in integration. Returning default value for all requested times.\n"
     ]
    },
    {
     "name": "stderr",
     "output_type": "stream",
     "text": [
      "<string>:8: RuntimeWarning: invalid value encountered in multiply\n",
      "capi_return is NULL\n",
      "Call-back cb_res_in_daskr__user__routines failed.\n",
      "WARNING:daskr:b''\n",
      "WARNING:daskr:DASKR Error: Unrecoverable error: (34, 'Result too large')\n",
      "WARNING:ReactionNetworks.Dynamics:Integration ended prematurely in network PowerLaw_Network on node 0.\n"
     ]
    },
    {
     "name": "stdout",
     "output_type": "stream",
     "text": [
      "SloppyCellFittingModel.evaluateVec: WARNING: Exception in integration. Returning default value for all requested times.\n"
     ]
    },
    {
     "name": "stderr",
     "output_type": "stream",
     "text": [
      "<string>:8: RuntimeWarning: invalid value encountered in multiply\n",
      "capi_return is NULL\n",
      "Call-back cb_res_in_daskr__user__routines failed.\n",
      "WARNING:daskr:b''\n",
      "WARNING:daskr:DASKR Error: Unrecoverable error: (34, 'Result too large')\n",
      "WARNING:ReactionNetworks.Dynamics:Integration ended prematurely in network PowerLaw_Network on node 0.\n"
     ]
    },
    {
     "name": "stdout",
     "output_type": "stream",
     "text": [
      "SloppyCellFittingModel.evaluateVec: WARNING: Exception in integration. Returning default value for all requested times.\n"
     ]
    },
    {
     "name": "stderr",
     "output_type": "stream",
     "text": [
      "<string>:8: RuntimeWarning: invalid value encountered in multiply\n",
      "capi_return is NULL\n",
      "Call-back cb_res_in_daskr__user__routines failed.\n",
      "WARNING:daskr:b''\n",
      "WARNING:daskr:DASKR Error: Unrecoverable error: (34, 'Result too large')\n",
      "WARNING:ReactionNetworks.Dynamics:Integration ended prematurely in network PowerLaw_Network on node 0.\n"
     ]
    },
    {
     "name": "stdout",
     "output_type": "stream",
     "text": [
      "SloppyCellFittingModel.evaluateVec: WARNING: Exception in integration. Returning default value for all requested times.\n"
     ]
    },
    {
     "name": "stderr",
     "output_type": "stream",
     "text": [
      "<string>:8: RuntimeWarning: invalid value encountered in multiply\n",
      "capi_return is NULL\n",
      "Call-back cb_res_in_daskr__user__routines failed.\n",
      "WARNING:daskr:b''\n",
      "WARNING:daskr:DASKR Error: Unrecoverable error: (34, 'Result too large')\n",
      "WARNING:ReactionNetworks.Dynamics:Integration ended prematurely in network PowerLaw_Network on node 0.\n"
     ]
    },
    {
     "name": "stdout",
     "output_type": "stream",
     "text": [
      "SloppyCellFittingModel.evaluateVec: WARNING: Exception in integration. Returning default value for all requested times.\n"
     ]
    },
    {
     "name": "stderr",
     "output_type": "stream",
     "text": [
      "<string>:8: RuntimeWarning: invalid value encountered in multiply\n",
      "capi_return is NULL\n",
      "Call-back cb_res_in_daskr__user__routines failed.\n",
      "WARNING:daskr:b''\n",
      "WARNING:daskr:DASKR Error: Unrecoverable error: (34, 'Result too large')\n",
      "WARNING:ReactionNetworks.Dynamics:Integration ended prematurely in network PowerLaw_Network on node 0.\n"
     ]
    },
    {
     "name": "stdout",
     "output_type": "stream",
     "text": [
      "SloppyCellFittingModel.evaluateVec: WARNING: Exception in integration. Returning default value for all requested times.\n"
     ]
    },
    {
     "name": "stderr",
     "output_type": "stream",
     "text": [
      "<string>:8: RuntimeWarning: invalid value encountered in multiply\n",
      "capi_return is NULL\n",
      "Call-back cb_res_in_daskr__user__routines failed.\n",
      "WARNING:daskr:b''\n",
      "WARNING:daskr:DASKR Error: Unrecoverable error: (34, 'Result too large')\n",
      "WARNING:ReactionNetworks.Dynamics:Integration ended prematurely in network PowerLaw_Network on node 0.\n"
     ]
    },
    {
     "name": "stdout",
     "output_type": "stream",
     "text": [
      "SloppyCellFittingModel.evaluateVec: WARNING: Exception in integration. Returning default value for all requested times.\n"
     ]
    },
    {
     "name": "stderr",
     "output_type": "stream",
     "text": [
      "<string>:8: RuntimeWarning: invalid value encountered in multiply\n",
      "capi_return is NULL\n",
      "Call-back cb_res_in_daskr__user__routines failed.\n",
      "WARNING:daskr:b''\n",
      "WARNING:daskr:DASKR Error: Unrecoverable error: (34, 'Result too large')\n",
      "WARNING:ReactionNetworks.Dynamics:Integration ended prematurely in network PowerLaw_Network on node 0.\n"
     ]
    },
    {
     "name": "stdout",
     "output_type": "stream",
     "text": [
      "SloppyCellFittingModel.evaluateVec: WARNING: Exception in integration. Returning default value for all requested times.\n"
     ]
    },
    {
     "name": "stderr",
     "output_type": "stream",
     "text": [
      "<string>:8: RuntimeWarning: invalid value encountered in multiply\n",
      "capi_return is NULL\n",
      "Call-back cb_res_in_daskr__user__routines failed.\n",
      "WARNING:daskr:b''\n",
      "WARNING:daskr:DASKR Error: Unrecoverable error: (34, 'Result too large')\n",
      "WARNING:ReactionNetworks.Dynamics:Integration ended prematurely in network PowerLaw_Network on node 0.\n"
     ]
    },
    {
     "name": "stdout",
     "output_type": "stream",
     "text": [
      "SloppyCellFittingModel.evaluateVec: WARNING: Exception in integration. Returning default value for all requested times.\n"
     ]
    },
    {
     "name": "stderr",
     "output_type": "stream",
     "text": [
      "<string>:8: RuntimeWarning: invalid value encountered in multiply\n",
      "capi_return is NULL\n",
      "Call-back cb_res_in_daskr__user__routines failed.\n",
      "WARNING:daskr:b''\n",
      "WARNING:daskr:DASKR Error: Unrecoverable error: (34, 'Result too large')\n",
      "WARNING:ReactionNetworks.Dynamics:Integration ended prematurely in network PowerLaw_Network on node 0.\n"
     ]
    },
    {
     "name": "stdout",
     "output_type": "stream",
     "text": [
      "SloppyCellFittingModel.evaluateVec: WARNING: Exception in integration. Returning default value for all requested times.\n"
     ]
    },
    {
     "name": "stderr",
     "output_type": "stream",
     "text": [
      "<string>:8: RuntimeWarning: invalid value encountered in multiply\n",
      "capi_return is NULL\n",
      "Call-back cb_res_in_daskr__user__routines failed.\n",
      "WARNING:daskr:b''\n",
      "WARNING:daskr:DASKR Error: Unrecoverable error: (34, 'Result too large')\n",
      "WARNING:ReactionNetworks.Dynamics:Integration ended prematurely in network PowerLaw_Network on node 0.\n"
     ]
    },
    {
     "name": "stdout",
     "output_type": "stream",
     "text": [
      "SloppyCellFittingModel.evaluateVec: WARNING: Exception in integration. Returning default value for all requested times.\n"
     ]
    },
    {
     "name": "stderr",
     "output_type": "stream",
     "text": [
      "<string>:8: RuntimeWarning: invalid value encountered in multiply\n",
      "capi_return is NULL\n",
      "Call-back cb_res_in_daskr__user__routines failed.\n",
      "WARNING:daskr:b''\n",
      "WARNING:daskr:DASKR Error: Unrecoverable error: (34, 'Result too large')\n",
      "WARNING:ReactionNetworks.Dynamics:Integration ended prematurely in network PowerLaw_Network on node 0.\n"
     ]
    },
    {
     "name": "stdout",
     "output_type": "stream",
     "text": [
      "SloppyCellFittingModel.evaluateVec: WARNING: Exception in integration. Returning default value for all requested times.\n"
     ]
    },
    {
     "name": "stderr",
     "output_type": "stream",
     "text": [
      "<string>:8: RuntimeWarning: invalid value encountered in multiply\n",
      "capi_return is NULL\n",
      "Call-back cb_res_in_daskr__user__routines failed.\n",
      "WARNING:daskr:b''\n",
      "WARNING:daskr:DASKR Error: Unrecoverable error: (34, 'Result too large')\n",
      "WARNING:ReactionNetworks.Dynamics:Integration ended prematurely in network PowerLaw_Network on node 0.\n"
     ]
    },
    {
     "name": "stdout",
     "output_type": "stream",
     "text": [
      "SloppyCellFittingModel.evaluateVec: WARNING: Exception in integration. Returning default value for all requested times.\n"
     ]
    },
    {
     "name": "stderr",
     "output_type": "stream",
     "text": [
      "<string>:8: RuntimeWarning: invalid value encountered in multiply\n",
      "capi_return is NULL\n",
      "Call-back cb_res_in_daskr__user__routines failed.\n",
      "WARNING:daskr:b''\n",
      "WARNING:daskr:DASKR Error: Unrecoverable error: (34, 'Result too large')\n",
      "WARNING:ReactionNetworks.Dynamics:Integration ended prematurely in network PowerLaw_Network on node 0.\n"
     ]
    },
    {
     "name": "stdout",
     "output_type": "stream",
     "text": [
      "SloppyCellFittingModel.evaluateVec: WARNING: Exception in integration. Returning default value for all requested times.\n"
     ]
    },
    {
     "name": "stderr",
     "output_type": "stream",
     "text": [
      "<string>:8: RuntimeWarning: invalid value encountered in multiply\n",
      "capi_return is NULL\n",
      "Call-back cb_res_in_daskr__user__routines failed.\n",
      "WARNING:daskr:b''\n",
      "WARNING:daskr:DASKR Error: Unrecoverable error: (34, 'Result too large')\n",
      "WARNING:ReactionNetworks.Dynamics:Integration ended prematurely in network PowerLaw_Network on node 0.\n"
     ]
    },
    {
     "name": "stdout",
     "output_type": "stream",
     "text": [
      "SloppyCellFittingModel.evaluateVec: WARNING: Exception in integration. Returning default value for all requested times.\n"
     ]
    },
    {
     "data": {
      "image/png": "[encoded data removed]",
      "text/plain": [
       "<Figure size 1440x432 with 30 Axes>"
      ]
     },
     "metadata": {
      "needs_background": "light"
     },
     "output_type": "display_data"
    }
   ],
   "source": [
    "# new\n",
    "plt.figure(figsize=(20,6))\n",
    "m = p.getBestModel()\n",
    "m.plotResults(p.fittingData[:10],p.indepParamsList[:10],\n",
    "              plotInitialConditions=True,plotHiddenNodes=True);"
   ]
  },
  {
   "cell_type": "code",
   "execution_count": 15,
   "metadata": {},
   "outputs": [
    {
     "data": {
      "image/png": "[encoded data removed]",
      "text/plain": [
       "<matplotlib.figure.Figure at 0x109cf39d0>"
      ]
     },
     "metadata": {},
     "output_type": "display_data"
    }
   ],
   "source": [
    "# old\n",
    "plt.figure(figsize=(20,6))\n",
    "m = p.getBestModel()\n",
    "m.plotResults(p.fittingData[:10],p.indepParamsList[:10],\n",
    "              plotInitialConditions=True,plotHiddenNodes=True);"
   ]
  },
  {
   "cell_type": "markdown",
   "metadata": {},
   "source": [
    "We have access to raw trajectories using evaluateVec.  Here we use this to plot a projection of trajectories in phase space for the first in-sample initial conditions:"
   ]
  },
  {
   "cell_type": "code",
   "execution_count": 38,
   "metadata": {},
   "outputs": [
    {
     "name": "stderr",
     "output_type": "stream",
     "text": [
      "<string>:8: RuntimeWarning: invalid value encountered in multiply\n"
     ]
    },
    {
     "data": {
      "text/plain": [
       "Text(0, 0.5, 'X_1')"
      ]
     },
     "execution_count": 38,
     "metadata": {},
     "output_type": "execute_result"
    },
    {
     "data": {
      "image/png": "[encoded data removed]",
      "text/plain": [
       "<Figure size 288x288 with 1 Axes>"
      ]
     },
     "metadata": {
      "needs_background": "light"
     },
     "output_type": "display_data"
    }
   ],
   "source": [
    "# new\n",
    "plt.figure(figsize=(4,4))\n",
    "times = np.linspace(0,1,1000)\n",
    "xdata = m.evaluateVec(times,'x',p.indepParamsList[0])\n",
    "X1data = m.evaluateVec(times,'X_1',p.indepParamsList[0])\n",
    "fittingProblem.Plotting.plot(xdata,X1data)\n",
    "plt.xlabel('x')\n",
    "plt.ylabel('X_1')"
   ]
  },
  {
   "cell_type": "code",
   "execution_count": 16,
   "metadata": {},
   "outputs": [
    {
     "data": {
      "text/plain": [
       "<matplotlib.text.Text at 0x10a385b10>"
      ]
     },
     "execution_count": 16,
     "metadata": {},
     "output_type": "execute_result"
    },
    {
     "data": {
      "image/png": "[encoded data removed]",
      "text/plain": [
       "<matplotlib.figure.Figure at 0x10a33b750>"
      ]
     },
     "metadata": {},
     "output_type": "display_data"
    }
   ],
   "source": [
    "# old\n",
    "plt.figure(figsize=(4,4))\n",
    "times = np.linspace(0,1,1000)\n",
    "xdata = m.evaluateVec(times,'x',p.indepParamsList[0])\n",
    "X1data = m.evaluateVec(times,'X_1',p.indepParamsList[0])\n",
    "fittingProblem.Plotting.plot(xdata,X1data)\n",
    "plt.xlabel('x')\n",
    "plt.ylabel('X_1')"
   ]
  },
  {
   "cell_type": "markdown",
   "metadata": {},
   "source": [
    "We can also look at other models that SirIsaac fit in searching for the best one.  In this case, 'Model 6' was selected because it has the largest estimated log-likelihood:"
   ]
  },
  {
   "cell_type": "code",
   "execution_count": 17,
   "metadata": {},
   "outputs": [
    {
     "name": "stdout",
     "output_type": "stream",
     "text": [
      "Model 1: #species = 1, #params = 2, L = -224.07812402405025\n",
      "Model 2: #species = 1, #params = 4, L = -139.09319873032885\n",
      "Model 3: #species = 2, #params = 7, L = -139.09634792180532\n",
      "Model 4: #species = 2, #params = 9, L = -66.80412291995628\n",
      "Model 5: #species = 2, #params = 11, L = -60.76991789955318\n",
      "Model 6: #species = 3, #params = 14, L = -61.45186316541741\n",
      "Model 7: #species = 3, #params = 16, L = -44.06032152588135\n",
      "Model 8: #species = 3, #params = 18, L = -52.66083032782883\n",
      "Model 9: #species = 3, #params = 20, L = -47.889531257391404\n",
      "Model 10: #species = 3, #params = 22, L = -48.31761103938211\n",
      "\n",
      "Selected model: Model 7\n"
     ]
    }
   ],
   "source": [
    "# new \n",
    "for name in p.fittingModelNames:\n",
    "  if name in p.logLikelihoodDict.keys():\n",
    "    print('{}: #species = {}, #params = {}, L = {}'.format(name,\n",
    "            len(p.fittingModelDict[name].speciesNames),\n",
    "            p.numParametersDict[name],\n",
    "            p.logLikelihoodDict[name]))\n",
    "print()\n",
    "print('Selected model:',p.maxLogLikelihoodName())"
   ]
  },
  {
   "cell_type": "code",
   "execution_count": 17,
   "metadata": {},
   "outputs": [
    {
     "name": "stdout",
     "output_type": "stream",
     "text": [
      "Model 1 : #species = 1 , #params = 2 , L = -224.07812402405023\n",
      "Model 2 : #species = 1 , #params = 4 , L = -139.0931987303462\n",
      "Model 3 : #species = 2 , #params = 7 , L = -139.09634792180137\n",
      "Model 4 : #species = 2 , #params = 9 , L = -66.80402759455359\n",
      "Model 5 : #species = 2 , #params = 11 , L = -60.71246311542691\n",
      "Model 6 : #species = 3 , #params = 14 , L = -46.232353901020495\n",
      "Model 7 : #species = 3 , #params = 16 , L = -48.75294182446126\n",
      "Model 8 : #species = 3 , #params = 18 , L = -55.785711936594325\n",
      "Model 9 : #species = 3 , #params = 20 , L = -61.47738413001833\n",
      "\n",
      "Selected model: Model 6\n"
     ]
    }
   ],
   "source": [
    "# old\n",
    "for name in p.fittingModelNames:\n",
    "  if name in p.logLikelihoodDict.keys():\n",
    "    print('{}: #species = {}, #params = {}, L = {}'.format(name,\n",
    "            len(p.fittingModelDict[name].speciesNames),\n",
    "            p.numParametersDict[name],\n",
    "            p.logLikelihoodDict[name]))\n",
    "print()\n",
    "print('Selected model:',p.maxLogLikelihoodName())"
   ]
  },
  {
   "cell_type": "markdown",
   "metadata": {},
   "source": [
    "A model with more parameters fits in-sample data better but out-of-sample data worse:"
   ]
  },
  {
   "cell_type": "code",
   "execution_count": 34,
   "metadata": {},
   "outputs": [
    {
     "name": "stderr",
     "output_type": "stream",
     "text": [
      "<string>:8: RuntimeWarning: invalid value encountered in multiply\n",
      "<string>:8: RuntimeWarning: invalid value encountered in multiply\n",
      "<string>:8: RuntimeWarning: invalid value encountered in multiply\n",
      "<string>:8: RuntimeWarning: invalid value encountered in multiply\n",
      "<string>:8: RuntimeWarning: invalid value encountered in multiply\n",
      "<string>:8: RuntimeWarning: invalid value encountered in multiply\n",
      "capi_return is NULL\n",
      "Call-back cb_res_in_daskr__user__routines failed.\n",
      "WARNING:daskr:b''\n",
      "WARNING:daskr:DASKR Error: Unrecoverable error: can't convert complex to float\n",
      "WARNING:ReactionNetworks.Dynamics:Integration ended prematurely in network PowerLaw_Network on node 0.\n"
     ]
    },
    {
     "name": "stdout",
     "output_type": "stream",
     "text": [
      "SloppyCellFittingModel.evaluateVec: WARNING: Exception in integration. Returning default value for all requested times.\n"
     ]
    },
    {
     "name": "stderr",
     "output_type": "stream",
     "text": [
      "<string>:8: RuntimeWarning: invalid value encountered in multiply\n",
      "<string>:8: RuntimeWarning: invalid value encountered in multiply\n",
      "<string>:8: RuntimeWarning: invalid value encountered in multiply\n",
      "<string>:8: RuntimeWarning: invalid value encountered in multiply\n"
     ]
    },
    {
     "data": {
      "image/png": "[encoded data removed]",
      "text/plain": [
       "<Figure size 1440x144 with 10 Axes>"
      ]
     },
     "metadata": {
      "needs_background": "light"
     },
     "output_type": "display_data"
    }
   ],
   "source": [
    "# new\n",
    "plt.figure(figsize=(20,2))\n",
    "m2 = p.fittingModelDict['Model 9']\n",
    "m2.plotResults(sirIsaacData[:10],indepParamsList[:10],\n",
    "              plotInitialConditions=True,plotFittingData=True);"
   ]
  },
  {
   "cell_type": "code",
   "execution_count": 18,
   "metadata": {},
   "outputs": [
    {
     "data": {
      "image/png": "[encoded data removed]",
      "text/plain": [
       "<matplotlib.figure.Figure at 0x10a33bad0>"
      ]
     },
     "metadata": {},
     "output_type": "display_data"
    }
   ],
   "source": [
    "# old\n",
    "plt.figure(figsize=(20,2))\n",
    "m2 = p.fittingModelDict['Model 9']\n",
    "m2.plotResults(sirIsaacData[:10],indepParamsList[:10],\n",
    "              plotInitialConditions=True,plotFittingData=True);"
   ]
  },
  {
   "cell_type": "code",
   "execution_count": 19,
   "metadata": {},
   "outputs": [
    {
     "data": {
      "image/png": "[encoded data removed]",
      "text/plain": [
       "<matplotlib.figure.Figure at 0x108ea4690>"
      ]
     },
     "metadata": {},
     "output_type": "display_data"
    }
   ],
   "source": [
    "plt.figure(figsize=(20,2))\n",
    "m2.plotResults(sirIsaacData[30:40],indepParamsList[30:40],\n",
    "              plotInitialConditions=True,plotFittingData=True);"
   ]
  },
  {
   "cell_type": "markdown",
   "metadata": {},
   "source": [
    "Also potentially useful is the Hessian at the best-fit parameters:"
   ]
  },
  {
   "cell_type": "code",
   "execution_count": 37,
   "metadata": {},
   "outputs": [
    {
     "data": {
      "text/plain": [
       "array([1.14037391e-01, 1.27548095e-01, 1.39678670e-01, 1.68463433e-01,\n",
       "       2.33377605e-01, 3.64725065e-01, 1.21800507e+00, 2.05597596e+00,\n",
       "       3.46145870e+00, 9.41089981e+00, 2.28763794e+01, 3.77711451e+01,\n",
       "       1.71423348e+02, 2.57567987e+03, 1.26361944e+04, 1.70934314e+05])"
      ]
     },
     "execution_count": 37,
     "metadata": {},
     "output_type": "execute_result"
    }
   ],
   "source": [
    "# new\n",
    "hess = p.HessianDict[p.maxLogLikelihoodName()]\n",
    "u,singVals,vt = np.linalg.svd( hess )\n",
    "np.sort(singVals)"
   ]
  },
  {
   "cell_type": "code",
   "execution_count": 20,
   "metadata": {},
   "outputs": [
    {
     "data": {
      "text/plain": [
       "array([1.11111111e-01, 1.11111111e-01, 1.26611990e-01, 1.46913301e-01,\n",
       "       2.67699534e-01, 1.05570785e+00, 1.16739326e+00, 7.83431246e+00,\n",
       "       1.76391726e+01, 3.02708880e+01, 1.75268088e+02, 7.55975517e+02,\n",
       "       1.89813671e+04, 5.22043947e+04])"
      ]
     },
     "execution_count": 20,
     "metadata": {},
     "output_type": "execute_result"
    }
   ],
   "source": [
    "# old\n",
    "hess = p.HessianDict[p.maxLogLikelihoodName()]\n",
    "u,singVals,vt = scipy.linalg.svd( hess )\n",
    "scipy.sort(singVals)"
   ]
  },
  {
   "cell_type": "markdown",
   "metadata": {},
   "source": [
    "Other details about what happened during parameter fitting are stored within each fittingModel:"
   ]
  },
  {
   "cell_type": "code",
   "execution_count": 33,
   "metadata": {},
   "outputs": [
    {
     "name": "stdout",
     "output_type": "stream",
     "text": [
      "Acceptance ratio for initial parameter ensemble = 0.833\n",
      "Sum of squared residuals at best-fit (without priors) = 16.691250150746455\n",
      "Convergence flags for local fits: [1, 0, 0, 0, 0, 1, 0, 0, 0, 1]\n",
      "Number of cost evaluations for local fits: [187, 307, 304, 315, 341, 343, 330, 309, 316, 14]\n",
      "Number of gradient evaluations for local fits: [49, 101, 101, 101, 101, 93, 101, 101, 101, 1]\n"
     ]
    }
   ],
   "source": [
    "# new\n",
    "m = p.getBestModel()\n",
    "print(\"Acceptance ratio for initial parameter ensemble = {}\".format(m.acceptanceRatio))\n",
    "c = sum(np.array(m.currentResiduals(p.fittingData,p.indepParamsList,includePriors=False))**2)\n",
    "print(\"Sum of squared residuals at best-fit (without priors) = {}\".format(c))\n",
    "print(\"Convergence flags for local fits: {}\".format(m.convFlagList))\n",
    "print(\"Number of cost evaluations for local fits: {}\".format(m.numCostCallsList))\n",
    "print(\"Number of gradient evaluations for local fits: {}\".format(m.numGradCallsList))"
   ]
  },
  {
   "cell_type": "code",
   "execution_count": 21,
   "metadata": {},
   "outputs": [
    {
     "name": "stdout",
     "output_type": "stream",
     "text": [
      "Acceptance ratio for initial parameter ensemble = 0.95\n",
      "Sum of squared residuals at best-fit (without priors) = 18.848587040639458\n",
      "Convergence flags for local fits: [0, 4, 2, 0, 0, 1, 1, 4, 3, 0]\n",
      "Number of cost evaluations for local fits: [309, 77, 80, 312, 330, 162, 248, 170, 81, 342]\n",
      "Number of gradient evaluations for local fits: [101, 25, 25, 101, 101, 43, 71, 56, 26, 101]\n"
     ]
    }
   ],
   "source": [
    "m = p.getBestModel()\n",
    "print(\"Acceptance ratio for initial parameter ensemble = {}\".format(m.acceptanceRatio))\n",
    "c = sum(scipy.array(m.currentResiduals(p.fittingData,p.indepParamsList,includePriors=False))**2)\n",
    "print(\"Sum of squared residuals at best-fit (without priors) = {}\".format(c))\n",
    "print(\"Convergence flags for local fits: {}\".format(m.convFlagList))\n",
    "print(\"Number of cost evaluations for local fits: {}\".format(m.numCostCallsList))\n",
    "print(\"Number of gradient evaluations for local fits: {}\".format(m.numGradCallsList))"
   ]
  },
  {
   "cell_type": "markdown",
   "metadata": {},
   "source": [
    "Finally, since in this case we know the function used to create the data, we can compare:"
   ]
  },
  {
   "cell_type": "code",
   "execution_count": 51,
   "metadata": {},
   "outputs": [
    {
     "name": "stderr",
     "output_type": "stream",
     "text": [
      "<string>:8: RuntimeWarning: invalid value encountered in multiply\n",
      "capi_return is NULL\n",
      "Call-back cb_res_in_daskr__user__routines failed.\n",
      "WARNING:daskr:b''\n",
      "WARNING:daskr:DASKR Error: Unrecoverable error: (34, 'Result too large')\n",
      "WARNING:ReactionNetworks.Dynamics:Integration ended prematurely in network PowerLaw_Network on node 0.\n"
     ]
    },
    {
     "name": "stdout",
     "output_type": "stream",
     "text": [
      "SloppyCellFittingModel.evaluateVec: WARNING: Exception in integration. Returning default value for all requested times.\n"
     ]
    },
    {
     "name": "stderr",
     "output_type": "stream",
     "text": [
      "<string>:8: RuntimeWarning: invalid value encountered in multiply\n",
      "capi_return is NULL\n",
      "Call-back cb_res_in_daskr__user__routines failed.\n",
      "WARNING:daskr:b''\n",
      "WARNING:daskr:DASKR Error: Unrecoverable error: (34, 'Result too large')\n",
      "WARNING:ReactionNetworks.Dynamics:Integration ended prematurely in network PowerLaw_Network on node 0.\n"
     ]
    },
    {
     "name": "stdout",
     "output_type": "stream",
     "text": [
      "SloppyCellFittingModel.evaluateVec: WARNING: Exception in integration. Returning default value for all requested times.\n"
     ]
    },
    {
     "name": "stderr",
     "output_type": "stream",
     "text": [
      "<string>:8: RuntimeWarning: invalid value encountered in multiply\n",
      "capi_return is NULL\n",
      "Call-back cb_res_in_daskr__user__routines failed.\n",
      "WARNING:daskr:b''\n",
      "WARNING:daskr:DASKR Error: Unrecoverable error: (34, 'Result too large')\n",
      "WARNING:ReactionNetworks.Dynamics:Integration ended prematurely in network PowerLaw_Network on node 0.\n"
     ]
    },
    {
     "name": "stdout",
     "output_type": "stream",
     "text": [
      "SloppyCellFittingModel.evaluateVec: WARNING: Exception in integration. Returning default value for all requested times.\n"
     ]
    },
    {
     "name": "stderr",
     "output_type": "stream",
     "text": [
      "<string>:8: RuntimeWarning: invalid value encountered in multiply\n",
      "capi_return is NULL\n",
      "Call-back cb_res_in_daskr__user__routines failed.\n",
      "WARNING:daskr:b''\n",
      "WARNING:daskr:DASKR Error: Unrecoverable error: (34, 'Result too large')\n",
      "WARNING:ReactionNetworks.Dynamics:Integration ended prematurely in network PowerLaw_Network on node 0.\n"
     ]
    },
    {
     "name": "stdout",
     "output_type": "stream",
     "text": [
      "SloppyCellFittingModel.evaluateVec: WARNING: Exception in integration. Returning default value for all requested times.\n"
     ]
    },
    {
     "name": "stderr",
     "output_type": "stream",
     "text": [
      "<string>:8: RuntimeWarning: invalid value encountered in multiply\n",
      "capi_return is NULL\n",
      "Call-back cb_res_in_daskr__user__routines failed.\n",
      "WARNING:daskr:b''\n",
      "WARNING:daskr:DASKR Error: Unrecoverable error: (34, 'Result too large')\n",
      "WARNING:ReactionNetworks.Dynamics:Integration ended prematurely in network PowerLaw_Network on node 0.\n"
     ]
    },
    {
     "name": "stdout",
     "output_type": "stream",
     "text": [
      "SloppyCellFittingModel.evaluateVec: WARNING: Exception in integration. Returning default value for all requested times.\n"
     ]
    },
    {
     "data": {
      "image/png": "[encoded data removed]",
      "text/plain": [
       "<Figure size 1440x144 with 5 Axes>"
      ]
     },
     "metadata": {
      "needs_background": "light"
     },
     "output_type": "display_data"
    }
   ],
   "source": [
    "plt.figure(figsize=(20,2))\n",
    "indicesToPlot = range(5)\n",
    "axArray = p.plotBestModelResults(plotInitialConditions=True,indices=indicesToPlot)\n",
    "\n",
    "# compare to model that generated the data\n",
    "f = lambda x0,t: 1.5 + 0.5*np.sin(4.*np.pi*t + np.arcsin(2.*x0 - 3.))\n",
    "for i,indepParams in enumerate(np.array(indepParamsList)[indicesToPlot]):\n",
    "    times = np.linspace(0,1,100)\n",
    "    x0 = indepParams[0]\n",
    "    fittingProblem.Plotting.sca(axArray[0][i])\n",
    "    fittingProblem.Plotting.plot(times,f(x0,times),'k:')"
   ]
  },
  {
   "cell_type": "code",
   "execution_count": null,
   "metadata": {},
   "outputs": [],
   "source": []
  }
 ],
 "metadata": {
  "kernelspec": {
   "display_name": "Python 3 (ipykernel)",
   "language": "python",
   "name": "python3"
  },
  "language_info": {
   "codemirror_mode": {
    "name": "ipython",
    "version": 3
   },
   "file_extension": ".py",
   "mimetype": "text/x-python",
   "name": "python",
   "nbconvert_exporter": "python",
   "pygments_lexer": "ipython3",
   "version": "3.8.11"
  }
 },
 "nbformat": 4,
 "nbformat_minor": 1
}
